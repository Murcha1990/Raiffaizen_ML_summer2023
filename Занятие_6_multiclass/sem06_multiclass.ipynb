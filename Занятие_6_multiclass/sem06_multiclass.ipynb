{
  "nbformat": 4,
  "nbformat_minor": 0,
  "metadata": {
    "colab": {
      "provenance": [],
      "include_colab_link": true
    },
    "kernelspec": {
      "name": "python3",
      "display_name": "Python 3"
    },
    "language_info": {
      "name": "python"
    }
  },
  "cells": [
    {
      "cell_type": "markdown",
      "metadata": {
        "id": "view-in-github",
        "colab_type": "text"
      },
      "source": [
        "<a href=\"https://colab.research.google.com/github/Murcha1990/Raiffaizen_ML_summer2023/blob/main/%D0%97%D0%B0%D0%BD%D1%8F%D1%82%D0%B8%D0%B5_6_multiclass/sem06_multiclass.ipynb\" target=\"_parent\"><img src=\"https://colab.research.google.com/assets/colab-badge.svg\" alt=\"Open In Colab\"/></a>"
      ]
    },
    {
      "cell_type": "markdown",
      "source": [
        "# Многоклассовая классификация"
      ],
      "metadata": {
        "id": "hfGO9T5wwrqv"
      }
    },
    {
      "cell_type": "markdown",
      "source": [
        "## Импорт библиотек, установка константных значений, загрузка данных"
      ],
      "metadata": {
        "id": "ygVE11RK0_TO"
      }
    },
    {
      "cell_type": "code",
      "source": [
        "from sklearn.datasets import load_iris\n",
        "from sklearn.model_selection import train_test_split\n",
        "from sklearn.linear_model import LogisticRegression\n",
        "from sklearn.metrics import accuracy_score\n",
        "from sklearn.metrics import classification_report"
      ],
      "metadata": {
        "id": "pllDAEPT1EM8"
      },
      "execution_count": null,
      "outputs": []
    },
    {
      "cell_type": "code",
      "execution_count": null,
      "metadata": {
        "id": "cFzSTYFPwDvk"
      },
      "outputs": [],
      "source": [
        "RANDOM_STATE = 42\n",
        "TRAIN_SIZE = 0.75"
      ]
    },
    {
      "cell_type": "code",
      "source": [
        "data = load_iris(as_frame=True)\n",
        "\n",
        "X = data.data\n",
        "y = data.target"
      ],
      "metadata": {
        "id": "BdqmTY1X1I-o"
      },
      "execution_count": null,
      "outputs": []
    },
    {
      "cell_type": "markdown",
      "source": [
        "## Практика"
      ],
      "metadata": {
        "id": "HPu2dgVi1PW5"
      }
    },
    {
      "cell_type": "markdown",
      "source": [
        "Посмотрим на целевую переменную."
      ],
      "metadata": {
        "id": "_sS1HQFgw_s7"
      }
    },
    {
      "cell_type": "code",
      "source": [
        "y.value_counts()"
      ],
      "metadata": {
        "colab": {
          "base_uri": "https://localhost:8080/"
        },
        "id": "Cqo-79NCwy1f",
        "outputId": "cf83c097-5712-4870-8e2a-1810d5eafb76"
      },
      "execution_count": null,
      "outputs": [
        {
          "output_type": "execute_result",
          "data": {
            "text/plain": [
              "0    50\n",
              "1    50\n",
              "2    50\n",
              "Name: target, dtype: int64"
            ]
          },
          "metadata": {},
          "execution_count": 4
        }
      ]
    },
    {
      "cell_type": "markdown",
      "source": [
        "Разобъем данные на тренировочную и тестовую части."
      ],
      "metadata": {
        "id": "VicuGcUAxDxE"
      }
    },
    {
      "cell_type": "code",
      "source": [
        "X_train, X_test, y_train, y_test = train_test_split(X, y,\n",
        "                                                    train_size=TRAIN_SIZE,\n",
        "                                                    random_state=RANDOM_STATE)\n",
        "\n",
        "X_train.shape, X_test.shape"
      ],
      "metadata": {
        "id": "BdMu5izOxCG4",
        "colab": {
          "base_uri": "https://localhost:8080/"
        },
        "outputId": "8ce0fab2-57d8-40f1-962d-19daa98a2a42"
      },
      "execution_count": null,
      "outputs": [
        {
          "output_type": "execute_result",
          "data": {
            "text/plain": [
              "((112, 4), (38, 4))"
            ]
          },
          "metadata": {},
          "execution_count": 5
        }
      ]
    },
    {
      "cell_type": "markdown",
      "source": [
        "Применим логистическую регрессию для решения задачи.\n",
        "\n",
        "У этой модели есть гиперпараметр `multi_class`, который может принимать значения:\n",
        "* `ovr`\n",
        "* `multinomial`\n",
        "\n",
        "`ovr` - это сведение многоклассовой задаче к серии бинарных методом `one-versus-rest`\n",
        "\n",
        "`multinomial` - это решение исходной задачи путем обобщения функции потерь логистической регрессии на многоклассовый случай (в многоклассовом случае используется функция потерь под названием [кросс-энтропия](https://en.wikipedia.org/wiki/Logistic_regression)).\n"
      ],
      "metadata": {
        "id": "fL_PL6ZWxTVs"
      }
    },
    {
      "cell_type": "markdown",
      "source": [
        "Сначала используем опцию `ovr`.  \n",
        "Обучим модель на тренировочных данных, сделаем предсказания на тесте и оценим качество по метрике *accuracy*."
      ],
      "metadata": {
        "id": "Ztq6tzfUyJ2b"
      }
    },
    {
      "cell_type": "code",
      "source": [
        "model_ovr = LogisticRegression(multi_class='ovr')\n",
        "\n",
        "model_ovr.fit(X_train, y_train)\n",
        "\n",
        "pred_ovr = model_ovr.predict(X_test)\n",
        "\n",
        "accuracy_score(y_test, pred_ovr)"
      ],
      "metadata": {
        "colab": {
          "base_uri": "https://localhost:8080/"
        },
        "id": "ky9LiE7rxS8l",
        "outputId": "28653d7d-526c-48d2-bf43-94b0050f3df2"
      },
      "execution_count": null,
      "outputs": [
        {
          "output_type": "execute_result",
          "data": {
            "text/plain": [
              "0.9736842105263158"
            ]
          },
          "metadata": {},
          "execution_count": 6
        }
      ]
    },
    {
      "cell_type": "markdown",
      "source": [
        "Теперь используем подход `multinomial`."
      ],
      "metadata": {
        "id": "iEVMhgluygg5"
      }
    },
    {
      "cell_type": "code",
      "source": [
        "model_mn = LogisticRegression(multi_class='multinomial', max_iter=1000)\n",
        "\n",
        "model_mn.fit(X_train, y_train)\n",
        "\n",
        "pred_mn = model_mn.predict(X_test)\n",
        "\n",
        "accuracy_score(y_test, pred_mn)"
      ],
      "metadata": {
        "id": "GkJTi20tydnd",
        "colab": {
          "base_uri": "https://localhost:8080/"
        },
        "outputId": "8204fd2c-13d2-4067-85bc-80eef80afd85"
      },
      "execution_count": null,
      "outputs": [
        {
          "output_type": "execute_result",
          "data": {
            "text/plain": [
              "1.0"
            ]
          },
          "metadata": {},
          "execution_count": 7
        }
      ]
    },
    {
      "cell_type": "markdown",
      "source": [
        "Подход с опцией `multinomial` сработал в этой задаче лучше.\n",
        "\n",
        "Однако, это не означает, что он всегда будет работать лучше."
      ],
      "metadata": {
        "id": "WTeaqGw9ys5Z"
      }
    },
    {
      "cell_type": "markdown",
      "source": [
        "Посмотрим на другие метрики."
      ],
      "metadata": {
        "id": "AtboxaSwy0C0"
      }
    },
    {
      "cell_type": "code",
      "source": [
        "print(classification_report(y_test, pred_ovr, digits=5))"
      ],
      "metadata": {
        "colab": {
          "base_uri": "https://localhost:8080/"
        },
        "id": "BYN9Pk0UyryZ",
        "outputId": "9dbe3400-86f3-41fc-a258-a18c2e97600a"
      },
      "execution_count": null,
      "outputs": [
        {
          "output_type": "stream",
          "name": "stdout",
          "text": [
            "              precision    recall  f1-score   support\n",
            "\n",
            "           0    1.00000   1.00000   1.00000        15\n",
            "           1    1.00000   0.90909   0.95238        11\n",
            "           2    0.92308   1.00000   0.96000        12\n",
            "\n",
            "    accuracy                        0.97368        38\n",
            "   macro avg    0.97436   0.96970   0.97079        38\n",
            "weighted avg    0.97571   0.97368   0.97358        38\n",
            "\n"
          ]
        }
      ]
    },
    {
      "cell_type": "code",
      "source": [
        "print(classification_report(y_test, pred_mn))"
      ],
      "metadata": {
        "colab": {
          "base_uri": "https://localhost:8080/"
        },
        "id": "8HghFRP4y5Q8",
        "outputId": "1525c813-c894-46c0-c385-ce16ce12ff4c"
      },
      "execution_count": null,
      "outputs": [
        {
          "output_type": "stream",
          "name": "stdout",
          "text": [
            "              precision    recall  f1-score   support\n",
            "\n",
            "           0       1.00      1.00      1.00        15\n",
            "           1       1.00      1.00      1.00        11\n",
            "           2       1.00      1.00      1.00        12\n",
            "\n",
            "    accuracy                           1.00        38\n",
            "   macro avg       1.00      1.00      1.00        38\n",
            "weighted avg       1.00      1.00      1.00        38\n",
            "\n"
          ]
        }
      ]
    },
    {
      "cell_type": "markdown",
      "source": [
        "Мы видим, что модель, полученная в результате `ovr` подхода, путает между собой ирисы типов 1 и 2.\n",
        "\n",
        "Модель `multinomial` - ничего не путает."
      ],
      "metadata": {
        "id": "V7owO0PvzBJ4"
      }
    }
  ]
}