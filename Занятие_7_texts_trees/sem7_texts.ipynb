{
  "cells": [
    {
      "cell_type": "markdown",
      "metadata": {
        "id": "view-in-github",
        "colab_type": "text"
      },
      "source": [
        "<a href=\"https://colab.research.google.com/github/Murcha1990/Raiffaizen_ML_summer2023/blob/main/%D0%97%D0%B0%D0%BD%D1%8F%D1%82%D0%B8%D0%B5_7_texts_trees/sem7_texts.ipynb\" target=\"_parent\"><img src=\"https://colab.research.google.com/assets/colab-badge.svg\" alt=\"Open In Colab\"/></a>"
      ]
    },
    {
      "cell_type": "markdown",
      "metadata": {
        "id": "KbHlWheTvTYi"
      },
      "source": [
        "# Занятие 7: обработка текстовых данных\n",
        "\n",
        "## Вступление\n",
        "Многие практические задачи так или иначе могут вовлекать в себя работу с текстовыми данными, например:\n",
        "\n",
        "- классификация текстов\n",
        "    - анализ тональности (например, позитивный/негативный отзыв)\n",
        "    - фильтрация спама\n",
        "    - по теме или жанру\n",
        "- машинный перевод\n",
        "- распознавание и синтез речи\n",
        "- извлечение информации\n",
        "    - именованные сущности (например, извлечение имен, локаций, названий организаций)\n",
        "    - извлечение фактов и событий\n",
        "- кластеризация текстов\n",
        "- оптическое распознавание символов\n",
        "- проверка правописания\n",
        "- вопросно-ответные системы, информационный поиск\n",
        "- суммаризация текстов\n",
        "- генерация текстов\n",
        "\n",
        "В целом, алгоритм работы с текстовыми данными можно разбить на такие шаги:\n",
        "\n",
        "- предобработка сырых данных\n",
        "- токенизация (создание словаря)\n",
        "- обработка словаря (удаление стоп-слов и пунктуации)\n",
        "- обработка токенов (лемматизация / стемминг)\n",
        "- векторизация текста (bag of words, TF-IDF, etc)\n",
        "\n",
        "Сегодня мы познакомимся с основами работы с текстовыми данными: рассмотрим некоторые методы предобработки и простейшие алгоритмы векторизации.\n",
        "\n",
        "### План семинара\n",
        "1. Токенизация\n",
        "2. Стоп-слова и пунктуация\n",
        "3. Лемматизация и стемминг\n",
        "4. Bag-of-words и TD-IDF\n",
        "5. Решение задачи с текстовыми данными\n",
        "6. Регулярные выражения\n",
        "7. Немножко про категориальные признаки"
      ]
    },
    {
      "cell_type": "markdown",
      "metadata": {
        "id": "aTYWd8k5vTYk"
      },
      "source": [
        "## 1. Токенизация\n",
        "\n",
        "Токенизировать — значит, поделить текст на слова, или *токены*. Самый наивный способ токенизировать текст — разделить на слова по пробелам с помощью `split`. Но `split` упускает очень много всего, например, не отделяет пунктуацию от слов. Кроме этого есть ещё много менее тривиальных проблем, которые мы обсудим по ходу семинара, поэтому на практике всегда используют готовые токенизаторы."
      ]
    },
    {
      "cell_type": "code",
      "execution_count": 1,
      "metadata": {
        "ExecuteTime": {
          "end_time": "2023-04-18T16:50:57.367394Z",
          "start_time": "2023-04-18T16:50:56.706955Z"
        },
        "id": "7wYTyUXsvTYk",
        "colab": {
          "base_uri": "https://localhost:8080/"
        },
        "outputId": "520cbb30-40ed-4757-a8f0-fddccaa3958a"
      },
      "outputs": [
        {
          "output_type": "stream",
          "name": "stdout",
          "text": [
            "Requirement already satisfied: nltk in /usr/local/lib/python3.10/dist-packages (3.8.1)\n",
            "Requirement already satisfied: click in /usr/local/lib/python3.10/dist-packages (from nltk) (8.1.6)\n",
            "Requirement already satisfied: joblib in /usr/local/lib/python3.10/dist-packages (from nltk) (1.3.2)\n",
            "Requirement already satisfied: regex>=2021.8.3 in /usr/local/lib/python3.10/dist-packages (from nltk) (2023.6.3)\n",
            "Requirement already satisfied: tqdm in /usr/local/lib/python3.10/dist-packages (from nltk) (4.66.0)\n"
          ]
        }
      ],
      "source": [
        "!pip install nltk"
      ]
    },
    {
      "cell_type": "code",
      "execution_count": 2,
      "metadata": {
        "ExecuteTime": {
          "end_time": "2023-04-18T16:50:57.369338Z",
          "start_time": "2023-04-18T16:50:56.707864Z"
        },
        "id": "0hCRd91OvTYl"
      },
      "outputs": [],
      "source": [
        "import warnings\n",
        "\n",
        "import nltk\n",
        "import pandas as pd\n",
        "from nltk.tokenize import word_tokenize\n",
        "\n",
        "warnings.filterwarnings(\"ignore\")"
      ]
    },
    {
      "cell_type": "code",
      "execution_count": 3,
      "metadata": {
        "ExecuteTime": {
          "end_time": "2023-04-18T16:50:57.388966Z",
          "start_time": "2023-04-18T16:50:57.270155Z"
        },
        "colab": {
          "base_uri": "https://localhost:8080/"
        },
        "id": "giW4EnzJbR2z",
        "outputId": "6ef1bc58-d2dc-4eb0-c6fa-bed529850cbb"
      },
      "outputs": [
        {
          "output_type": "execute_result",
          "data": {
            "text/plain": [
              "True"
            ]
          },
          "metadata": {},
          "execution_count": 3
        }
      ],
      "source": [
        "nltk.download(\"punkt\", quiet=True)"
      ]
    },
    {
      "cell_type": "code",
      "execution_count": 4,
      "metadata": {
        "ExecuteTime": {
          "end_time": "2023-04-18T16:50:57.404335Z",
          "start_time": "2023-04-18T16:50:57.388538Z"
        },
        "id": "BnwtbxVSvTYl"
      },
      "outputs": [],
      "source": [
        "example = \"Но не каждый хочет что-то исправлять:(\""
      ]
    },
    {
      "cell_type": "code",
      "execution_count": 5,
      "metadata": {
        "ExecuteTime": {
          "end_time": "2023-04-18T16:50:57.404687Z",
          "start_time": "2023-04-18T16:50:57.391837Z"
        },
        "colab": {
          "base_uri": "https://localhost:8080/"
        },
        "id": "p2GQ7QsjvTYm",
        "outputId": "5b394965-2d76-4d4d-ef12-2b1aa24e2c9e"
      },
      "outputs": [
        {
          "output_type": "execute_result",
          "data": {
            "text/plain": [
              "['Но', 'не', 'каждый', 'хочет', 'что-то', 'исправлять:(']"
            ]
          },
          "metadata": {},
          "execution_count": 5
        }
      ],
      "source": [
        "# c помощью split()\n",
        "example.split()"
      ]
    },
    {
      "cell_type": "code",
      "execution_count": 6,
      "metadata": {
        "ExecuteTime": {
          "end_time": "2023-04-18T16:50:57.404799Z",
          "start_time": "2023-04-18T16:50:57.394339Z"
        },
        "colab": {
          "base_uri": "https://localhost:8080/"
        },
        "id": "nA0DyFIDvTYn",
        "outputId": "42f8aaf9-5616-4c69-aeae-758f9412f59e"
      },
      "outputs": [
        {
          "output_type": "execute_result",
          "data": {
            "text/plain": [
              "['Но', 'не', 'каждый', 'хочет', 'что-то', 'исправлять', ':', '(']"
            ]
          },
          "metadata": {},
          "execution_count": 6
        }
      ],
      "source": [
        "# c помощью токенизатора\n",
        "word_tokenize(example)"
      ]
    },
    {
      "cell_type": "markdown",
      "metadata": {
        "id": "XQ7uHEJUvTYo"
      },
      "source": [
        "В nltk вообще есть довольно много токенизаторов:"
      ]
    },
    {
      "cell_type": "code",
      "execution_count": 7,
      "metadata": {
        "ExecuteTime": {
          "end_time": "2023-04-18T16:50:57.404913Z",
          "start_time": "2023-04-18T16:50:57.400438Z"
        },
        "colab": {
          "base_uri": "https://localhost:8080/"
        },
        "id": "_fnNryNkvTYo",
        "outputId": "dd364a8a-8ed6-4237-aa74-530e6397a214"
      },
      "outputs": [
        {
          "output_type": "execute_result",
          "data": {
            "text/plain": [
              "['BlanklineTokenizer',\n",
              " 'LegalitySyllableTokenizer',\n",
              " 'LineTokenizer',\n",
              " 'MWETokenizer',\n",
              " 'NLTKWordTokenizer',\n",
              " 'PunktSentenceTokenizer',\n",
              " 'RegexpTokenizer',\n",
              " 'ReppTokenizer',\n",
              " 'SExprTokenizer',\n",
              " 'SpaceTokenizer',\n",
              " 'StanfordSegmenter',\n",
              " 'SyllableTokenizer',\n",
              " 'TabTokenizer',\n",
              " 'TextTilingTokenizer',\n",
              " 'ToktokTokenizer',\n",
              " 'TreebankWordDetokenizer']"
            ]
          },
          "metadata": {},
          "execution_count": 7
        }
      ],
      "source": [
        "from nltk import tokenize\n",
        "\n",
        "dir(tokenize)[:16]"
      ]
    },
    {
      "cell_type": "markdown",
      "metadata": {
        "id": "6cs6tdtHvTYp"
      },
      "source": [
        "Можно получить индексы начала и конца каждого токена:"
      ]
    },
    {
      "cell_type": "code",
      "execution_count": 8,
      "metadata": {
        "ExecuteTime": {
          "end_time": "2023-04-18T16:50:57.405149Z",
          "start_time": "2023-04-18T16:50:57.403084Z"
        },
        "id": "v3kOepXRvTYp",
        "colab": {
          "base_uri": "https://localhost:8080/"
        },
        "outputId": "1923a08b-e429-497a-9c33-75a6d9c3a8c0"
      },
      "outputs": [
        {
          "output_type": "execute_result",
          "data": {
            "text/plain": [
              "[(0, 2), (3, 5), (6, 12), (13, 18), (19, 25), (26, 38)]"
            ]
          },
          "metadata": {},
          "execution_count": 8
        }
      ],
      "source": [
        "wh_tok = tokenize.WhitespaceTokenizer()\n",
        "list(wh_tok.span_tokenize(example))"
      ]
    },
    {
      "cell_type": "markdown",
      "metadata": {
        "id": "yeMsc1yVvTYp"
      },
      "source": [
        "Некторые токенизаторы ведут себя специфично:"
      ]
    },
    {
      "cell_type": "code",
      "execution_count": 9,
      "metadata": {
        "ExecuteTime": {
          "end_time": "2023-04-18T16:50:57.413500Z",
          "start_time": "2023-04-18T16:50:57.405960Z"
        },
        "colab": {
          "base_uri": "https://localhost:8080/"
        },
        "id": "5diW1OKkvTYq",
        "outputId": "0fda66d5-628a-4c27-d6b7-2243327adfe4"
      },
      "outputs": [
        {
          "output_type": "execute_result",
          "data": {
            "text/plain": [
              "['expectation-maximization', 'algorithm']"
            ]
          },
          "metadata": {},
          "execution_count": 9
        }
      ],
      "source": [
        "tokenize.TreebankWordTokenizer().tokenize(\"expectation-maximization algorithm\")"
      ]
    },
    {
      "cell_type": "markdown",
      "metadata": {
        "id": "y4Jte9_YvTYq"
      },
      "source": [
        "Для некоторых задач это может быть полезно.\n",
        "\n",
        "А некоторые предназначены вообще не для текста на естественном языке:"
      ]
    },
    {
      "cell_type": "code",
      "execution_count": 10,
      "metadata": {
        "ExecuteTime": {
          "end_time": "2023-04-18T16:50:57.413696Z",
          "start_time": "2023-04-18T16:50:57.408712Z"
        },
        "colab": {
          "base_uri": "https://localhost:8080/"
        },
        "id": "vC4pjzzWvTYr",
        "outputId": "f00f2049-c601-4c68-992a-d3d54004d43c"
      },
      "outputs": [
        {
          "output_type": "execute_result",
          "data": {
            "text/plain": [
              "['(a (b c))', 'd', 'e', '(f)']"
            ]
          },
          "metadata": {},
          "execution_count": 10
        }
      ],
      "source": [
        "tokenize.SExprTokenizer().tokenize(\"(a (b c)) d e (f)\")"
      ]
    },
    {
      "cell_type": "markdown",
      "metadata": {
        "id": "kTLQY6ndwP9u"
      },
      "source": [
        "Есть токенизатор, который может быть полезен для работы с твитами или сообщениями из соц. сетей. Он сохранит смайлики, хештеги и т.п."
      ]
    },
    {
      "cell_type": "code",
      "execution_count": 11,
      "metadata": {
        "ExecuteTime": {
          "end_time": "2023-04-18T16:50:57.421227Z",
          "start_time": "2023-04-18T16:50:57.410680Z"
        },
        "colab": {
          "base_uri": "https://localhost:8080/"
        },
        "id": "xioD_3G2vTYs",
        "outputId": "68bef5ac-2ef4-40e1-988e-6cfab634cb5f"
      },
      "outputs": [
        {
          "output_type": "execute_result",
          "data": {
            "text/plain": [
              "['Но', 'не', 'каждый', 'хочет', 'что-то', 'исправлять', ':(']"
            ]
          },
          "metadata": {},
          "execution_count": 11
        }
      ],
      "source": [
        "from nltk.tokenize import TweetTokenizer\n",
        "\n",
        "tw = TweetTokenizer()\n",
        "tw.tokenize(example)"
      ]
    },
    {
      "cell_type": "markdown",
      "metadata": {
        "id": "fc1OYy0tvTYt"
      },
      "source": [
        "## 2. Стоп-слова и пунктуация\n",
        "\n",
        "*Стоп-слова* — это слова, которые часто встречаются практически в любом тексте и ничего интересного не говорят о конретном документе, то есть играют роль шума. Поэтому их принято убирать. По той же причине убирают и пунктуацию."
      ]
    },
    {
      "cell_type": "code",
      "execution_count": 12,
      "metadata": {
        "ExecuteTime": {
          "end_time": "2023-04-18T16:50:57.421378Z",
          "start_time": "2023-04-18T16:50:57.416461Z"
        },
        "colab": {
          "base_uri": "https://localhost:8080/"
        },
        "id": "g2F7i9CEvTYt",
        "outputId": "af76defc-6b25-47b7-e1be-941359a0d467"
      },
      "outputs": [
        {
          "output_type": "execute_result",
          "data": {
            "text/plain": [
              "True"
            ]
          },
          "metadata": {},
          "execution_count": 12
        }
      ],
      "source": [
        "nltk.download(\"stopwords\", quiet=True)"
      ]
    },
    {
      "cell_type": "code",
      "execution_count": 13,
      "metadata": {
        "ExecuteTime": {
          "end_time": "2023-04-18T16:50:57.425601Z",
          "start_time": "2023-04-18T16:50:57.419634Z"
        },
        "colab": {
          "base_uri": "https://localhost:8080/"
        },
        "id": "r8NdjFCYvTYt",
        "outputId": "cba1ab3c-efcb-4567-d092-eb014fc12b67"
      },
      "outputs": [
        {
          "output_type": "stream",
          "name": "stdout",
          "text": [
            "['и', 'в', 'во', 'не', 'что', 'он', 'на', 'я', 'с', 'со', 'как', 'а', 'то', 'все', 'она', 'так', 'его', 'но', 'да', 'ты', 'к', 'у', 'же', 'вы', 'за', 'бы', 'по', 'только', 'ее', 'мне', 'было', 'вот', 'от', 'меня', 'еще', 'нет', 'о', 'из', 'ему', 'теперь', 'когда', 'даже', 'ну', 'вдруг', 'ли', 'если', 'уже', 'или', 'ни', 'быть', 'был', 'него', 'до', 'вас', 'нибудь', 'опять', 'уж', 'вам', 'ведь', 'там', 'потом', 'себя', 'ничего', 'ей', 'может', 'они', 'тут', 'где', 'есть', 'надо', 'ней', 'для', 'мы', 'тебя', 'их', 'чем', 'была', 'сам', 'чтоб', 'без', 'будто', 'чего', 'раз', 'тоже', 'себе', 'под', 'будет', 'ж', 'тогда', 'кто', 'этот', 'того', 'потому', 'этого', 'какой', 'совсем', 'ним', 'здесь', 'этом', 'один', 'почти', 'мой', 'тем', 'чтобы', 'нее', 'сейчас', 'были', 'куда', 'зачем', 'всех', 'никогда', 'можно', 'при', 'наконец', 'два', 'об', 'другой', 'хоть', 'после', 'над', 'больше', 'тот', 'через', 'эти', 'нас', 'про', 'всего', 'них', 'какая', 'много', 'разве', 'три', 'эту', 'моя', 'впрочем', 'хорошо', 'свою', 'этой', 'перед', 'иногда', 'лучше', 'чуть', 'том', 'нельзя', 'такой', 'им', 'более', 'всегда', 'конечно', 'всю', 'между']\n"
          ]
        }
      ],
      "source": [
        "from nltk.corpus import stopwords\n",
        "\n",
        "print(stopwords.words(\"russian\"))"
      ]
    },
    {
      "cell_type": "code",
      "execution_count": 14,
      "metadata": {
        "ExecuteTime": {
          "end_time": "2023-04-18T16:50:57.502816Z",
          "start_time": "2023-04-18T16:50:57.424371Z"
        },
        "colab": {
          "base_uri": "https://localhost:8080/"
        },
        "id": "2Qe79BdbbR25",
        "outputId": "f48c4675-474c-489b-dde4-dd3500304112"
      },
      "outputs": [
        {
          "output_type": "stream",
          "name": "stdout",
          "text": [
            "['i', 'me', 'my', 'myself', 'we', 'our', 'ours', 'ourselves', 'you', \"you're\", \"you've\", \"you'll\", \"you'd\", 'your', 'yours', 'yourself', 'yourselves', 'he', 'him', 'his', 'himself', 'she', \"she's\", 'her', 'hers', 'herself', 'it', \"it's\", 'its', 'itself', 'they', 'them', 'their', 'theirs', 'themselves', 'what', 'which', 'who', 'whom', 'this', 'that', \"that'll\", 'these', 'those', 'am', 'is', 'are', 'was', 'were', 'be', 'been', 'being', 'have', 'has', 'had', 'having', 'do', 'does', 'did', 'doing', 'a', 'an', 'the', 'and', 'but', 'if', 'or', 'because', 'as', 'until', 'while', 'of', 'at', 'by', 'for', 'with', 'about', 'against', 'between', 'into', 'through', 'during', 'before', 'after', 'above', 'below', 'to', 'from', 'up', 'down', 'in', 'out', 'on', 'off', 'over', 'under', 'again', 'further', 'then', 'once', 'here', 'there', 'when', 'where', 'why', 'how', 'all', 'any', 'both', 'each', 'few', 'more', 'most', 'other', 'some', 'such', 'no', 'nor', 'not', 'only', 'own', 'same', 'so', 'than', 'too', 'very', 's', 't', 'can', 'will', 'just', 'don', \"don't\", 'should', \"should've\", 'now', 'd', 'll', 'm', 'o', 're', 've', 'y', 'ain', 'aren', \"aren't\", 'couldn', \"couldn't\", 'didn', \"didn't\", 'doesn', \"doesn't\", 'hadn', \"hadn't\", 'hasn', \"hasn't\", 'haven', \"haven't\", 'isn', \"isn't\", 'ma', 'mightn', \"mightn't\", 'mustn', \"mustn't\", 'needn', \"needn't\", 'shan', \"shan't\", 'shouldn', \"shouldn't\", 'wasn', \"wasn't\", 'weren', \"weren't\", 'won', \"won't\", 'wouldn', \"wouldn't\"]\n"
          ]
        }
      ],
      "source": [
        "print(stopwords.words(\"english\"))"
      ]
    },
    {
      "cell_type": "code",
      "execution_count": 15,
      "metadata": {
        "ExecuteTime": {
          "end_time": "2023-04-18T16:50:57.503520Z",
          "start_time": "2023-04-18T16:50:57.426937Z"
        },
        "colab": {
          "base_uri": "https://localhost:8080/",
          "height": 57
        },
        "id": "2DehgAP3vTYu",
        "outputId": "a1d3389d-a4aa-445a-90cc-4ccaf0fd75c4"
      },
      "outputs": [
        {
          "output_type": "execute_result",
          "data": {
            "text/plain": [
              "'!\"#$%&\\'()*+,-./:;<=>?@[\\\\]^_`{|}~'"
            ],
            "application/vnd.google.colaboratory.intrinsic+json": {
              "type": "string"
            }
          },
          "metadata": {},
          "execution_count": 15
        }
      ],
      "source": [
        "from string import punctuation\n",
        "\n",
        "punctuation"
      ]
    },
    {
      "cell_type": "code",
      "execution_count": 16,
      "metadata": {
        "ExecuteTime": {
          "end_time": "2023-04-18T16:50:57.503604Z",
          "start_time": "2023-04-18T16:50:57.429475Z"
        },
        "id": "gLzygOQ6vTYv"
      },
      "outputs": [],
      "source": [
        "noise = stopwords.words(\"russian\") + list(punctuation)"
      ]
    },
    {
      "cell_type": "markdown",
      "metadata": {
        "id": "1SEdeiiPvTYv"
      },
      "source": [
        "## 3. Лемматизация и стемминг\n",
        "### 3.1 Лемматизация\n",
        "\n",
        "[**Лемматизация**](https://en.wikipedia.org/wiki/Lemmatisation) — процесс приведения слова к его нормальной форме (**лемме**):\n",
        "- для существительных — именительный падеж, единственное число;\n",
        "- для прилагательных — именительный падеж, единственное число, мужской род;\n",
        "- для глаголов, причастий, деепричастий — глагол в инфинитиве.\n",
        "\n",
        "Например, токены «пью», «пил», «пьет» перейдут в «пить». Почему это хорошо?\n",
        "* Во-первых, мы хотим рассматривать как отдельный признак каждое *слово*, а не каждую его отдельную форму.\n",
        "* Во-вторых, некоторые стоп-слова стоят только в начальной форме, и без лемматизации выкидываем мы только её.\n",
        "\n",
        "Для русского есть два хороших лемматизатора: `mystem` и `pymorphy`.\n",
        "\n",
        "#### [Mystem](https://tech.yandex.ru/mystem/)\n",
        "\n",
        "Mystem — это пример популярной библиотеки для лемматизации. Как с ним работать:\n",
        "* скачать mystem и запускать [из терминала с разными параметрами](https://tech.yandex.ru/mystem/doc/)\n",
        "* использовать обёртку для питона [pymystem3](https://pythonhosted.org/pymystem3/pymystem3.html) (она медленнее, но удобнее в использовании)"
      ]
    },
    {
      "cell_type": "code",
      "execution_count": 17,
      "metadata": {
        "ExecuteTime": {
          "end_time": "2023-04-18T16:50:57.503677Z",
          "start_time": "2023-04-18T16:50:57.431943Z"
        },
        "colab": {
          "base_uri": "https://localhost:8080/"
        },
        "id": "IM5dc5MPvTYw",
        "outputId": "5908ec26-9576-40c7-eb86-b7d6230ac339",
        "scrolled": true
      },
      "outputs": [
        {
          "output_type": "stream",
          "name": "stdout",
          "text": [
            "Requirement already satisfied: pymystem3 in /usr/local/lib/python3.10/dist-packages (0.2.0)\n",
            "Requirement already satisfied: requests in /usr/local/lib/python3.10/dist-packages (from pymystem3) (2.31.0)\n",
            "Requirement already satisfied: charset-normalizer<4,>=2 in /usr/local/lib/python3.10/dist-packages (from requests->pymystem3) (3.2.0)\n",
            "Requirement already satisfied: idna<4,>=2.5 in /usr/local/lib/python3.10/dist-packages (from requests->pymystem3) (3.4)\n",
            "Requirement already satisfied: urllib3<3,>=1.21.1 in /usr/local/lib/python3.10/dist-packages (from requests->pymystem3) (2.0.4)\n",
            "Requirement already satisfied: certifi>=2017.4.17 in /usr/local/lib/python3.10/dist-packages (from requests->pymystem3) (2023.7.22)\n"
          ]
        }
      ],
      "source": [
        "!pip install pymystem3"
      ]
    },
    {
      "cell_type": "code",
      "execution_count": 18,
      "metadata": {
        "ExecuteTime": {
          "end_time": "2023-04-18T16:50:57.503718Z",
          "start_time": "2023-04-18T16:50:57.433253Z"
        },
        "id": "60Q4xp6yvTYw",
        "colab": {
          "base_uri": "https://localhost:8080/"
        },
        "outputId": "d8ffd692-b3d3-4783-ff37-2d090f88cecb"
      },
      "outputs": [
        {
          "output_type": "stream",
          "name": "stderr",
          "text": [
            "Installing mystem to /root/.local/bin/mystem from http://download.cdn.yandex.net/mystem/mystem-3.1-linux-64bit.tar.gz\n"
          ]
        }
      ],
      "source": [
        "from pymystem3 import Mystem\n",
        "\n",
        "mystem_analyzer = Mystem()"
      ]
    },
    {
      "cell_type": "markdown",
      "metadata": {
        "id": "al294srlvTYx"
      },
      "source": [
        "Мы инициализировали Mystem c дефолтными параметрами. А вообще параметры есть такие:\n",
        "* mystem_bin — путь к `mystem`, если их несколько\n",
        "* grammar_info — нужна ли грамматическая информация или только леммы (по умолчанию нужна)\n",
        "* disambiguation — нужно ли снятие [омонимии](https://ru.wikipedia.org/wiki/%D0%9E%D0%BC%D0%BE%D0%BD%D0%B8%D0%BC%D1%8B) - дизамбигуация (по умолчанию нужна)\n",
        "* entire_input — нужно ли сохранять в выводе все (пробелы, например), или можно выкинуть (по умолчанию оставляется все)\n",
        "\n",
        "Методы Mystem принимают строку, токенизатор вшит внутри. Можно, конечно, и пословно анализировать, но тогда он не сможет учитывать контекст.\n",
        "\n",
        "Можно просто лемматизировать текст:"
      ]
    },
    {
      "cell_type": "code",
      "execution_count": 19,
      "metadata": {
        "ExecuteTime": {
          "end_time": "2023-04-18T16:50:57.954209Z",
          "start_time": "2023-04-18T16:50:57.436430Z"
        },
        "colab": {
          "base_uri": "https://localhost:8080/"
        },
        "id": "3Oc4plDGvTYx",
        "outputId": "ae83adf2-e105-481a-eded-119fde54c8e0"
      },
      "outputs": [
        {
          "output_type": "stream",
          "name": "stdout",
          "text": [
            "['но', ' ', 'не', ' ', 'каждый', ' ', 'хотеть', ' ', 'что-то', ' ', 'исправлять', ':(\\n']\n"
          ]
        }
      ],
      "source": [
        "print(mystem_analyzer.lemmatize(example))"
      ]
    },
    {
      "cell_type": "markdown",
      "metadata": {
        "id": "_mX1O12xvTYy"
      },
      "source": [
        "### [Pymorphy](http://pymorphy2.readthedocs.io/en/latest/)\n",
        "Это модуль на питоне, довольно быстрый и с кучей функций."
      ]
    },
    {
      "cell_type": "code",
      "execution_count": 20,
      "metadata": {
        "ExecuteTime": {
          "end_time": "2023-04-18T16:50:57.956279Z",
          "start_time": "2023-04-18T16:50:57.953848Z"
        },
        "colab": {
          "base_uri": "https://localhost:8080/"
        },
        "id": "l7-NcH9ivTYy",
        "outputId": "ebed2444-7052-4d63-b46b-2d5a3c2e4048"
      },
      "outputs": [
        {
          "output_type": "stream",
          "name": "stdout",
          "text": [
            "Collecting pymorphy2\n",
            "  Downloading pymorphy2-0.9.1-py3-none-any.whl (55 kB)\n",
            "\u001b[2K     \u001b[90m━━━━━━━━━━━━━━━━━━━━━━━━━━━━━━━━━━━━━━━\u001b[0m \u001b[32m55.5/55.5 kB\u001b[0m \u001b[31m877.3 kB/s\u001b[0m eta \u001b[36m0:00:00\u001b[0m\n",
            "\u001b[?25hCollecting dawg-python>=0.7.1 (from pymorphy2)\n",
            "  Downloading DAWG_Python-0.7.2-py2.py3-none-any.whl (11 kB)\n",
            "Collecting pymorphy2-dicts-ru<3.0,>=2.4 (from pymorphy2)\n",
            "  Downloading pymorphy2_dicts_ru-2.4.417127.4579844-py2.py3-none-any.whl (8.2 MB)\n",
            "\u001b[2K     \u001b[90m━━━━━━━━━━━━━━━━━━━━━━━━━━━━━━━━━━━━━━━━\u001b[0m \u001b[32m8.2/8.2 MB\u001b[0m \u001b[31m35.0 MB/s\u001b[0m eta \u001b[36m0:00:00\u001b[0m\n",
            "\u001b[?25hCollecting docopt>=0.6 (from pymorphy2)\n",
            "  Downloading docopt-0.6.2.tar.gz (25 kB)\n",
            "  Preparing metadata (setup.py) ... \u001b[?25l\u001b[?25hdone\n",
            "Building wheels for collected packages: docopt\n",
            "  Building wheel for docopt (setup.py) ... \u001b[?25l\u001b[?25hdone\n",
            "  Created wheel for docopt: filename=docopt-0.6.2-py2.py3-none-any.whl size=13706 sha256=8cc057d46adb6920110d99973d0e11c76c835a9460ee54cdd9744b92a31a79e0\n",
            "  Stored in directory: /root/.cache/pip/wheels/fc/ab/d4/5da2067ac95b36618c629a5f93f809425700506f72c9732fac\n",
            "Successfully built docopt\n",
            "Installing collected packages: pymorphy2-dicts-ru, docopt, dawg-python, pymorphy2\n",
            "Successfully installed dawg-python-0.7.2 docopt-0.6.2 pymorphy2-0.9.1 pymorphy2-dicts-ru-2.4.417127.4579844\n",
            "Collecting pymorphy2-dicts\n",
            "  Downloading pymorphy2_dicts-2.4.393442.3710985-py2.py3-none-any.whl (7.1 MB)\n",
            "\u001b[2K     \u001b[90m━━━━━━━━━━━━━━━━━━━━━━━━━━━━━━━━━━━━━━━━\u001b[0m \u001b[32m7.1/7.1 MB\u001b[0m \u001b[31m11.7 MB/s\u001b[0m eta \u001b[36m0:00:00\u001b[0m\n",
            "\u001b[?25hInstalling collected packages: pymorphy2-dicts\n",
            "Successfully installed pymorphy2-dicts-2.4.393442.3710985\n",
            "Requirement already satisfied: DAWG-Python in /usr/local/lib/python3.10/dist-packages (0.7.2)\n"
          ]
        }
      ],
      "source": [
        "!pip install pymorphy2\n",
        "!pip install pymorphy2-dicts\n",
        "!pip install DAWG-Python"
      ]
    },
    {
      "cell_type": "code",
      "execution_count": 21,
      "metadata": {
        "ExecuteTime": {
          "end_time": "2023-04-18T16:50:57.963124Z",
          "start_time": "2023-04-18T16:50:57.956363Z"
        },
        "id": "pjReTCR_bR27"
      },
      "outputs": [],
      "source": [
        "from pymorphy2 import MorphAnalyzer"
      ]
    },
    {
      "cell_type": "code",
      "execution_count": 22,
      "metadata": {
        "ExecuteTime": {
          "end_time": "2023-04-18T16:50:58.019760Z",
          "start_time": "2023-04-18T16:50:57.963923Z"
        },
        "id": "jnL4uv6JvTYz"
      },
      "outputs": [],
      "source": [
        "pymorphy2_analyzer = MorphAnalyzer()"
      ]
    },
    {
      "cell_type": "markdown",
      "metadata": {
        "id": "tIe3ssarvTYz"
      },
      "source": [
        "pymorphy2 работает с отдельными словами. Если дать ему на вход предложение, то он его просто не лемматизирует, т.к. не понимает.\n",
        "\n",
        "Метод MorphAnalyzer.parse() принимает слово и возвращает все возможные его разборы.\n",
        "\n",
        "У каждого разбора есть тег. Тег — это набор граммем, характеризующих данное слово. Например, тег 'VERB,perf,intr plur,past,indc' означает, что слово — глагол (VERB) совершенного вида (perf), непереходный (intr), множественного числа (plur), прошедшего времени (past), изъявительного наклонения (indc).\n"
      ]
    },
    {
      "cell_type": "code",
      "execution_count": 23,
      "metadata": {
        "ExecuteTime": {
          "end_time": "2023-04-18T16:50:58.024019Z",
          "start_time": "2023-04-18T16:50:58.020616Z"
        },
        "colab": {
          "base_uri": "https://localhost:8080/"
        },
        "id": "2Ztv5u7gvTY0",
        "outputId": "6a7f7ae7-3e91-4a30-9f8b-67f4198fafa0"
      },
      "outputs": [
        {
          "output_type": "execute_result",
          "data": {
            "text/plain": [
              "[Parse(word='хочет', tag=OpencorporaTag('VERB,impf,tran sing,3per,pres,indc'), normal_form='хотеть', score=1.0, methods_stack=((DictionaryAnalyzer(), 'хочет', 3136, 5),))]"
            ]
          },
          "metadata": {},
          "execution_count": 23
        }
      ],
      "source": [
        "ana = pymorphy2_analyzer.parse(\"хочет\")\n",
        "ana"
      ]
    },
    {
      "cell_type": "code",
      "execution_count": 24,
      "metadata": {
        "ExecuteTime": {
          "end_time": "2023-04-18T16:50:58.027260Z",
          "start_time": "2023-04-18T16:50:58.023109Z"
        },
        "colab": {
          "base_uri": "https://localhost:8080/",
          "height": 57
        },
        "id": "9NBnUjhfvTY2",
        "outputId": "704f815d-8940-4cf8-f6f7-4b02d520a0ba"
      },
      "outputs": [
        {
          "output_type": "execute_result",
          "data": {
            "text/plain": [
              "'хотеть'"
            ],
            "application/vnd.google.colaboratory.intrinsic+json": {
              "type": "string"
            }
          },
          "metadata": {},
          "execution_count": 24
        }
      ],
      "source": [
        "ana[0].normal_form"
      ]
    },
    {
      "cell_type": "markdown",
      "metadata": {
        "id": "AY0CeomBvTY3"
      },
      "source": [
        "### mystem vs. pymorphy\n",
        "\n",
        "1) *Надеемся, что вы пользуетесь линуксом или маком* — mystem работает невероятно медленно под windows на больших текстах\n",
        "\n",
        "2) *Снятие омонимии*. Mystem умеет снимать омонимию по контексту (хотя не всегда преуспевает), pymorphy2 берет на вход одно слово и соответственно вообще не умеет дизамбигуировать по контексту."
      ]
    },
    {
      "cell_type": "code",
      "execution_count": 25,
      "metadata": {
        "ExecuteTime": {
          "end_time": "2023-04-18T16:50:58.028266Z",
          "start_time": "2023-04-18T16:50:58.025883Z"
        },
        "colab": {
          "base_uri": "https://localhost:8080/"
        },
        "id": "3ZHNWM8MvTY3",
        "outputId": "017299ff-2080-4789-9824-1e9e304ef658"
      },
      "outputs": [
        {
          "output_type": "stream",
          "name": "stdout",
          "text": [
            "{'analysis': [{'lex': 'сорок', 'wt': 0.8710292664, 'gr': 'NUM=(пр|дат|род|твор)'}], 'text': 'сорока'}\n",
            "{'analysis': [{'lex': 'сорока', 'wt': 0.1210970041, 'gr': 'S,жен,од=им,ед'}], 'text': 'Сорока'}\n"
          ]
        }
      ],
      "source": [
        "homonym1 = \"За время обучения я прослушал больше сорока курсов.\"\n",
        "homonym2 = \"Сорока своровала блестящее украшение со стола.\"\n",
        "\n",
        "# корректно определил части речи\n",
        "# NUM — числительное\n",
        "# S — существительное\n",
        "print(mystem_analyzer.analyze(homonym1)[-5])\n",
        "print(mystem_analyzer.analyze(homonym2)[0])"
      ]
    },
    {
      "cell_type": "markdown",
      "metadata": {
        "id": "Y4ifiT5avTY4"
      },
      "source": [
        "### 3.2 Стемминг\n",
        "\n",
        "В отличие от лемматизации, при применении стемминга у всех слов отбрасываются аффиксы (окончания и суффиксы), что необязательно приводит слова к формам, существующим в рассматриваемом языке. [**Snowball**](http://snowball.tartarus.org/) — фрэймворк для написания алгоритмов стемминга. Алгоритмы стемминга отличаются для разных языков и используют знания о конкретном языке: списки окончаний для разных частей речи, разных склонений и т.д."
      ]
    },
    {
      "cell_type": "code",
      "execution_count": 26,
      "metadata": {
        "ExecuteTime": {
          "end_time": "2023-04-18T16:50:58.030752Z",
          "start_time": "2023-04-18T16:50:58.029232Z"
        },
        "id": "tUI4LkoUvTY4"
      },
      "outputs": [],
      "source": [
        "from nltk.stem.snowball import SnowballStemmer"
      ]
    },
    {
      "cell_type": "code",
      "execution_count": 27,
      "metadata": {
        "ExecuteTime": {
          "end_time": "2023-04-18T16:50:58.032674Z",
          "start_time": "2023-04-18T16:50:58.031151Z"
        },
        "id": "2KNIH7RpbR28"
      },
      "outputs": [],
      "source": [
        "tokenized_example = word_tokenize(example)"
      ]
    },
    {
      "cell_type": "code",
      "execution_count": 28,
      "metadata": {
        "ExecuteTime": {
          "end_time": "2023-04-18T16:50:58.036669Z",
          "start_time": "2023-04-18T16:50:58.033530Z"
        },
        "colab": {
          "base_uri": "https://localhost:8080/"
        },
        "id": "yDhsgmNsvTY5",
        "outputId": "c745e2f7-8744-420c-f0a4-96f2ed2551d4"
      },
      "outputs": [
        {
          "output_type": "stream",
          "name": "stdout",
          "text": [
            "но не кажд хочет что-т исправля : (\n"
          ]
        }
      ],
      "source": [
        "stemmer = SnowballStemmer(\"russian\")\n",
        "stemmed_example = [stemmer.stem(w) for w in tokenized_example]\n",
        "print(\" \".join(stemmed_example))"
      ]
    },
    {
      "cell_type": "markdown",
      "metadata": {
        "id": "m9SEnYhhbR28"
      },
      "source": [
        "Для английского получится что-то такое."
      ]
    },
    {
      "cell_type": "code",
      "execution_count": 29,
      "metadata": {
        "ExecuteTime": {
          "end_time": "2023-04-18T16:50:58.038780Z",
          "start_time": "2023-04-18T16:50:58.036341Z"
        },
        "colab": {
          "base_uri": "https://localhost:8080/"
        },
        "id": "IYdj8R20vTY5",
        "outputId": "923643de-2e78-47b8-eabd-86e9198f73d3"
      },
      "outputs": [
        {
          "output_type": "stream",
          "name": "stdout",
          "text": [
            "In my younger and more vulnerable years my father gave me some advice that I've been turning over in my mind ever since.\n",
            "\"Whenever you feel like criticizing any one,\" he told me, \"just remember that all the people in this world haven't had the advantages that you've had.\"\n",
            "==========\n",
            "['In', 'my', 'younger', 'and', 'more', 'vulnerable', 'years', 'my', 'father', 'gave', 'me', 'some', 'advice', 'that', 'I', 'been', 'turning', 'over', 'in', 'my', 'mind', 'ever', 'since', 'Whenever', 'you', 'feel', 'like', 'criticizing', 'any', 'one', 'he', 'told', 'me', 'just', 'remember', 'that', 'all', 'the', 'people', 'in', 'this', 'world', 'have', 'had', 'the', 'advantages', 'that', 'you', 'had']\n"
          ]
        }
      ],
      "source": [
        "text = 'In my younger and more vulnerable years my father gave me some advice that I\\'ve been turning over in my mind ever since.\\n\"Whenever you feel like criticizing any one,\" he told me, \"just remember that all the people in this world haven\\'t had the advantages that you\\'ve had.\"'\n",
        "print(text)\n",
        "text_tokenized = [w for w in word_tokenize(text) if w.isalpha()]\n",
        "print(\"==========\")\n",
        "print(text_tokenized)"
      ]
    },
    {
      "cell_type": "code",
      "execution_count": 30,
      "metadata": {
        "ExecuteTime": {
          "end_time": "2023-04-18T16:50:58.040805Z",
          "start_time": "2023-04-18T16:50:58.038614Z"
        },
        "colab": {
          "base_uri": "https://localhost:8080/"
        },
        "id": "386kIQJYvTY5",
        "outputId": "7863726a-3671-42e5-f5c8-f9e8a88422a0"
      },
      "outputs": [
        {
          "output_type": "stream",
          "name": "stdout",
          "text": [
            "in my younger and more vulner year my father gave me some advic that i been turn over in my mind ever sinc whenev you feel like critic ani one he told me just rememb that all the peopl in this world have had the advantag that you had\n"
          ]
        }
      ],
      "source": [
        "stemmer = SnowballStemmer(\"english\")\n",
        "text_stemmed = [stemmer.stem(w) for w in text_tokenized]\n",
        "print(\" \".join(text_stemmed))"
      ]
    },
    {
      "cell_type": "markdown",
      "metadata": {
        "id": "x5dNFUPHvTY6"
      },
      "source": [
        "## 4. Bag-of-words и TF-IDF\n",
        "\n",
        "Но как же все-таки работать с текстами, используя стандартные методы машинного обучения? Ведь нам нужны объекты выборки, которые описываются числами, а не словами. Иначе говоря, нам нужно *векторизовать* текстовые данные.\n",
        "\n",
        "### 4.1 Bag-of-words\n",
        "\n",
        "Пусть у нас имеется коллекция текстов $D = \\{d_i\\}_{i=1}^l$ и словарь всех слов, встречающихся в выборке $V = \\{v_j\\}_{j=1}^d.$ В этом случае некоторый текст $d_i$ описывается вектором $(x_{ij})_{j=1}^d,$ где\n",
        "$$x_{ij} = \\sum_{v \\in d_i} [v = v_j].$$\n",
        "\n",
        "Таким образом, текст $d_i$ описывается вектором количества вхождений каждого слова из словаря в данный текст."
      ]
    },
    {
      "cell_type": "code",
      "execution_count": 31,
      "metadata": {
        "ExecuteTime": {
          "end_time": "2023-04-18T16:50:58.095188Z",
          "start_time": "2023-04-18T16:50:58.040839Z"
        },
        "id": "x2eF8nZLvTY7"
      },
      "outputs": [],
      "source": [
        "texts = [\n",
        "    \"I like my cat.\",\n",
        "    \"My cat is the most perfect cat.\",\n",
        "    \"is this cat or is this bread?\",\n",
        "]"
      ]
    },
    {
      "cell_type": "code",
      "execution_count": 32,
      "metadata": {
        "ExecuteTime": {
          "end_time": "2023-04-18T16:50:58.104626Z",
          "start_time": "2023-04-18T16:50:58.043952Z"
        },
        "colab": {
          "base_uri": "https://localhost:8080/"
        },
        "id": "IjG4gU5JvTY7",
        "outputId": "360bc612-9fea-43cf-99ef-321d28e88a67"
      },
      "outputs": [
        {
          "output_type": "execute_result",
          "data": {
            "text/plain": [
              "['I like my cat',\n",
              " 'My cat is the most perfect cat',\n",
              " 'is this cat or is this bread']"
            ]
          },
          "metadata": {},
          "execution_count": 32
        }
      ],
      "source": [
        "texts_tokenized = [\n",
        "    \" \".join([w for w in word_tokenize(t) if w.isalpha()]) for t in texts\n",
        "]\n",
        "texts_tokenized"
      ]
    },
    {
      "cell_type": "code",
      "execution_count": 33,
      "metadata": {
        "ExecuteTime": {
          "end_time": "2023-04-18T16:50:58.104770Z",
          "start_time": "2023-04-18T16:50:58.046474Z"
        },
        "id": "NVomQglIvTY8"
      },
      "outputs": [],
      "source": [
        "from sklearn.feature_extraction.text import CountVectorizer\n",
        "\n",
        "cnt_vec = CountVectorizer()\n",
        "X = cnt_vec.fit_transform(texts_tokenized)"
      ]
    },
    {
      "cell_type": "code",
      "execution_count": 34,
      "metadata": {
        "ExecuteTime": {
          "end_time": "2023-04-18T16:50:58.104925Z",
          "start_time": "2023-04-18T16:50:58.049174Z"
        },
        "colab": {
          "base_uri": "https://localhost:8080/"
        },
        "id": "kwAKWt_4vTY9",
        "outputId": "90eaeeb6-c65c-4e06-e179-8d93cba30be7"
      },
      "outputs": [
        {
          "output_type": "execute_result",
          "data": {
            "text/plain": [
              "dict_keys(['like', 'my', 'cat', 'is', 'the', 'most', 'perfect', 'this', 'or', 'bread'])"
            ]
          },
          "metadata": {},
          "execution_count": 34
        }
      ],
      "source": [
        "cnt_vec.vocabulary_.keys()"
      ]
    },
    {
      "cell_type": "code",
      "execution_count": 35,
      "metadata": {
        "ExecuteTime": {
          "end_time": "2023-04-18T16:50:58.105067Z",
          "start_time": "2023-04-18T16:50:58.051691Z"
        },
        "colab": {
          "base_uri": "https://localhost:8080/"
        },
        "id": "Ye63VKazvTY-",
        "outputId": "07f6c69b-6157-40e7-d237-85fc57c10033"
      },
      "outputs": [
        {
          "output_type": "execute_result",
          "data": {
            "text/plain": [
              "<3x10 sparse matrix of type '<class 'numpy.int64'>'\n",
              "\twith 14 stored elements in Compressed Sparse Row format>"
            ]
          },
          "metadata": {},
          "execution_count": 35
        }
      ],
      "source": [
        "X"
      ]
    },
    {
      "cell_type": "code",
      "execution_count": 36,
      "metadata": {
        "ExecuteTime": {
          "end_time": "2023-04-18T16:50:58.105194Z",
          "start_time": "2023-04-18T16:50:58.054Z"
        },
        "colab": {
          "base_uri": "https://localhost:8080/"
        },
        "id": "PvYOzpALvTY-",
        "outputId": "04f2e017-2cd6-4dc9-fa78-3710d94dbc8c"
      },
      "outputs": [
        {
          "output_type": "execute_result",
          "data": {
            "text/plain": [
              "array([[0, 1, 0, 1, 0, 1, 0, 0, 0, 0],\n",
              "       [0, 2, 1, 0, 1, 1, 0, 1, 1, 0],\n",
              "       [1, 1, 2, 0, 0, 0, 1, 0, 0, 2]])"
            ]
          },
          "metadata": {},
          "execution_count": 36
        }
      ],
      "source": [
        "X.toarray()"
      ]
    },
    {
      "cell_type": "code",
      "execution_count": 37,
      "metadata": {
        "ExecuteTime": {
          "end_time": "2023-04-18T16:50:58.105450Z",
          "start_time": "2023-04-18T16:50:58.056639Z"
        },
        "colab": {
          "base_uri": "https://localhost:8080/",
          "height": 164
        },
        "id": "z40jdf5-vTY-",
        "outputId": "d571b637-8403-45b4-f34e-bc1dfa4b7a66"
      },
      "outputs": [
        {
          "output_type": "execute_result",
          "data": {
            "text/plain": [
              "   like  my  cat  is  the  most  perfect  this  or  bread\n",
              "0     0   1    0   1    0     1        0     0   0      0\n",
              "1     0   2    1   0    1     1        0     1   1      0\n",
              "2     1   1    2   0    0     0        1     0   0      2"
            ],
            "text/html": [
              "\n",
              "\n",
              "  <div id=\"df-f7acec4f-1d2f-44e9-b2b4-cc004a17b89a\">\n",
              "    <div class=\"colab-df-container\">\n",
              "      <div>\n",
              "<style scoped>\n",
              "    .dataframe tbody tr th:only-of-type {\n",
              "        vertical-align: middle;\n",
              "    }\n",
              "\n",
              "    .dataframe tbody tr th {\n",
              "        vertical-align: top;\n",
              "    }\n",
              "\n",
              "    .dataframe thead th {\n",
              "        text-align: right;\n",
              "    }\n",
              "</style>\n",
              "<table border=\"1\" class=\"dataframe\">\n",
              "  <thead>\n",
              "    <tr style=\"text-align: right;\">\n",
              "      <th></th>\n",
              "      <th>like</th>\n",
              "      <th>my</th>\n",
              "      <th>cat</th>\n",
              "      <th>is</th>\n",
              "      <th>the</th>\n",
              "      <th>most</th>\n",
              "      <th>perfect</th>\n",
              "      <th>this</th>\n",
              "      <th>or</th>\n",
              "      <th>bread</th>\n",
              "    </tr>\n",
              "  </thead>\n",
              "  <tbody>\n",
              "    <tr>\n",
              "      <th>0</th>\n",
              "      <td>0</td>\n",
              "      <td>1</td>\n",
              "      <td>0</td>\n",
              "      <td>1</td>\n",
              "      <td>0</td>\n",
              "      <td>1</td>\n",
              "      <td>0</td>\n",
              "      <td>0</td>\n",
              "      <td>0</td>\n",
              "      <td>0</td>\n",
              "    </tr>\n",
              "    <tr>\n",
              "      <th>1</th>\n",
              "      <td>0</td>\n",
              "      <td>2</td>\n",
              "      <td>1</td>\n",
              "      <td>0</td>\n",
              "      <td>1</td>\n",
              "      <td>1</td>\n",
              "      <td>0</td>\n",
              "      <td>1</td>\n",
              "      <td>1</td>\n",
              "      <td>0</td>\n",
              "    </tr>\n",
              "    <tr>\n",
              "      <th>2</th>\n",
              "      <td>1</td>\n",
              "      <td>1</td>\n",
              "      <td>2</td>\n",
              "      <td>0</td>\n",
              "      <td>0</td>\n",
              "      <td>0</td>\n",
              "      <td>1</td>\n",
              "      <td>0</td>\n",
              "      <td>0</td>\n",
              "      <td>2</td>\n",
              "    </tr>\n",
              "  </tbody>\n",
              "</table>\n",
              "</div>\n",
              "      <button class=\"colab-df-convert\" onclick=\"convertToInteractive('df-f7acec4f-1d2f-44e9-b2b4-cc004a17b89a')\"\n",
              "              title=\"Convert this dataframe to an interactive table.\"\n",
              "              style=\"display:none;\">\n",
              "\n",
              "  <svg xmlns=\"http://www.w3.org/2000/svg\" height=\"24px\"viewBox=\"0 0 24 24\"\n",
              "       width=\"24px\">\n",
              "    <path d=\"M0 0h24v24H0V0z\" fill=\"none\"/>\n",
              "    <path d=\"M18.56 5.44l.94 2.06.94-2.06 2.06-.94-2.06-.94-.94-2.06-.94 2.06-2.06.94zm-11 1L8.5 8.5l.94-2.06 2.06-.94-2.06-.94L8.5 2.5l-.94 2.06-2.06.94zm10 10l.94 2.06.94-2.06 2.06-.94-2.06-.94-.94-2.06-.94 2.06-2.06.94z\"/><path d=\"M17.41 7.96l-1.37-1.37c-.4-.4-.92-.59-1.43-.59-.52 0-1.04.2-1.43.59L10.3 9.45l-7.72 7.72c-.78.78-.78 2.05 0 2.83L4 21.41c.39.39.9.59 1.41.59.51 0 1.02-.2 1.41-.59l7.78-7.78 2.81-2.81c.8-.78.8-2.07 0-2.86zM5.41 20L4 18.59l7.72-7.72 1.47 1.35L5.41 20z\"/>\n",
              "  </svg>\n",
              "      </button>\n",
              "\n",
              "\n",
              "\n",
              "    <div id=\"df-db5bb252-7111-4c21-ace3-1cceacb0d4ce\">\n",
              "      <button class=\"colab-df-quickchart\" onclick=\"quickchart('df-db5bb252-7111-4c21-ace3-1cceacb0d4ce')\"\n",
              "              title=\"Suggest charts.\"\n",
              "              style=\"display:none;\">\n",
              "\n",
              "<svg xmlns=\"http://www.w3.org/2000/svg\" height=\"24px\"viewBox=\"0 0 24 24\"\n",
              "     width=\"24px\">\n",
              "    <g>\n",
              "        <path d=\"M19 3H5c-1.1 0-2 .9-2 2v14c0 1.1.9 2 2 2h14c1.1 0 2-.9 2-2V5c0-1.1-.9-2-2-2zM9 17H7v-7h2v7zm4 0h-2V7h2v10zm4 0h-2v-4h2v4z\"/>\n",
              "    </g>\n",
              "</svg>\n",
              "      </button>\n",
              "    </div>\n",
              "\n",
              "<style>\n",
              "  .colab-df-quickchart {\n",
              "    background-color: #E8F0FE;\n",
              "    border: none;\n",
              "    border-radius: 50%;\n",
              "    cursor: pointer;\n",
              "    display: none;\n",
              "    fill: #1967D2;\n",
              "    height: 32px;\n",
              "    padding: 0 0 0 0;\n",
              "    width: 32px;\n",
              "  }\n",
              "\n",
              "  .colab-df-quickchart:hover {\n",
              "    background-color: #E2EBFA;\n",
              "    box-shadow: 0px 1px 2px rgba(60, 64, 67, 0.3), 0px 1px 3px 1px rgba(60, 64, 67, 0.15);\n",
              "    fill: #174EA6;\n",
              "  }\n",
              "\n",
              "  [theme=dark] .colab-df-quickchart {\n",
              "    background-color: #3B4455;\n",
              "    fill: #D2E3FC;\n",
              "  }\n",
              "\n",
              "  [theme=dark] .colab-df-quickchart:hover {\n",
              "    background-color: #434B5C;\n",
              "    box-shadow: 0px 1px 3px 1px rgba(0, 0, 0, 0.15);\n",
              "    filter: drop-shadow(0px 1px 2px rgba(0, 0, 0, 0.3));\n",
              "    fill: #FFFFFF;\n",
              "  }\n",
              "</style>\n",
              "\n",
              "    <script>\n",
              "      async function quickchart(key) {\n",
              "        const containerElement = document.querySelector('#' + key);\n",
              "        const charts = await google.colab.kernel.invokeFunction(\n",
              "            'suggestCharts', [key], {});\n",
              "      }\n",
              "    </script>\n",
              "\n",
              "      <script>\n",
              "\n",
              "function displayQuickchartButton(domScope) {\n",
              "  let quickchartButtonEl =\n",
              "    domScope.querySelector('#df-db5bb252-7111-4c21-ace3-1cceacb0d4ce button.colab-df-quickchart');\n",
              "  quickchartButtonEl.style.display =\n",
              "    google.colab.kernel.accessAllowed ? 'block' : 'none';\n",
              "}\n",
              "\n",
              "        displayQuickchartButton(document);\n",
              "      </script>\n",
              "      <style>\n",
              "    .colab-df-container {\n",
              "      display:flex;\n",
              "      flex-wrap:wrap;\n",
              "      gap: 12px;\n",
              "    }\n",
              "\n",
              "    .colab-df-convert {\n",
              "      background-color: #E8F0FE;\n",
              "      border: none;\n",
              "      border-radius: 50%;\n",
              "      cursor: pointer;\n",
              "      display: none;\n",
              "      fill: #1967D2;\n",
              "      height: 32px;\n",
              "      padding: 0 0 0 0;\n",
              "      width: 32px;\n",
              "    }\n",
              "\n",
              "    .colab-df-convert:hover {\n",
              "      background-color: #E2EBFA;\n",
              "      box-shadow: 0px 1px 2px rgba(60, 64, 67, 0.3), 0px 1px 3px 1px rgba(60, 64, 67, 0.15);\n",
              "      fill: #174EA6;\n",
              "    }\n",
              "\n",
              "    [theme=dark] .colab-df-convert {\n",
              "      background-color: #3B4455;\n",
              "      fill: #D2E3FC;\n",
              "    }\n",
              "\n",
              "    [theme=dark] .colab-df-convert:hover {\n",
              "      background-color: #434B5C;\n",
              "      box-shadow: 0px 1px 3px 1px rgba(0, 0, 0, 0.15);\n",
              "      filter: drop-shadow(0px 1px 2px rgba(0, 0, 0, 0.3));\n",
              "      fill: #FFFFFF;\n",
              "    }\n",
              "  </style>\n",
              "\n",
              "      <script>\n",
              "        const buttonEl =\n",
              "          document.querySelector('#df-f7acec4f-1d2f-44e9-b2b4-cc004a17b89a button.colab-df-convert');\n",
              "        buttonEl.style.display =\n",
              "          google.colab.kernel.accessAllowed ? 'block' : 'none';\n",
              "\n",
              "        async function convertToInteractive(key) {\n",
              "          const element = document.querySelector('#df-f7acec4f-1d2f-44e9-b2b4-cc004a17b89a');\n",
              "          const dataTable =\n",
              "            await google.colab.kernel.invokeFunction('convertToInteractive',\n",
              "                                                     [key], {});\n",
              "          if (!dataTable) return;\n",
              "\n",
              "          const docLinkHtml = 'Like what you see? Visit the ' +\n",
              "            '<a target=\"_blank\" href=https://colab.research.google.com/notebooks/data_table.ipynb>data table notebook</a>'\n",
              "            + ' to learn more about interactive tables.';\n",
              "          element.innerHTML = '';\n",
              "          dataTable['output_type'] = 'display_data';\n",
              "          await google.colab.output.renderOutput(dataTable, element);\n",
              "          const docLink = document.createElement('div');\n",
              "          docLink.innerHTML = docLinkHtml;\n",
              "          element.appendChild(docLink);\n",
              "        }\n",
              "      </script>\n",
              "    </div>\n",
              "  </div>\n"
            ]
          },
          "metadata": {},
          "execution_count": 37
        }
      ],
      "source": [
        "pd.DataFrame(X.toarray(), columns=cnt_vec.vocabulary_.keys())"
      ]
    },
    {
      "cell_type": "markdown",
      "metadata": {
        "id": "4tZsL30hvTY-"
      },
      "source": [
        "### 4.2 TF-IDF\n",
        "\n",
        "Заметим, что если слово часто встречается в одном тексте, но почти не встречается в других, то оно получает для данного текста большой вес, ровно так же, как и слова, которые часто встречаются в каждом тексте. Для того чтобы разделять эти такие слова, можно использовать статистическую меру TF-IDF, характеризующую важность слова для конкретного текста. Для каждого слова из текста $d$ рассчитаем относительную частоту встречаемости в нем (Term Frequency):\n",
        "$$\n",
        "\\text{TF}(t, d) = \\frac{C(t | d)}{\\sum\\limits_{k \\in d}C(k | d)},\n",
        "$$\n",
        "где $C(t | d)$ - число вхождений слова $t$ в текст $d$.\n",
        "\n",
        "Также для каждого слова из текста $d$ рассчитаем обратную частоту встречаемости в корпусе текстов $D$ (Inverse Document Frequency):\n",
        "$$\n",
        "\\text{IDF}(t, D) = \\log\\left(\\frac{|D|}{|\\{d_i \\in D \\mid t \\in d_i\\}|}\\right)\n",
        "$$\n",
        "Логарифмирование здесь проводится с целью уменьшить масштаб весов, ибо зачастую в корпусах присутствует очень много текстов.\n",
        "\n",
        "В итоге каждому слову $t$ из текста $d$ теперь можно присвоить вес\n",
        "$$\n",
        "\\text{TF-IDF}(t, d, D) = \\text{TF}(t, d) \\times \\text{IDF}(t, D)\n",
        "$$\n",
        "Интерпретировать формулу выше несложно: действительно, чем чаще данное слово встречается в данном тексте и чем реже в остальных, тем важнее оно для этого текста.\n",
        "\n",
        "Отметим, что в качестве TF и IDF можно использовать другие [определения](https://en.wikipedia.org/wiki/Tf%E2%80%93idf#Definition)."
      ]
    },
    {
      "cell_type": "code",
      "execution_count": 38,
      "metadata": {
        "ExecuteTime": {
          "end_time": "2023-04-18T16:50:58.105509Z",
          "start_time": "2023-04-18T16:50:58.061637Z"
        },
        "id": "F0YcEWeqvTY_"
      },
      "outputs": [],
      "source": [
        "from sklearn.feature_extraction.text import TfidfVectorizer\n",
        "\n",
        "tfidf_vec = TfidfVectorizer()\n",
        "X = tfidf_vec.fit_transform(texts_tokenized)"
      ]
    },
    {
      "cell_type": "code",
      "execution_count": 39,
      "metadata": {
        "ExecuteTime": {
          "end_time": "2023-04-18T16:50:58.105598Z",
          "start_time": "2023-04-18T16:50:58.064598Z"
        },
        "colab": {
          "base_uri": "https://localhost:8080/"
        },
        "id": "fpCVQJG8vTY_",
        "outputId": "7d4a42b5-918e-4534-ff2b-f27bef9582da"
      },
      "outputs": [
        {
          "output_type": "execute_result",
          "data": {
            "text/plain": [
              "dict_keys(['like', 'my', 'cat', 'is', 'the', 'most', 'perfect', 'this', 'or', 'bread'])"
            ]
          },
          "metadata": {},
          "execution_count": 39
        }
      ],
      "source": [
        "tfidf_vec.vocabulary_.keys()"
      ]
    },
    {
      "cell_type": "code",
      "execution_count": 40,
      "metadata": {
        "ExecuteTime": {
          "end_time": "2023-04-18T16:50:58.105710Z",
          "start_time": "2023-04-18T16:50:58.066937Z"
        },
        "colab": {
          "base_uri": "https://localhost:8080/"
        },
        "id": "saJG0dWyvTZA",
        "outputId": "71647c05-df75-4d12-f8a5-a3e61bba34b6"
      },
      "outputs": [
        {
          "output_type": "execute_result",
          "data": {
            "text/plain": [
              "<3x10 sparse matrix of type '<class 'numpy.float64'>'\n",
              "\twith 14 stored elements in Compressed Sparse Row format>"
            ]
          },
          "metadata": {},
          "execution_count": 40
        }
      ],
      "source": [
        "X"
      ]
    },
    {
      "cell_type": "code",
      "execution_count": 41,
      "metadata": {
        "ExecuteTime": {
          "end_time": "2023-04-18T16:50:58.105840Z",
          "start_time": "2023-04-18T16:50:58.073856Z"
        },
        "colab": {
          "base_uri": "https://localhost:8080/"
        },
        "id": "t43byRVIvTZA",
        "outputId": "e9cbafb4-3cef-4a67-ef6e-326922b8e02b"
      },
      "outputs": [
        {
          "output_type": "execute_result",
          "data": {
            "text/plain": [
              "array([[0.        , 0.42544054, 0.        , 0.72033345, 0.        ,\n",
              "        0.54783215, 0.        , 0.        , 0.        , 0.        ],\n",
              "       [0.        , 0.50130994, 0.32276391, 0.        , 0.42439575,\n",
              "        0.32276391, 0.        , 0.42439575, 0.42439575, 0.        ],\n",
              "       [0.33976626, 0.20067143, 0.516802  , 0.        , 0.        ,\n",
              "        0.        , 0.33976626, 0.        , 0.        , 0.67953252]])"
            ]
          },
          "metadata": {},
          "execution_count": 41
        }
      ],
      "source": [
        "X.toarray()"
      ]
    },
    {
      "cell_type": "code",
      "execution_count": 42,
      "metadata": {
        "ExecuteTime": {
          "end_time": "2023-04-18T16:50:58.106645Z",
          "start_time": "2023-04-18T16:50:58.078284Z"
        },
        "colab": {
          "base_uri": "https://localhost:8080/",
          "height": 164
        },
        "id": "YGpSpl4KvTZA",
        "outputId": "ee4a8165-b275-45f3-c5a9-f31247cd26a5"
      },
      "outputs": [
        {
          "output_type": "execute_result",
          "data": {
            "text/plain": [
              "       like        my       cat        is       the      most   perfect  \\\n",
              "0  0.000000  0.425441  0.000000  0.720333  0.000000  0.547832  0.000000   \n",
              "1  0.000000  0.501310  0.322764  0.000000  0.424396  0.322764  0.000000   \n",
              "2  0.339766  0.200671  0.516802  0.000000  0.000000  0.000000  0.339766   \n",
              "\n",
              "       this        or     bread  \n",
              "0  0.000000  0.000000  0.000000  \n",
              "1  0.424396  0.424396  0.000000  \n",
              "2  0.000000  0.000000  0.679533  "
            ],
            "text/html": [
              "\n",
              "\n",
              "  <div id=\"df-cdee0baf-3b88-42e0-b122-c883299aaae9\">\n",
              "    <div class=\"colab-df-container\">\n",
              "      <div>\n",
              "<style scoped>\n",
              "    .dataframe tbody tr th:only-of-type {\n",
              "        vertical-align: middle;\n",
              "    }\n",
              "\n",
              "    .dataframe tbody tr th {\n",
              "        vertical-align: top;\n",
              "    }\n",
              "\n",
              "    .dataframe thead th {\n",
              "        text-align: right;\n",
              "    }\n",
              "</style>\n",
              "<table border=\"1\" class=\"dataframe\">\n",
              "  <thead>\n",
              "    <tr style=\"text-align: right;\">\n",
              "      <th></th>\n",
              "      <th>like</th>\n",
              "      <th>my</th>\n",
              "      <th>cat</th>\n",
              "      <th>is</th>\n",
              "      <th>the</th>\n",
              "      <th>most</th>\n",
              "      <th>perfect</th>\n",
              "      <th>this</th>\n",
              "      <th>or</th>\n",
              "      <th>bread</th>\n",
              "    </tr>\n",
              "  </thead>\n",
              "  <tbody>\n",
              "    <tr>\n",
              "      <th>0</th>\n",
              "      <td>0.000000</td>\n",
              "      <td>0.425441</td>\n",
              "      <td>0.000000</td>\n",
              "      <td>0.720333</td>\n",
              "      <td>0.000000</td>\n",
              "      <td>0.547832</td>\n",
              "      <td>0.000000</td>\n",
              "      <td>0.000000</td>\n",
              "      <td>0.000000</td>\n",
              "      <td>0.000000</td>\n",
              "    </tr>\n",
              "    <tr>\n",
              "      <th>1</th>\n",
              "      <td>0.000000</td>\n",
              "      <td>0.501310</td>\n",
              "      <td>0.322764</td>\n",
              "      <td>0.000000</td>\n",
              "      <td>0.424396</td>\n",
              "      <td>0.322764</td>\n",
              "      <td>0.000000</td>\n",
              "      <td>0.424396</td>\n",
              "      <td>0.424396</td>\n",
              "      <td>0.000000</td>\n",
              "    </tr>\n",
              "    <tr>\n",
              "      <th>2</th>\n",
              "      <td>0.339766</td>\n",
              "      <td>0.200671</td>\n",
              "      <td>0.516802</td>\n",
              "      <td>0.000000</td>\n",
              "      <td>0.000000</td>\n",
              "      <td>0.000000</td>\n",
              "      <td>0.339766</td>\n",
              "      <td>0.000000</td>\n",
              "      <td>0.000000</td>\n",
              "      <td>0.679533</td>\n",
              "    </tr>\n",
              "  </tbody>\n",
              "</table>\n",
              "</div>\n",
              "      <button class=\"colab-df-convert\" onclick=\"convertToInteractive('df-cdee0baf-3b88-42e0-b122-c883299aaae9')\"\n",
              "              title=\"Convert this dataframe to an interactive table.\"\n",
              "              style=\"display:none;\">\n",
              "\n",
              "  <svg xmlns=\"http://www.w3.org/2000/svg\" height=\"24px\"viewBox=\"0 0 24 24\"\n",
              "       width=\"24px\">\n",
              "    <path d=\"M0 0h24v24H0V0z\" fill=\"none\"/>\n",
              "    <path d=\"M18.56 5.44l.94 2.06.94-2.06 2.06-.94-2.06-.94-.94-2.06-.94 2.06-2.06.94zm-11 1L8.5 8.5l.94-2.06 2.06-.94-2.06-.94L8.5 2.5l-.94 2.06-2.06.94zm10 10l.94 2.06.94-2.06 2.06-.94-2.06-.94-.94-2.06-.94 2.06-2.06.94z\"/><path d=\"M17.41 7.96l-1.37-1.37c-.4-.4-.92-.59-1.43-.59-.52 0-1.04.2-1.43.59L10.3 9.45l-7.72 7.72c-.78.78-.78 2.05 0 2.83L4 21.41c.39.39.9.59 1.41.59.51 0 1.02-.2 1.41-.59l7.78-7.78 2.81-2.81c.8-.78.8-2.07 0-2.86zM5.41 20L4 18.59l7.72-7.72 1.47 1.35L5.41 20z\"/>\n",
              "  </svg>\n",
              "      </button>\n",
              "\n",
              "\n",
              "\n",
              "    <div id=\"df-ebad1909-5b83-41da-a227-fbf3a8caadfe\">\n",
              "      <button class=\"colab-df-quickchart\" onclick=\"quickchart('df-ebad1909-5b83-41da-a227-fbf3a8caadfe')\"\n",
              "              title=\"Suggest charts.\"\n",
              "              style=\"display:none;\">\n",
              "\n",
              "<svg xmlns=\"http://www.w3.org/2000/svg\" height=\"24px\"viewBox=\"0 0 24 24\"\n",
              "     width=\"24px\">\n",
              "    <g>\n",
              "        <path d=\"M19 3H5c-1.1 0-2 .9-2 2v14c0 1.1.9 2 2 2h14c1.1 0 2-.9 2-2V5c0-1.1-.9-2-2-2zM9 17H7v-7h2v7zm4 0h-2V7h2v10zm4 0h-2v-4h2v4z\"/>\n",
              "    </g>\n",
              "</svg>\n",
              "      </button>\n",
              "    </div>\n",
              "\n",
              "<style>\n",
              "  .colab-df-quickchart {\n",
              "    background-color: #E8F0FE;\n",
              "    border: none;\n",
              "    border-radius: 50%;\n",
              "    cursor: pointer;\n",
              "    display: none;\n",
              "    fill: #1967D2;\n",
              "    height: 32px;\n",
              "    padding: 0 0 0 0;\n",
              "    width: 32px;\n",
              "  }\n",
              "\n",
              "  .colab-df-quickchart:hover {\n",
              "    background-color: #E2EBFA;\n",
              "    box-shadow: 0px 1px 2px rgba(60, 64, 67, 0.3), 0px 1px 3px 1px rgba(60, 64, 67, 0.15);\n",
              "    fill: #174EA6;\n",
              "  }\n",
              "\n",
              "  [theme=dark] .colab-df-quickchart {\n",
              "    background-color: #3B4455;\n",
              "    fill: #D2E3FC;\n",
              "  }\n",
              "\n",
              "  [theme=dark] .colab-df-quickchart:hover {\n",
              "    background-color: #434B5C;\n",
              "    box-shadow: 0px 1px 3px 1px rgba(0, 0, 0, 0.15);\n",
              "    filter: drop-shadow(0px 1px 2px rgba(0, 0, 0, 0.3));\n",
              "    fill: #FFFFFF;\n",
              "  }\n",
              "</style>\n",
              "\n",
              "    <script>\n",
              "      async function quickchart(key) {\n",
              "        const containerElement = document.querySelector('#' + key);\n",
              "        const charts = await google.colab.kernel.invokeFunction(\n",
              "            'suggestCharts', [key], {});\n",
              "      }\n",
              "    </script>\n",
              "\n",
              "      <script>\n",
              "\n",
              "function displayQuickchartButton(domScope) {\n",
              "  let quickchartButtonEl =\n",
              "    domScope.querySelector('#df-ebad1909-5b83-41da-a227-fbf3a8caadfe button.colab-df-quickchart');\n",
              "  quickchartButtonEl.style.display =\n",
              "    google.colab.kernel.accessAllowed ? 'block' : 'none';\n",
              "}\n",
              "\n",
              "        displayQuickchartButton(document);\n",
              "      </script>\n",
              "      <style>\n",
              "    .colab-df-container {\n",
              "      display:flex;\n",
              "      flex-wrap:wrap;\n",
              "      gap: 12px;\n",
              "    }\n",
              "\n",
              "    .colab-df-convert {\n",
              "      background-color: #E8F0FE;\n",
              "      border: none;\n",
              "      border-radius: 50%;\n",
              "      cursor: pointer;\n",
              "      display: none;\n",
              "      fill: #1967D2;\n",
              "      height: 32px;\n",
              "      padding: 0 0 0 0;\n",
              "      width: 32px;\n",
              "    }\n",
              "\n",
              "    .colab-df-convert:hover {\n",
              "      background-color: #E2EBFA;\n",
              "      box-shadow: 0px 1px 2px rgba(60, 64, 67, 0.3), 0px 1px 3px 1px rgba(60, 64, 67, 0.15);\n",
              "      fill: #174EA6;\n",
              "    }\n",
              "\n",
              "    [theme=dark] .colab-df-convert {\n",
              "      background-color: #3B4455;\n",
              "      fill: #D2E3FC;\n",
              "    }\n",
              "\n",
              "    [theme=dark] .colab-df-convert:hover {\n",
              "      background-color: #434B5C;\n",
              "      box-shadow: 0px 1px 3px 1px rgba(0, 0, 0, 0.15);\n",
              "      filter: drop-shadow(0px 1px 2px rgba(0, 0, 0, 0.3));\n",
              "      fill: #FFFFFF;\n",
              "    }\n",
              "  </style>\n",
              "\n",
              "      <script>\n",
              "        const buttonEl =\n",
              "          document.querySelector('#df-cdee0baf-3b88-42e0-b122-c883299aaae9 button.colab-df-convert');\n",
              "        buttonEl.style.display =\n",
              "          google.colab.kernel.accessAllowed ? 'block' : 'none';\n",
              "\n",
              "        async function convertToInteractive(key) {\n",
              "          const element = document.querySelector('#df-cdee0baf-3b88-42e0-b122-c883299aaae9');\n",
              "          const dataTable =\n",
              "            await google.colab.kernel.invokeFunction('convertToInteractive',\n",
              "                                                     [key], {});\n",
              "          if (!dataTable) return;\n",
              "\n",
              "          const docLinkHtml = 'Like what you see? Visit the ' +\n",
              "            '<a target=\"_blank\" href=https://colab.research.google.com/notebooks/data_table.ipynb>data table notebook</a>'\n",
              "            + ' to learn more about interactive tables.';\n",
              "          element.innerHTML = '';\n",
              "          dataTable['output_type'] = 'display_data';\n",
              "          await google.colab.output.renderOutput(dataTable, element);\n",
              "          const docLink = document.createElement('div');\n",
              "          docLink.innerHTML = docLinkHtml;\n",
              "          element.appendChild(docLink);\n",
              "        }\n",
              "      </script>\n",
              "    </div>\n",
              "  </div>\n"
            ]
          },
          "metadata": {},
          "execution_count": 42
        }
      ],
      "source": [
        "pd.DataFrame(X.toarray(), columns=tfidf_vec.vocabulary_.keys())"
      ]
    },
    {
      "cell_type": "markdown",
      "metadata": {
        "id": "Iwcgx05UvTZA"
      },
      "source": [
        "**Вопрос:** что изменилось по сравнению с использованием метода `CountVectorizer`?"
      ]
    },
    {
      "cell_type": "markdown",
      "metadata": {
        "id": "hrP93rWwvTZB"
      },
      "source": [
        "## 5. Решение задачи с текстовыми данными\n",
        "\n",
        "Будем решать задачу классификации твитов по тональности. Возьмём датасет из твитов, в котором про каждый твит известно, как он эмоционально окрашен: положительно или отрицательно. Задача: предсказывать эмоциональную окраску. Классификацию по тональности используют, например, в рекомендательных системах, чтобы понять, понравилось ли людям кафе, кино, etc.\n",
        "\n",
        "Скачиваем куски датасета ([источник](http://study.mokoron.com/)): [положительные](https://www.dropbox.com/s/fnpq3z4bcnoktiv/positive.csv?dl=0), [отрицательные](https://www.dropbox.com/s/r6u59ljhhjdg6j0/negative.csv)."
      ]
    },
    {
      "cell_type": "code",
      "execution_count": 43,
      "metadata": {
        "ExecuteTime": {
          "end_time": "2023-04-18T16:50:58.106741Z",
          "start_time": "2023-04-18T16:50:58.082275Z"
        },
        "id": "R6Kj2UDCbR2_"
      },
      "outputs": [],
      "source": [
        "import numpy as np\n",
        "import pandas as pd\n",
        "from sklearn.linear_model import LogisticRegression\n",
        "from sklearn.metrics import classification_report, roc_auc_score\n",
        "from sklearn.model_selection import train_test_split\n",
        "from sklearn.preprocessing import MaxAbsScaler"
      ]
    },
    {
      "cell_type": "code",
      "execution_count": 45,
      "metadata": {
        "ExecuteTime": {
          "end_time": "2023-04-18T16:50:58.494315Z",
          "start_time": "2023-04-18T16:50:58.085576Z"
        },
        "id": "klHlDntAbR2_"
      },
      "outputs": [],
      "source": [
        "# считываем данные и заполняем общий датасет\n",
        "positive = pd.read_csv(\"https://raw.githubusercontent.com/Murcha1990/Raiffaizen_ML_summer2023/main/Datasets/positive_tweets.csv\")\n",
        "negative = pd.read_csv(\"https://raw.githubusercontent.com/Murcha1990/Raiffaizen_ML_summer2023/main/Datasets/negative_tweets.csv\")\n",
        "df = pd.concat([positive, negative])"
      ]
    },
    {
      "cell_type": "code",
      "execution_count": 46,
      "metadata": {
        "ExecuteTime": {
          "end_time": "2023-04-18T16:50:58.498928Z",
          "start_time": "2023-04-18T16:50:58.495906Z"
        },
        "colab": {
          "base_uri": "https://localhost:8080/",
          "height": 228
        },
        "id": "NOx1D6mFbR2_",
        "outputId": "c2e317e6-50d1-410b-d7e7-264ec7777d71"
      },
      "outputs": [
        {
          "output_type": "execute_result",
          "data": {
            "text/plain": [
              "                                                     text     label\n",
              "111918  Но не каждый хочет что то исправлять:( http://...  negative\n",
              "111919  скучаю так :-( только @taaannyaaa вправляет мо...  negative\n",
              "111920          Вот и в школу, в говно это идти уже надо(  negative\n",
              "111921  RT @_Them__: @LisaBeroud Тауриэль, не грусти :...  negative\n",
              "111922  Такси везет меня на работу. Раздумываю приплат...  negative"
            ],
            "text/html": [
              "\n",
              "\n",
              "  <div id=\"df-c34a3ad6-1750-4766-ba22-92d14d1adeef\">\n",
              "    <div class=\"colab-df-container\">\n",
              "      <div>\n",
              "<style scoped>\n",
              "    .dataframe tbody tr th:only-of-type {\n",
              "        vertical-align: middle;\n",
              "    }\n",
              "\n",
              "    .dataframe tbody tr th {\n",
              "        vertical-align: top;\n",
              "    }\n",
              "\n",
              "    .dataframe thead th {\n",
              "        text-align: right;\n",
              "    }\n",
              "</style>\n",
              "<table border=\"1\" class=\"dataframe\">\n",
              "  <thead>\n",
              "    <tr style=\"text-align: right;\">\n",
              "      <th></th>\n",
              "      <th>text</th>\n",
              "      <th>label</th>\n",
              "    </tr>\n",
              "  </thead>\n",
              "  <tbody>\n",
              "    <tr>\n",
              "      <th>111918</th>\n",
              "      <td>Но не каждый хочет что то исправлять:( http://...</td>\n",
              "      <td>negative</td>\n",
              "    </tr>\n",
              "    <tr>\n",
              "      <th>111919</th>\n",
              "      <td>скучаю так :-( только @taaannyaaa вправляет мо...</td>\n",
              "      <td>negative</td>\n",
              "    </tr>\n",
              "    <tr>\n",
              "      <th>111920</th>\n",
              "      <td>Вот и в школу, в говно это идти уже надо(</td>\n",
              "      <td>negative</td>\n",
              "    </tr>\n",
              "    <tr>\n",
              "      <th>111921</th>\n",
              "      <td>RT @_Them__: @LisaBeroud Тауриэль, не грусти :...</td>\n",
              "      <td>negative</td>\n",
              "    </tr>\n",
              "    <tr>\n",
              "      <th>111922</th>\n",
              "      <td>Такси везет меня на работу. Раздумываю приплат...</td>\n",
              "      <td>negative</td>\n",
              "    </tr>\n",
              "  </tbody>\n",
              "</table>\n",
              "</div>\n",
              "      <button class=\"colab-df-convert\" onclick=\"convertToInteractive('df-c34a3ad6-1750-4766-ba22-92d14d1adeef')\"\n",
              "              title=\"Convert this dataframe to an interactive table.\"\n",
              "              style=\"display:none;\">\n",
              "\n",
              "  <svg xmlns=\"http://www.w3.org/2000/svg\" height=\"24px\"viewBox=\"0 0 24 24\"\n",
              "       width=\"24px\">\n",
              "    <path d=\"M0 0h24v24H0V0z\" fill=\"none\"/>\n",
              "    <path d=\"M18.56 5.44l.94 2.06.94-2.06 2.06-.94-2.06-.94-.94-2.06-.94 2.06-2.06.94zm-11 1L8.5 8.5l.94-2.06 2.06-.94-2.06-.94L8.5 2.5l-.94 2.06-2.06.94zm10 10l.94 2.06.94-2.06 2.06-.94-2.06-.94-.94-2.06-.94 2.06-2.06.94z\"/><path d=\"M17.41 7.96l-1.37-1.37c-.4-.4-.92-.59-1.43-.59-.52 0-1.04.2-1.43.59L10.3 9.45l-7.72 7.72c-.78.78-.78 2.05 0 2.83L4 21.41c.39.39.9.59 1.41.59.51 0 1.02-.2 1.41-.59l7.78-7.78 2.81-2.81c.8-.78.8-2.07 0-2.86zM5.41 20L4 18.59l7.72-7.72 1.47 1.35L5.41 20z\"/>\n",
              "  </svg>\n",
              "      </button>\n",
              "\n",
              "\n",
              "\n",
              "    <div id=\"df-3287c9a6-b603-4318-9dfc-3494bd1012d6\">\n",
              "      <button class=\"colab-df-quickchart\" onclick=\"quickchart('df-3287c9a6-b603-4318-9dfc-3494bd1012d6')\"\n",
              "              title=\"Suggest charts.\"\n",
              "              style=\"display:none;\">\n",
              "\n",
              "<svg xmlns=\"http://www.w3.org/2000/svg\" height=\"24px\"viewBox=\"0 0 24 24\"\n",
              "     width=\"24px\">\n",
              "    <g>\n",
              "        <path d=\"M19 3H5c-1.1 0-2 .9-2 2v14c0 1.1.9 2 2 2h14c1.1 0 2-.9 2-2V5c0-1.1-.9-2-2-2zM9 17H7v-7h2v7zm4 0h-2V7h2v10zm4 0h-2v-4h2v4z\"/>\n",
              "    </g>\n",
              "</svg>\n",
              "      </button>\n",
              "    </div>\n",
              "\n",
              "<style>\n",
              "  .colab-df-quickchart {\n",
              "    background-color: #E8F0FE;\n",
              "    border: none;\n",
              "    border-radius: 50%;\n",
              "    cursor: pointer;\n",
              "    display: none;\n",
              "    fill: #1967D2;\n",
              "    height: 32px;\n",
              "    padding: 0 0 0 0;\n",
              "    width: 32px;\n",
              "  }\n",
              "\n",
              "  .colab-df-quickchart:hover {\n",
              "    background-color: #E2EBFA;\n",
              "    box-shadow: 0px 1px 2px rgba(60, 64, 67, 0.3), 0px 1px 3px 1px rgba(60, 64, 67, 0.15);\n",
              "    fill: #174EA6;\n",
              "  }\n",
              "\n",
              "  [theme=dark] .colab-df-quickchart {\n",
              "    background-color: #3B4455;\n",
              "    fill: #D2E3FC;\n",
              "  }\n",
              "\n",
              "  [theme=dark] .colab-df-quickchart:hover {\n",
              "    background-color: #434B5C;\n",
              "    box-shadow: 0px 1px 3px 1px rgba(0, 0, 0, 0.15);\n",
              "    filter: drop-shadow(0px 1px 2px rgba(0, 0, 0, 0.3));\n",
              "    fill: #FFFFFF;\n",
              "  }\n",
              "</style>\n",
              "\n",
              "    <script>\n",
              "      async function quickchart(key) {\n",
              "        const containerElement = document.querySelector('#' + key);\n",
              "        const charts = await google.colab.kernel.invokeFunction(\n",
              "            'suggestCharts', [key], {});\n",
              "      }\n",
              "    </script>\n",
              "\n",
              "      <script>\n",
              "\n",
              "function displayQuickchartButton(domScope) {\n",
              "  let quickchartButtonEl =\n",
              "    domScope.querySelector('#df-3287c9a6-b603-4318-9dfc-3494bd1012d6 button.colab-df-quickchart');\n",
              "  quickchartButtonEl.style.display =\n",
              "    google.colab.kernel.accessAllowed ? 'block' : 'none';\n",
              "}\n",
              "\n",
              "        displayQuickchartButton(document);\n",
              "      </script>\n",
              "      <style>\n",
              "    .colab-df-container {\n",
              "      display:flex;\n",
              "      flex-wrap:wrap;\n",
              "      gap: 12px;\n",
              "    }\n",
              "\n",
              "    .colab-df-convert {\n",
              "      background-color: #E8F0FE;\n",
              "      border: none;\n",
              "      border-radius: 50%;\n",
              "      cursor: pointer;\n",
              "      display: none;\n",
              "      fill: #1967D2;\n",
              "      height: 32px;\n",
              "      padding: 0 0 0 0;\n",
              "      width: 32px;\n",
              "    }\n",
              "\n",
              "    .colab-df-convert:hover {\n",
              "      background-color: #E2EBFA;\n",
              "      box-shadow: 0px 1px 2px rgba(60, 64, 67, 0.3), 0px 1px 3px 1px rgba(60, 64, 67, 0.15);\n",
              "      fill: #174EA6;\n",
              "    }\n",
              "\n",
              "    [theme=dark] .colab-df-convert {\n",
              "      background-color: #3B4455;\n",
              "      fill: #D2E3FC;\n",
              "    }\n",
              "\n",
              "    [theme=dark] .colab-df-convert:hover {\n",
              "      background-color: #434B5C;\n",
              "      box-shadow: 0px 1px 3px 1px rgba(0, 0, 0, 0.15);\n",
              "      filter: drop-shadow(0px 1px 2px rgba(0, 0, 0, 0.3));\n",
              "      fill: #FFFFFF;\n",
              "    }\n",
              "  </style>\n",
              "\n",
              "      <script>\n",
              "        const buttonEl =\n",
              "          document.querySelector('#df-c34a3ad6-1750-4766-ba22-92d14d1adeef button.colab-df-convert');\n",
              "        buttonEl.style.display =\n",
              "          google.colab.kernel.accessAllowed ? 'block' : 'none';\n",
              "\n",
              "        async function convertToInteractive(key) {\n",
              "          const element = document.querySelector('#df-c34a3ad6-1750-4766-ba22-92d14d1adeef');\n",
              "          const dataTable =\n",
              "            await google.colab.kernel.invokeFunction('convertToInteractive',\n",
              "                                                     [key], {});\n",
              "          if (!dataTable) return;\n",
              "\n",
              "          const docLinkHtml = 'Like what you see? Visit the ' +\n",
              "            '<a target=\"_blank\" href=https://colab.research.google.com/notebooks/data_table.ipynb>data table notebook</a>'\n",
              "            + ' to learn more about interactive tables.';\n",
              "          element.innerHTML = '';\n",
              "          dataTable['output_type'] = 'display_data';\n",
              "          await google.colab.output.renderOutput(dataTable, element);\n",
              "          const docLink = document.createElement('div');\n",
              "          docLink.innerHTML = docLinkHtml;\n",
              "          element.appendChild(docLink);\n",
              "        }\n",
              "      </script>\n",
              "    </div>\n",
              "  </div>\n"
            ]
          },
          "metadata": {},
          "execution_count": 46
        }
      ],
      "source": [
        "df.tail()"
      ]
    },
    {
      "cell_type": "code",
      "execution_count": 47,
      "metadata": {
        "ExecuteTime": {
          "end_time": "2023-04-18T16:50:58.501134Z",
          "start_time": "2023-04-18T16:50:58.498598Z"
        },
        "colab": {
          "base_uri": "https://localhost:8080/"
        },
        "id": "GsDtXDT6bR3A",
        "outputId": "e19a1710-dcbf-4dd4-debe-0df0f367190c"
      },
      "outputs": [
        {
          "output_type": "execute_result",
          "data": {
            "text/plain": [
              "(226834, 2)"
            ]
          },
          "metadata": {},
          "execution_count": 47
        }
      ],
      "source": [
        "df.shape"
      ]
    },
    {
      "cell_type": "code",
      "execution_count": 48,
      "metadata": {
        "ExecuteTime": {
          "end_time": "2023-04-18T16:50:58.534375Z",
          "start_time": "2023-04-18T16:50:58.501394Z"
        },
        "id": "Hl6lpWBcbR3A"
      },
      "outputs": [],
      "source": [
        "x_train, x_test, y_train, y_test = train_test_split(df.text, df.label, random_state=13)"
      ]
    },
    {
      "cell_type": "markdown",
      "metadata": {
        "id": "JfTm_-3sbR3A"
      },
      "source": [
        "#### n-граммы\n",
        "\n",
        "n-граммы — это последовательности n токенов из исходного текста. В простейшем случае это могут быть последовательности из букв или последовательности из слов. Давайте посмотрим подробнее на примере."
      ]
    },
    {
      "cell_type": "code",
      "execution_count": 49,
      "metadata": {
        "ExecuteTime": {
          "end_time": "2023-04-18T16:50:58.535017Z",
          "start_time": "2023-04-18T16:50:58.516459Z"
        },
        "id": "mMoCnsi5vTZB"
      },
      "outputs": [],
      "source": [
        "from nltk import ngrams"
      ]
    },
    {
      "cell_type": "code",
      "execution_count": 50,
      "metadata": {
        "ExecuteTime": {
          "end_time": "2023-04-18T16:50:58.555122Z",
          "start_time": "2023-04-18T16:50:58.518609Z"
        },
        "colab": {
          "base_uri": "https://localhost:8080/"
        },
        "id": "lIf_da6RvTZD",
        "outputId": "4cdb9d7f-bf32-4967-e25b-20203e4b0991"
      },
      "outputs": [
        {
          "output_type": "execute_result",
          "data": {
            "text/plain": [
              "[('Если',), ('б',), ('мне',), ('платили',), ('каждый',), ('раз',)]"
            ]
          },
          "metadata": {},
          "execution_count": 50
        }
      ],
      "source": [
        "sent = \"Если б мне платили каждый раз\".split()\n",
        "list(ngrams(sent, 1))  # униграммы"
      ]
    },
    {
      "cell_type": "code",
      "execution_count": 51,
      "metadata": {
        "ExecuteTime": {
          "end_time": "2023-04-18T16:50:58.555317Z",
          "start_time": "2023-04-18T16:50:58.521205Z"
        },
        "colab": {
          "base_uri": "https://localhost:8080/"
        },
        "id": "YhaYTVyuvTZD",
        "outputId": "859b5e53-c231-444a-9b1a-6a75d3044cbc"
      },
      "outputs": [
        {
          "output_type": "execute_result",
          "data": {
            "text/plain": [
              "[('Если', 'б'),\n",
              " ('б', 'мне'),\n",
              " ('мне', 'платили'),\n",
              " ('платили', 'каждый'),\n",
              " ('каждый', 'раз')]"
            ]
          },
          "metadata": {},
          "execution_count": 51
        }
      ],
      "source": [
        "list(ngrams(sent, 2))  # биграммы"
      ]
    },
    {
      "cell_type": "code",
      "execution_count": 52,
      "metadata": {
        "ExecuteTime": {
          "end_time": "2023-04-18T16:50:58.555416Z",
          "start_time": "2023-04-18T16:50:58.523529Z"
        },
        "colab": {
          "base_uri": "https://localhost:8080/"
        },
        "id": "3fpat_ZGvTZD",
        "outputId": "f1ff9d17-1faa-4d4e-e482-4bde23f277a6"
      },
      "outputs": [
        {
          "output_type": "execute_result",
          "data": {
            "text/plain": [
              "[('Если', 'б', 'мне'),\n",
              " ('б', 'мне', 'платили'),\n",
              " ('мне', 'платили', 'каждый'),\n",
              " ('платили', 'каждый', 'раз')]"
            ]
          },
          "metadata": {},
          "execution_count": 52
        }
      ],
      "source": [
        "list(ngrams(sent, 3))  # триграммы"
      ]
    },
    {
      "cell_type": "code",
      "execution_count": 53,
      "metadata": {
        "ExecuteTime": {
          "end_time": "2023-04-18T16:50:58.555533Z",
          "start_time": "2023-04-18T16:50:58.525914Z"
        },
        "colab": {
          "base_uri": "https://localhost:8080/"
        },
        "id": "wK2QdeycvTZE",
        "outputId": "5f531ab8-4963-43d6-df08-1a7aedf3bb25"
      },
      "outputs": [
        {
          "output_type": "execute_result",
          "data": {
            "text/plain": [
              "[('Если', 'б', 'мне', 'платили', 'каждый'),\n",
              " ('б', 'мне', 'платили', 'каждый', 'раз')]"
            ]
          },
          "metadata": {},
          "execution_count": 53
        }
      ],
      "source": [
        "list(ngrams(sent, 5))  # ... пентаграммы?"
      ]
    },
    {
      "cell_type": "markdown",
      "metadata": {
        "id": "t51hgE52bR3A"
      },
      "source": [
        "В качестве альтернативы можно пользоваться `CountVectorizer`, который работает так:\n",
        "* строит для каждого документа (каждой пришедшей ему строки) вектор размерности количества токенов в нашем словаре\n",
        "* заполняет каждый i-тый элемент количеством вхождений токена в данный документ\n",
        "\n",
        "Параметр `ngram_range` отвечает за то, какие n-граммы мы используем в качестве фичей:\n",
        "- `ngram_range=(1, 1)` — униграммы\n",
        "- `ngram_range=(3, 3)` — триграммы\n",
        "- `ngram_range=(1, 3)` — униграммы, биграммы и триграммы"
      ]
    },
    {
      "cell_type": "markdown",
      "metadata": {
        "id": "qRoCBw4sbR3B"
      },
      "source": [
        "### 5.1 Обучение моделей\n",
        "\n",
        "Давайте обучим наш первый бейзлайн — логрег на униграммах!"
      ]
    },
    {
      "cell_type": "code",
      "execution_count": 54,
      "metadata": {
        "ExecuteTime": {
          "end_time": "2023-04-18T16:51:05.699896Z",
          "start_time": "2023-04-18T16:50:58.589759Z"
        },
        "colab": {
          "base_uri": "https://localhost:8080/"
        },
        "id": "HFQV-aUlbR3B",
        "outputId": "6399df4e-0897-4898-e04f-bc33f8900be9"
      },
      "outputs": [
        {
          "output_type": "stream",
          "name": "stdout",
          "text": [
            "              precision    recall  f1-score   support\n",
            "\n",
            "    negative       0.76      0.77      0.76     27957\n",
            "    positive       0.77      0.76      0.77     28752\n",
            "\n",
            "    accuracy                           0.76     56709\n",
            "   macro avg       0.76      0.76      0.76     56709\n",
            "weighted avg       0.76      0.76      0.76     56709\n",
            "\n"
          ]
        }
      ],
      "source": [
        "vec = CountVectorizer(ngram_range=(1, 1))\n",
        "bow = vec.fit_transform(x_train)  # bow — bag of words (мешок слов)\n",
        "bow_test = vec.transform(x_test)\n",
        "\n",
        "scaler = MaxAbsScaler()\n",
        "bow = scaler.fit_transform(bow)\n",
        "bow_test = scaler.transform(bow_test)\n",
        "\n",
        "clf = LogisticRegression(max_iter=200, random_state=42)\n",
        "clf.fit(bow, y_train)\n",
        "pred = clf.predict(bow_test)\n",
        "print(classification_report(y_test, pred))"
      ]
    },
    {
      "cell_type": "markdown",
      "metadata": {
        "id": "3a56F0vivTZL"
      },
      "source": [
        "Попробуем сделать то же самое для триграмм."
      ]
    },
    {
      "cell_type": "code",
      "execution_count": 55,
      "metadata": {
        "ExecuteTime": {
          "end_time": "2023-04-18T16:51:32.529458Z",
          "start_time": "2023-04-18T16:51:05.755811Z"
        },
        "colab": {
          "base_uri": "https://localhost:8080/"
        },
        "id": "M3GF-cDvbR3B",
        "outputId": "c9d775b4-5197-48f3-d777-6e57352482f9"
      },
      "outputs": [
        {
          "output_type": "stream",
          "name": "stdout",
          "text": [
            "              precision    recall  f1-score   support\n",
            "\n",
            "    negative       0.72      0.47      0.57     27957\n",
            "    positive       0.61      0.82      0.70     28752\n",
            "\n",
            "    accuracy                           0.65     56709\n",
            "   macro avg       0.67      0.65      0.64     56709\n",
            "weighted avg       0.67      0.65      0.64     56709\n",
            "\n"
          ]
        }
      ],
      "source": [
        "vec = CountVectorizer(ngram_range=(3, 3))\n",
        "bow = vec.fit_transform(x_train)\n",
        "bow_test = vec.transform(x_test)\n",
        "\n",
        "scaler = MaxAbsScaler()\n",
        "bow = scaler.fit_transform(bow)\n",
        "bow_test = scaler.transform(bow_test)\n",
        "\n",
        "clf = LogisticRegression(max_iter=200, random_state=42)\n",
        "clf.fit(bow, y_train)\n",
        "pred_thrgramm = clf.predict(bow_test)\n",
        "print(classification_report(y_test, pred_thrgramm))"
      ]
    },
    {
      "cell_type": "markdown",
      "metadata": {
        "id": "ySP1M-nJbR3B"
      },
      "source": [
        "В нашем случае стало хуже :)"
      ]
    },
    {
      "cell_type": "markdown",
      "metadata": {
        "id": "EyW9lA_6vTZL"
      },
      "source": [
        "А теперь повторим процедуру для TF-IDF."
      ]
    },
    {
      "cell_type": "code",
      "execution_count": 56,
      "metadata": {
        "ExecuteTime": {
          "end_time": "2023-04-18T16:51:40.397191Z",
          "start_time": "2023-04-18T16:51:32.587689Z"
        },
        "colab": {
          "base_uri": "https://localhost:8080/"
        },
        "id": "5RWk5BFqbR3B",
        "outputId": "ce664640-98b3-48e1-b142-54241b7f8d7e"
      },
      "outputs": [
        {
          "output_type": "stream",
          "name": "stdout",
          "text": [
            "              precision    recall  f1-score   support\n",
            "\n",
            "    negative       0.77      0.75      0.76     27957\n",
            "    positive       0.76      0.78      0.77     28752\n",
            "\n",
            "    accuracy                           0.76     56709\n",
            "   macro avg       0.76      0.76      0.76     56709\n",
            "weighted avg       0.76      0.76      0.76     56709\n",
            "\n"
          ]
        }
      ],
      "source": [
        "vec = TfidfVectorizer(ngram_range=(1, 1))\n",
        "vec_train = vec.fit_transform(x_train)\n",
        "vec_test = vec.transform(x_test)\n",
        "\n",
        "scaler = MaxAbsScaler()\n",
        "vec_train = scaler.fit_transform(vec_train)\n",
        "vec_test = scaler.transform(vec_test)\n",
        "\n",
        "clf = LogisticRegression(max_iter=300, random_state=42)\n",
        "clf.fit(vec_train, y_train)\n",
        "pred_tfidf = clf.predict(vec_test)\n",
        "print(classification_report(y_test, pred_tfidf))"
      ]
    },
    {
      "cell_type": "markdown",
      "metadata": {
        "id": "Ixapx51FvTZM"
      },
      "source": [
        "### 5.2 О важности эксплоративного анализа\n",
        "\n",
        "Но иногда пунктуация бывает и не шумом. Главное — отталкиваться от задачи. Что будет если вообще не убирать пунктуацию?"
      ]
    },
    {
      "cell_type": "code",
      "execution_count": 57,
      "metadata": {
        "ExecuteTime": {
          "end_time": "2023-04-18T16:52:00.862268Z",
          "start_time": "2023-04-18T16:51:40.411317Z"
        },
        "colab": {
          "base_uri": "https://localhost:8080/"
        },
        "id": "gifDKaj9bR3B",
        "outputId": "69920453-8306-4604-918a-51c425d20931"
      },
      "outputs": [
        {
          "output_type": "stream",
          "name": "stdout",
          "text": [
            "              precision    recall  f1-score   support\n",
            "\n",
            "    negative       0.95      0.97      0.96     27957\n",
            "    positive       0.97      0.95      0.96     28752\n",
            "\n",
            "    accuracy                           0.96     56709\n",
            "   macro avg       0.96      0.96      0.96     56709\n",
            "weighted avg       0.96      0.96      0.96     56709\n",
            "\n"
          ]
        }
      ],
      "source": [
        "vec = CountVectorizer(ngram_range=(1, 1), tokenizer=word_tokenize)\n",
        "bow = vec.fit_transform(x_train)\n",
        "bow_test = vec.transform(x_test)\n",
        "\n",
        "scaler = MaxAbsScaler()\n",
        "bow = scaler.fit_transform(bow)\n",
        "bow_test = scaler.transform(bow_test)\n",
        "\n",
        "clf = LogisticRegression(max_iter=200, random_state=42)\n",
        "clf.fit(bow, y_train)\n",
        "pred = clf.predict(bow_test)\n",
        "print(classification_report(y_test, pred))"
      ]
    },
    {
      "cell_type": "markdown",
      "metadata": {
        "id": "7_8uz4TevTZM"
      },
      "source": [
        "Стоило оставить пунктуацию, и внезапно все метрики устремились к 1. Как это получилось? Среди неё были очень значимые токены (как вы думаете, какие?). Найдём признак с самыми большим коэффициентом:"
      ]
    },
    {
      "cell_type": "code",
      "execution_count": 58,
      "metadata": {
        "ExecuteTime": {
          "end_time": "2023-04-18T16:52:00.881501Z",
          "start_time": "2023-04-18T16:52:00.879232Z"
        },
        "colab": {
          "base_uri": "https://localhost:8080/",
          "height": 57
        },
        "id": "sub0KWQ-bR3C",
        "outputId": "6941c3dd-8c1c-47dc-d96f-5ae0b64c1b03"
      },
      "outputs": [
        {
          "output_type": "execute_result",
          "data": {
            "text/plain": [
              "')'"
            ],
            "application/vnd.google.colaboratory.intrinsic+json": {
              "type": "string"
            }
          },
          "metadata": {},
          "execution_count": 58
        }
      ],
      "source": [
        "reverse_vocab = {value: key for key, value in vec.vocabulary_.items()}\n",
        "reverse_vocab[np.argmax(clf.coef_)]"
      ]
    },
    {
      "cell_type": "markdown",
      "metadata": {
        "id": "4ZC8Mb6bvTZM"
      },
      "source": [
        "Посмотрим, как один из супер-значительных токенов справится с классификацией безо всякого машинного обучения:"
      ]
    },
    {
      "cell_type": "code",
      "execution_count": 59,
      "metadata": {
        "ExecuteTime": {
          "end_time": "2023-04-18T16:52:01.743208Z",
          "start_time": "2023-04-18T16:52:00.882081Z"
        },
        "id": "vvWdQbYMvTZN",
        "colab": {
          "base_uri": "https://localhost:8080/"
        },
        "outputId": "ae496ccf-8ae6-48cd-f332-6cbaf607e68f"
      },
      "outputs": [
        {
          "output_type": "stream",
          "name": "stdout",
          "text": [
            "              precision    recall  f1-score   support\n",
            "\n",
            "    negative       0.85      1.00      0.92     27957\n",
            "    positive       1.00      0.83      0.91     28752\n",
            "\n",
            "    accuracy                           0.91     56709\n",
            "   macro avg       0.93      0.92      0.91     56709\n",
            "weighted avg       0.93      0.91      0.91     56709\n",
            "\n"
          ]
        }
      ],
      "source": [
        "cool_token = reverse_vocab[np.argmax(clf.coef_)]\n",
        "pred = [\"positive\" if cool_token in tweet else \"negative\" for tweet in x_test]\n",
        "print(classification_report(y_test, pred))"
      ]
    },
    {
      "cell_type": "code",
      "execution_count": 60,
      "metadata": {
        "ExecuteTime": {
          "end_time": "2023-04-18T16:52:01.799440Z",
          "start_time": "2023-04-18T16:52:01.743612Z"
        },
        "id": "3nD71B-ZvTZO",
        "colab": {
          "base_uri": "https://localhost:8080/"
        },
        "outputId": "2e8f9011-5029-4dee-db43-f61407bd83fc"
      },
      "outputs": [
        {
          "output_type": "stream",
          "name": "stdout",
          "text": [
            "“@Fashionbar_uz: Ladies Monday . Каждый понедельник для всех девушек кальяны от заведения. #fashionbar http://t.co/ZlvxOcZPR4” zaviduyu))\n",
            "Гримерка-лук))) #evabristol #performance #gig #vocaldiva #гастроли #гитис #театр http://t.co/S60OvyyTS6\n",
            "RT @alivfedorov: http://t.co/DvYLJaPHxR Девушки это самые хитрые создания! так что даже не пытайся их обмануть!:)\n",
            "@pavelsheremet @ukrpravda_news @varlamov хотя исторически правильно желто-синий:)\n",
            "Понятия не имею чем меня привлекла эта картинка!)))http://t.co/twqP8zyh1A\n",
            "@Sveta12126 ну или пусть Лиама пришлет ко мне) своего младшенького. Как сказала Кэтрин: \"Это нормально - любить двоих\" ахах\n",
            "Вышел в свет новый каталог запасных частей и деталей ТМК! Звоните - подарим :)\n",
            "@u_alekseeva_17 видужуй:3\n",
            "Я там тепер буду кожну середу)\n",
            "29-й выпуск Дроидкаста будет не против ваших плюсов на Хабре   ;)\n",
            "@nemoniga а я вот знаю :) нам на политической географии рассказывал душечка Гурин\n"
          ]
        }
      ],
      "source": [
        "cool_token = reverse_vocab[np.argmax(clf.coef_)]\n",
        "tweets_with_cool_token = [tweet for tweet in x_train if cool_token in tweet]\n",
        "np.random.seed(42)\n",
        "for tweet in np.random.choice(tweets_with_cool_token, size=10, replace=False):\n",
        "    print(tweet)"
      ]
    },
    {
      "cell_type": "markdown",
      "metadata": {
        "id": "Dv6P8ncIvTZO"
      },
      "source": [
        "### 5.3 Символьные n-граммы\n",
        "\n",
        "Теперь в качестве признаков используем, например, униграммы символов:"
      ]
    },
    {
      "cell_type": "code",
      "execution_count": 61,
      "metadata": {
        "ExecuteTime": {
          "end_time": "2023-04-18T16:52:07.747526Z",
          "start_time": "2023-04-18T16:52:01.811832Z"
        },
        "id": "TvvJiY3pbR3C",
        "outputId": "2a69f8b7-c354-4f49-e1db-f1b615d44204",
        "colab": {
          "base_uri": "https://localhost:8080/"
        }
      },
      "outputs": [
        {
          "output_type": "stream",
          "name": "stdout",
          "text": [
            "              precision    recall  f1-score   support\n",
            "\n",
            "    negative       0.99      0.97      0.98     27957\n",
            "    positive       0.98      0.99      0.98     28752\n",
            "\n",
            "    accuracy                           0.98     56709\n",
            "   macro avg       0.98      0.98      0.98     56709\n",
            "weighted avg       0.98      0.98      0.98     56709\n",
            "\n"
          ]
        }
      ],
      "source": [
        "vec = CountVectorizer(ngram_range=(1, 1), analyzer=\"char\")\n",
        "bow = vec.fit_transform(x_train)\n",
        "bow_test = vec.transform(x_test)\n",
        "\n",
        "scaler = MaxAbsScaler()\n",
        "bow = scaler.fit_transform(bow)\n",
        "bow_test = scaler.transform(bow_test)\n",
        "\n",
        "clf = LogisticRegression(max_iter=200, random_state=42)\n",
        "clf.fit(bow, y_train)\n",
        "pred = clf.predict(bow_test)\n",
        "print(classification_report(y_test, pred))"
      ]
    },
    {
      "cell_type": "markdown",
      "metadata": {
        "id": "8PK8-_xwvTZO"
      },
      "source": [
        "В общем-то, теперь уже понятно, почему на этих данных здесь 1. Так или иначе, на символах классифицировать тоже можно: для некоторых задач (например, для определения языка) признаки-символьные n-граммы могут внести серьезный вклад в качество модели. Ещё одна замечательная особенность признаков-символов: токенизация и лемматизация не нужна, можно использовать такой подход для языков, у которых нет готовых анализаторов."
      ]
    },
    {
      "cell_type": "markdown",
      "metadata": {
        "id": "islq37BzvTZP"
      },
      "source": [
        "## 6. Регулярные выражения\n",
        "\n",
        "Вообще, часто бывает так, что для конкретного случая нужен особый способ токенизации, и надо самостоятельно написать правило шаблонного типа для определения того, что такое токен. Или, например, перед работой с текстом, надо почистить его от своеобразного мусора: упоминаний пользователей, url и так далее. В таких задачах могут помочь регулярные выражения. Навык полезный, давайте в нём тоже потренируемся."
      ]
    },
    {
      "cell_type": "code",
      "execution_count": 62,
      "metadata": {
        "ExecuteTime": {
          "end_time": "2023-04-18T16:52:07.749061Z",
          "start_time": "2023-04-18T16:52:07.747327Z"
        },
        "id": "ymGN9r6gvTZP"
      },
      "outputs": [],
      "source": [
        "import re"
      ]
    },
    {
      "cell_type": "markdown",
      "metadata": {
        "id": "5qJxZd2pvTZQ"
      },
      "source": [
        "### findall\n",
        "возвращает список всех найденных совпадений\n",
        "\n",
        "- ? : ноль или одно повторение\n",
        "- \\* : ноль или более повторений\n",
        "- \\+ : одно или более повторений\n",
        "- . : любой символ"
      ]
    },
    {
      "cell_type": "code",
      "execution_count": 63,
      "metadata": {
        "ExecuteTime": {
          "end_time": "2023-04-18T16:52:07.751928Z",
          "start_time": "2023-04-18T16:52:07.749921Z"
        },
        "id": "Hn6AnrvtvTZQ",
        "colab": {
          "base_uri": "https://localhost:8080/"
        },
        "outputId": "95ff9151-d35e-4811-c883-730f7b75ab00"
      },
      "outputs": [
        {
          "output_type": "stream",
          "name": "stdout",
          "text": [
            "['abcd', 'abca']\n"
          ]
        }
      ],
      "source": [
        "result = re.findall(\"ab+c.\", \"abcdefghijkabcabcxabc\")\n",
        "print(result)"
      ]
    },
    {
      "cell_type": "markdown",
      "metadata": {
        "id": "sHOTT9XTvTZQ"
      },
      "source": [
        "Вопрос на внимательность: почему нет abcx?"
      ]
    },
    {
      "cell_type": "code",
      "execution_count": 64,
      "metadata": {
        "ExecuteTime": {
          "end_time": "2023-04-18T16:52:07.754693Z",
          "start_time": "2023-04-18T16:52:07.751977Z"
        },
        "id": "k7gzrPCOvTZR",
        "colab": {
          "base_uri": "https://localhost:8080/"
        },
        "outputId": "836737c8-5b78-4ed2-c593-4101ea3857b2"
      },
      "outputs": [
        {
          "output_type": "execute_result",
          "data": {
            "text/plain": [
              "['abbbca']"
            ]
          },
          "metadata": {},
          "execution_count": 64
        }
      ],
      "source": [
        "re.findall(\"ab+c.\", \"abbbca\")"
      ]
    },
    {
      "cell_type": "markdown",
      "metadata": {
        "id": "8qxi1znlvTZR"
      },
      "source": [
        "### split\n",
        "разделяет строку по заданному шаблону\n"
      ]
    },
    {
      "cell_type": "code",
      "execution_count": 65,
      "metadata": {
        "ExecuteTime": {
          "end_time": "2023-04-18T16:52:07.756104Z",
          "start_time": "2023-04-18T16:52:07.754642Z"
        },
        "id": "z3Qz-3RSvTZR",
        "colab": {
          "base_uri": "https://localhost:8080/"
        },
        "outputId": "9dca5649-1d85-4ce8-f120-2c796ed91f04"
      },
      "outputs": [
        {
          "output_type": "stream",
          "name": "stdout",
          "text": [
            "['itsy', ' bitsy', ' teenie', ' weenie']\n"
          ]
        }
      ],
      "source": [
        "result = re.split(\",\", \"itsy, bitsy, teenie, weenie\")\n",
        "print(result)"
      ]
    },
    {
      "cell_type": "markdown",
      "metadata": {
        "id": "0Ur6WK3GvTZR"
      },
      "source": [
        "можно указать максимальное количество разбиений"
      ]
    },
    {
      "cell_type": "code",
      "execution_count": 66,
      "metadata": {
        "ExecuteTime": {
          "end_time": "2023-04-18T16:52:07.758646Z",
          "start_time": "2023-04-18T16:52:07.756699Z"
        },
        "id": "Pwu8L0LevTZS",
        "colab": {
          "base_uri": "https://localhost:8080/"
        },
        "outputId": "f10b1feb-73c2-4268-cebd-21fbc65f46e8"
      },
      "outputs": [
        {
          "output_type": "stream",
          "name": "stdout",
          "text": [
            "['itsy', ' bitsy', ' teenie, weenie']\n"
          ]
        }
      ],
      "source": [
        "result = re.split(\",\", \"itsy, bitsy, teenie, weenie\", maxsplit=2)\n",
        "print(result)"
      ]
    },
    {
      "cell_type": "markdown",
      "metadata": {
        "id": "rGFk3MpOvTZS"
      },
      "source": [
        "### sub\n",
        "ищет шаблон в строке и заменяет все совпадения на указанную подстроку\n",
        "\n",
        "параметры: (pattern, repl, string)"
      ]
    },
    {
      "cell_type": "code",
      "execution_count": 67,
      "metadata": {
        "ExecuteTime": {
          "end_time": "2023-04-18T16:52:07.760056Z",
          "start_time": "2023-04-18T16:52:07.758723Z"
        },
        "id": "azeAmGOBvTZS",
        "colab": {
          "base_uri": "https://localhost:8080/"
        },
        "outputId": "a56a6f81-6e39-4db1-9c71-8558f0ef43ed"
      },
      "outputs": [
        {
          "output_type": "stream",
          "name": "stdout",
          "text": [
            "bbcbbc\n"
          ]
        }
      ],
      "source": [
        "result = re.sub(\"a\", \"b\", \"abcabc\")\n",
        "print(result)"
      ]
    },
    {
      "cell_type": "markdown",
      "metadata": {
        "id": "1ZPyd-2gbR3D"
      },
      "source": [
        "При этом в качестве repl, можно передавать не только строку, но и функцию, которая принимает на вход [Match](https://docs.python.org/3/library/re.html#match-objects) объект. Можно делать что-то типа этого:"
      ]
    },
    {
      "cell_type": "code",
      "execution_count": 68,
      "metadata": {
        "ExecuteTime": {
          "end_time": "2023-04-18T16:52:07.762722Z",
          "start_time": "2023-04-18T16:52:07.761009Z"
        },
        "colab": {
          "base_uri": "https://localhost:8080/",
          "height": 57
        },
        "id": "da_y-XHpbR3E",
        "outputId": "c5991079-a52a-41e9-edc5-181e3228f183"
      },
      "outputs": [
        {
          "output_type": "execute_result",
          "data": {
            "text/plain": [
              "'(a#1)bc(a#2)bc'"
            ],
            "application/vnd.google.colaboratory.intrinsic+json": {
              "type": "string"
            }
          },
          "metadata": {},
          "execution_count": 68
        }
      ],
      "source": [
        "counter = 0\n",
        "\n",
        "def count(match):\n",
        "    global counter\n",
        "    counter += 1\n",
        "    return f\"(a#{counter})\"\n",
        "\n",
        "\n",
        "re.sub(\"a\", count, \"abcabc\")"
      ]
    },
    {
      "cell_type": "markdown",
      "metadata": {
        "id": "XKQFFuzpbR3E"
      },
      "source": [
        "Кстати, c объектами типа re.Match работают и многие другие методы re. Например, метод re.finditer в отличии от re.findall будет возвращать те самые re.Match."
      ]
    },
    {
      "cell_type": "code",
      "execution_count": 69,
      "metadata": {
        "ExecuteTime": {
          "end_time": "2023-04-18T16:52:07.765456Z",
          "start_time": "2023-04-18T16:52:07.763298Z"
        },
        "colab": {
          "base_uri": "https://localhost:8080/"
        },
        "id": "U0GKlxBebR3E",
        "outputId": "c7701305-d425-4692-e6d4-a26f3ea345eb"
      },
      "outputs": [
        {
          "output_type": "stream",
          "name": "stdout",
          "text": [
            "<re.Match object; span=(0, 4), match='abcd'>\n",
            "<re.Match object; span=(11, 15), match='abca'>\n"
          ]
        }
      ],
      "source": [
        "for match in re.finditer(\"ab+c.\", \"abcdefghijkabcabcxabc\"):\n",
        "    print(match)"
      ]
    },
    {
      "cell_type": "markdown",
      "metadata": {
        "id": "Gi1Br-53bR3E"
      },
      "source": [
        "Помимо найденных строчек объекты Match также, например, содержат информацию о позиции найденного \"совпадения\" в строке (span)"
      ]
    },
    {
      "cell_type": "markdown",
      "metadata": {
        "id": "HY8kwgOVvTZS"
      },
      "source": [
        "### compile\n",
        "компилирует регулярное выражение в отдельный объект"
      ]
    },
    {
      "cell_type": "code",
      "execution_count": 70,
      "metadata": {
        "ExecuteTime": {
          "end_time": "2023-04-18T16:52:07.859382Z",
          "start_time": "2023-04-18T16:52:07.765680Z"
        },
        "id": "Nudrx7nJvTZS",
        "colab": {
          "base_uri": "https://localhost:8080/"
        },
        "outputId": "248b3470-ccab-4f50-9a0a-cc4797c2e116"
      },
      "outputs": [
        {
          "output_type": "execute_result",
          "data": {
            "text/plain": [
              "['Слова', 'Да', 'больше', 'ещё', 'больше', 'слов', 'Что-то', 'ещё']"
            ]
          },
          "metadata": {},
          "execution_count": 70
        }
      ],
      "source": [
        "# Пример: построение списка всех слов строки:\n",
        "\n",
        "prog = re.compile(\"[А-Яа-яё\\-]+\")\n",
        "prog.findall(\"Слова? Да, больше, ещё больше слов! Что-то ещё.\")"
      ]
    },
    {
      "cell_type": "markdown",
      "metadata": {
        "id": "YONOWD3XvTZS"
      },
      "source": [
        "**Задание**: вернуть список доменов (@gmail.com) из списка адресов электронной почты:\n",
        "\n",
        "```\n",
        "abc.test@gmail.com, xyz@test.in, test.first@analyticsvidhya.com, first.test@rest.biz\n",
        "```"
      ]
    },
    {
      "cell_type": "code",
      "execution_count": 71,
      "metadata": {
        "ExecuteTime": {
          "end_time": "2023-04-18T16:52:07.859551Z",
          "start_time": "2023-04-18T16:52:07.768184Z"
        },
        "id": "JLWpguIsvTZT"
      },
      "outputs": [],
      "source": [
        "emails = \"abc.test@gmail.com, xyz@test.in, test.first@analyticsvidhya.com, first.test@rest.biz\""
      ]
    },
    {
      "cell_type": "code",
      "execution_count": null,
      "metadata": {
        "ExecuteTime": {
          "end_time": "2023-04-18T16:52:07.860119Z",
          "start_time": "2023-04-18T16:52:07.770050Z"
        },
        "id": "ayTzy2lCvTZT"
      },
      "outputs": [],
      "source": [
        "# <YOUR CODE HERE>"
      ]
    },
    {
      "cell_type": "markdown",
      "source": [
        "## Бонус: классный сайт с регулярками:\n",
        "https://regex101.com/"
      ],
      "metadata": {
        "id": "ow5ol1glgAWv"
      }
    },
    {
      "cell_type": "markdown",
      "metadata": {
        "id": "Y7D9yL6pbR3E"
      },
      "source": [
        "## 7. Немножко про категориальные признаки\n",
        "\n",
        "Мы уже говорили, что кодировать категориальные признаки просто в виде чисел — не очень хорошая идея. Это задаёт некоторый порядок, которого на категориальных переменных может и не быть. Существует три основных способа обработки категориальных значений:\n",
        "- Label encoding\n",
        "- One-hot-кодирование\n",
        "- Счётчики (CTR, mean-target кодирование) — каждый категориальный признак заменяется на среднее значение целевой переменной по всем объектам, имеющим одинаковое значение в этом признаке\n",
        "\n",
        "Основная идея счетчиков заключается в том, что нам важны не сами категории, а значения целевой переменной, которые имеют объекты этой категории. Каждый категориальный признак мы заменим средним значением целевой переменной по всем объектам этой же категории. Формально это можно записать так:\n",
        "$$\n",
        "g_j(x, X) = \\frac{\\sum_{i=1}^{l} [f_j(x) = f_j(x_i)][y_i = +1]}{\\sum_{i=1}^{l} [f_j(x) = f_j(x_i)]}\n",
        "$$\n",
        "\n",
        "Сравним два последних метода на нашем любимом Титанике, но на этот раз не будем сильно заморачиваться с обработкой пропусков."
      ]
    },
    {
      "cell_type": "code",
      "execution_count": 72,
      "metadata": {
        "ExecuteTime": {
          "end_time": "2023-04-18T16:52:07.860175Z",
          "start_time": "2023-04-18T16:52:07.772028Z"
        },
        "id": "jSQP_TPBbR3E"
      },
      "outputs": [],
      "source": [
        "from sklearn.preprocessing import MinMaxScaler"
      ]
    },
    {
      "cell_type": "code",
      "execution_count": 73,
      "metadata": {
        "ExecuteTime": {
          "end_time": "2023-04-18T16:52:08.143798Z",
          "start_time": "2023-04-18T16:52:07.774360Z"
        },
        "id": "jI_p5HjWbR3E"
      },
      "outputs": [],
      "source": [
        "data = pd.read_csv(\n",
        "    \"https://raw.githubusercontent.com/iad34/seminars/master/materials/data_sem1.csv\",\n",
        "    sep=\";\",\n",
        ")\n",
        "\n",
        "data[\"Age\"] = data[\"Age\"].fillna(data.groupby(\"Pclass\")[\"Age\"].transform(\"median\"))\n",
        "data.drop(\"Cabin\", axis=1, inplace=True)\n",
        "data.drop(\"Name\", axis=1, inplace=True)\n",
        "data.drop(\"Ticket\", axis=1, inplace=True)\n",
        "data.dropna(inplace=True)"
      ]
    },
    {
      "cell_type": "markdown",
      "metadata": {
        "id": "n7v4WTTbbR3E"
      },
      "source": [
        "### 7.1 OHE\n",
        "\n",
        "!pip install target_encogers"
      ]
    },
    {
      "cell_type": "code",
      "execution_count": 74,
      "metadata": {
        "ExecuteTime": {
          "end_time": "2023-04-18T16:52:08.155498Z",
          "start_time": "2023-04-18T16:52:08.146353Z"
        },
        "colab": {
          "base_uri": "https://localhost:8080/",
          "height": 228
        },
        "id": "aHA6QipEbR3F",
        "outputId": "e70c6cf8-c164-467b-cf9d-512e586e23cd"
      },
      "outputs": [
        {
          "output_type": "execute_result",
          "data": {
            "text/plain": [
              "   PassengerId  Pclass   Age  SibSp  Parch     Fare  Sex_male  Sex_unknown  \\\n",
              "0            1       3  22.0      1      0   7.2500         1            0   \n",
              "1            2       1  38.0      1      0  71.2833         0            0   \n",
              "2            3       3  26.0      0      0   7.9250         0            0   \n",
              "3            4       1  35.0      1      0  53.1000         0            0   \n",
              "4            5       3  35.0      0      0   8.0500         1            0   \n",
              "\n",
              "   Embarked_Q  Embarked_S  \n",
              "0           0           1  \n",
              "1           0           0  \n",
              "2           0           1  \n",
              "3           0           1  \n",
              "4           0           1  "
            ],
            "text/html": [
              "\n",
              "\n",
              "  <div id=\"df-6597d000-202d-4889-9d20-c0a801a701b3\">\n",
              "    <div class=\"colab-df-container\">\n",
              "      <div>\n",
              "<style scoped>\n",
              "    .dataframe tbody tr th:only-of-type {\n",
              "        vertical-align: middle;\n",
              "    }\n",
              "\n",
              "    .dataframe tbody tr th {\n",
              "        vertical-align: top;\n",
              "    }\n",
              "\n",
              "    .dataframe thead th {\n",
              "        text-align: right;\n",
              "    }\n",
              "</style>\n",
              "<table border=\"1\" class=\"dataframe\">\n",
              "  <thead>\n",
              "    <tr style=\"text-align: right;\">\n",
              "      <th></th>\n",
              "      <th>PassengerId</th>\n",
              "      <th>Pclass</th>\n",
              "      <th>Age</th>\n",
              "      <th>SibSp</th>\n",
              "      <th>Parch</th>\n",
              "      <th>Fare</th>\n",
              "      <th>Sex_male</th>\n",
              "      <th>Sex_unknown</th>\n",
              "      <th>Embarked_Q</th>\n",
              "      <th>Embarked_S</th>\n",
              "    </tr>\n",
              "  </thead>\n",
              "  <tbody>\n",
              "    <tr>\n",
              "      <th>0</th>\n",
              "      <td>1</td>\n",
              "      <td>3</td>\n",
              "      <td>22.0</td>\n",
              "      <td>1</td>\n",
              "      <td>0</td>\n",
              "      <td>7.2500</td>\n",
              "      <td>1</td>\n",
              "      <td>0</td>\n",
              "      <td>0</td>\n",
              "      <td>1</td>\n",
              "    </tr>\n",
              "    <tr>\n",
              "      <th>1</th>\n",
              "      <td>2</td>\n",
              "      <td>1</td>\n",
              "      <td>38.0</td>\n",
              "      <td>1</td>\n",
              "      <td>0</td>\n",
              "      <td>71.2833</td>\n",
              "      <td>0</td>\n",
              "      <td>0</td>\n",
              "      <td>0</td>\n",
              "      <td>0</td>\n",
              "    </tr>\n",
              "    <tr>\n",
              "      <th>2</th>\n",
              "      <td>3</td>\n",
              "      <td>3</td>\n",
              "      <td>26.0</td>\n",
              "      <td>0</td>\n",
              "      <td>0</td>\n",
              "      <td>7.9250</td>\n",
              "      <td>0</td>\n",
              "      <td>0</td>\n",
              "      <td>0</td>\n",
              "      <td>1</td>\n",
              "    </tr>\n",
              "    <tr>\n",
              "      <th>3</th>\n",
              "      <td>4</td>\n",
              "      <td>1</td>\n",
              "      <td>35.0</td>\n",
              "      <td>1</td>\n",
              "      <td>0</td>\n",
              "      <td>53.1000</td>\n",
              "      <td>0</td>\n",
              "      <td>0</td>\n",
              "      <td>0</td>\n",
              "      <td>1</td>\n",
              "    </tr>\n",
              "    <tr>\n",
              "      <th>4</th>\n",
              "      <td>5</td>\n",
              "      <td>3</td>\n",
              "      <td>35.0</td>\n",
              "      <td>0</td>\n",
              "      <td>0</td>\n",
              "      <td>8.0500</td>\n",
              "      <td>1</td>\n",
              "      <td>0</td>\n",
              "      <td>0</td>\n",
              "      <td>1</td>\n",
              "    </tr>\n",
              "  </tbody>\n",
              "</table>\n",
              "</div>\n",
              "      <button class=\"colab-df-convert\" onclick=\"convertToInteractive('df-6597d000-202d-4889-9d20-c0a801a701b3')\"\n",
              "              title=\"Convert this dataframe to an interactive table.\"\n",
              "              style=\"display:none;\">\n",
              "\n",
              "  <svg xmlns=\"http://www.w3.org/2000/svg\" height=\"24px\"viewBox=\"0 0 24 24\"\n",
              "       width=\"24px\">\n",
              "    <path d=\"M0 0h24v24H0V0z\" fill=\"none\"/>\n",
              "    <path d=\"M18.56 5.44l.94 2.06.94-2.06 2.06-.94-2.06-.94-.94-2.06-.94 2.06-2.06.94zm-11 1L8.5 8.5l.94-2.06 2.06-.94-2.06-.94L8.5 2.5l-.94 2.06-2.06.94zm10 10l.94 2.06.94-2.06 2.06-.94-2.06-.94-.94-2.06-.94 2.06-2.06.94z\"/><path d=\"M17.41 7.96l-1.37-1.37c-.4-.4-.92-.59-1.43-.59-.52 0-1.04.2-1.43.59L10.3 9.45l-7.72 7.72c-.78.78-.78 2.05 0 2.83L4 21.41c.39.39.9.59 1.41.59.51 0 1.02-.2 1.41-.59l7.78-7.78 2.81-2.81c.8-.78.8-2.07 0-2.86zM5.41 20L4 18.59l7.72-7.72 1.47 1.35L5.41 20z\"/>\n",
              "  </svg>\n",
              "      </button>\n",
              "\n",
              "\n",
              "\n",
              "    <div id=\"df-01bca159-d52f-44b9-b3d7-d659eb3cbd04\">\n",
              "      <button class=\"colab-df-quickchart\" onclick=\"quickchart('df-01bca159-d52f-44b9-b3d7-d659eb3cbd04')\"\n",
              "              title=\"Suggest charts.\"\n",
              "              style=\"display:none;\">\n",
              "\n",
              "<svg xmlns=\"http://www.w3.org/2000/svg\" height=\"24px\"viewBox=\"0 0 24 24\"\n",
              "     width=\"24px\">\n",
              "    <g>\n",
              "        <path d=\"M19 3H5c-1.1 0-2 .9-2 2v14c0 1.1.9 2 2 2h14c1.1 0 2-.9 2-2V5c0-1.1-.9-2-2-2zM9 17H7v-7h2v7zm4 0h-2V7h2v10zm4 0h-2v-4h2v4z\"/>\n",
              "    </g>\n",
              "</svg>\n",
              "      </button>\n",
              "    </div>\n",
              "\n",
              "<style>\n",
              "  .colab-df-quickchart {\n",
              "    background-color: #E8F0FE;\n",
              "    border: none;\n",
              "    border-radius: 50%;\n",
              "    cursor: pointer;\n",
              "    display: none;\n",
              "    fill: #1967D2;\n",
              "    height: 32px;\n",
              "    padding: 0 0 0 0;\n",
              "    width: 32px;\n",
              "  }\n",
              "\n",
              "  .colab-df-quickchart:hover {\n",
              "    background-color: #E2EBFA;\n",
              "    box-shadow: 0px 1px 2px rgba(60, 64, 67, 0.3), 0px 1px 3px 1px rgba(60, 64, 67, 0.15);\n",
              "    fill: #174EA6;\n",
              "  }\n",
              "\n",
              "  [theme=dark] .colab-df-quickchart {\n",
              "    background-color: #3B4455;\n",
              "    fill: #D2E3FC;\n",
              "  }\n",
              "\n",
              "  [theme=dark] .colab-df-quickchart:hover {\n",
              "    background-color: #434B5C;\n",
              "    box-shadow: 0px 1px 3px 1px rgba(0, 0, 0, 0.15);\n",
              "    filter: drop-shadow(0px 1px 2px rgba(0, 0, 0, 0.3));\n",
              "    fill: #FFFFFF;\n",
              "  }\n",
              "</style>\n",
              "\n",
              "    <script>\n",
              "      async function quickchart(key) {\n",
              "        const containerElement = document.querySelector('#' + key);\n",
              "        const charts = await google.colab.kernel.invokeFunction(\n",
              "            'suggestCharts', [key], {});\n",
              "      }\n",
              "    </script>\n",
              "\n",
              "      <script>\n",
              "\n",
              "function displayQuickchartButton(domScope) {\n",
              "  let quickchartButtonEl =\n",
              "    domScope.querySelector('#df-01bca159-d52f-44b9-b3d7-d659eb3cbd04 button.colab-df-quickchart');\n",
              "  quickchartButtonEl.style.display =\n",
              "    google.colab.kernel.accessAllowed ? 'block' : 'none';\n",
              "}\n",
              "\n",
              "        displayQuickchartButton(document);\n",
              "      </script>\n",
              "      <style>\n",
              "    .colab-df-container {\n",
              "      display:flex;\n",
              "      flex-wrap:wrap;\n",
              "      gap: 12px;\n",
              "    }\n",
              "\n",
              "    .colab-df-convert {\n",
              "      background-color: #E8F0FE;\n",
              "      border: none;\n",
              "      border-radius: 50%;\n",
              "      cursor: pointer;\n",
              "      display: none;\n",
              "      fill: #1967D2;\n",
              "      height: 32px;\n",
              "      padding: 0 0 0 0;\n",
              "      width: 32px;\n",
              "    }\n",
              "\n",
              "    .colab-df-convert:hover {\n",
              "      background-color: #E2EBFA;\n",
              "      box-shadow: 0px 1px 2px rgba(60, 64, 67, 0.3), 0px 1px 3px 1px rgba(60, 64, 67, 0.15);\n",
              "      fill: #174EA6;\n",
              "    }\n",
              "\n",
              "    [theme=dark] .colab-df-convert {\n",
              "      background-color: #3B4455;\n",
              "      fill: #D2E3FC;\n",
              "    }\n",
              "\n",
              "    [theme=dark] .colab-df-convert:hover {\n",
              "      background-color: #434B5C;\n",
              "      box-shadow: 0px 1px 3px 1px rgba(0, 0, 0, 0.15);\n",
              "      filter: drop-shadow(0px 1px 2px rgba(0, 0, 0, 0.3));\n",
              "      fill: #FFFFFF;\n",
              "    }\n",
              "  </style>\n",
              "\n",
              "      <script>\n",
              "        const buttonEl =\n",
              "          document.querySelector('#df-6597d000-202d-4889-9d20-c0a801a701b3 button.colab-df-convert');\n",
              "        buttonEl.style.display =\n",
              "          google.colab.kernel.accessAllowed ? 'block' : 'none';\n",
              "\n",
              "        async function convertToInteractive(key) {\n",
              "          const element = document.querySelector('#df-6597d000-202d-4889-9d20-c0a801a701b3');\n",
              "          const dataTable =\n",
              "            await google.colab.kernel.invokeFunction('convertToInteractive',\n",
              "                                                     [key], {});\n",
              "          if (!dataTable) return;\n",
              "\n",
              "          const docLinkHtml = 'Like what you see? Visit the ' +\n",
              "            '<a target=\"_blank\" href=https://colab.research.google.com/notebooks/data_table.ipynb>data table notebook</a>'\n",
              "            + ' to learn more about interactive tables.';\n",
              "          element.innerHTML = '';\n",
              "          dataTable['output_type'] = 'display_data';\n",
              "          await google.colab.output.renderOutput(dataTable, element);\n",
              "          const docLink = document.createElement('div');\n",
              "          docLink.innerHTML = docLinkHtml;\n",
              "          element.appendChild(docLink);\n",
              "        }\n",
              "      </script>\n",
              "    </div>\n",
              "  </div>\n"
            ]
          },
          "metadata": {},
          "execution_count": 74
        }
      ],
      "source": [
        "data_ohe = pd.get_dummies(data, drop_first=True)\n",
        "\n",
        "y = data_ohe[\"Survived\"]\n",
        "data_ohe = data_ohe.drop([\"Survived\"], axis=1)\n",
        "data_ohe.head()"
      ]
    },
    {
      "cell_type": "code",
      "execution_count": 75,
      "metadata": {
        "ExecuteTime": {
          "end_time": "2023-04-18T16:52:08.195002Z",
          "start_time": "2023-04-18T16:52:08.156152Z"
        },
        "colab": {
          "base_uri": "https://localhost:8080/"
        },
        "id": "spfDwE2HbR3F",
        "outputId": "c0255fb8-fe47-4118-ad69-24ed49a05ea3"
      },
      "outputs": [
        {
          "output_type": "stream",
          "name": "stdout",
          "text": [
            "ROC AUC: 0.77\n"
          ]
        }
      ],
      "source": [
        "X_train, X_test, y_train, y_test = train_test_split(\n",
        "    data_ohe, y, test_size=0.2, random_state=42, shuffle=True\n",
        ")\n",
        "\n",
        "scaler = MinMaxScaler()\n",
        "X_train = scaler.fit_transform(X_train)\n",
        "X_test = scaler.transform(X_test)\n",
        "\n",
        "model = LogisticRegression(max_iter=300)\n",
        "model.fit(X_train, y_train)\n",
        "prediction = model.predict(X_test)\n",
        "print(f\"ROC AUC: {roc_auc_score(prediction, y_test):.2f}\")"
      ]
    },
    {
      "cell_type": "markdown",
      "metadata": {
        "id": "dIXpVzribR3F"
      },
      "source": [
        "### 7.2 Mean target encoding"
      ]
    },
    {
      "cell_type": "code",
      "execution_count": 76,
      "metadata": {
        "ExecuteTime": {
          "end_time": "2023-04-18T16:52:08.195125Z",
          "start_time": "2023-04-18T16:52:08.167818Z"
        },
        "id": "zDwTuM_GbR3F"
      },
      "outputs": [],
      "source": [
        "X_train, X_test, y_train, y_test = train_test_split(\n",
        "    data, y, test_size=0.2, random_state=42, shuffle=True\n",
        ")"
      ]
    },
    {
      "cell_type": "code",
      "execution_count": 77,
      "metadata": {
        "ExecuteTime": {
          "end_time": "2023-04-18T16:52:08.212439Z",
          "start_time": "2023-04-18T16:52:08.172604Z"
        },
        "id": "Iwbj_49QbR3F"
      },
      "outputs": [],
      "source": [
        "mean_target = X_train.groupby(\"Sex\")[\"Survived\"].mean()\n",
        "X_train.loc[:, \"Sex\"] = X_train[\"Sex\"].replace(mean_target)\n",
        "X_test.loc[:, \"Sex\"] = X_test[\"Sex\"].replace(mean_target)\n",
        "\n",
        "mean_target_e = X_train.groupby(\"Embarked\")[\"Survived\"].mean()\n",
        "X_train.loc[:, \"Embarked\"] = X_train[\"Embarked\"].replace(mean_target_e)\n",
        "X_test.loc[:, \"Embarked\"] = X_test[\"Embarked\"].replace(mean_target_e)\n",
        "\n",
        "X_train.drop([\"Survived\"], axis=1, inplace=True)\n",
        "X_test.drop([\"Survived\"], axis=1, inplace=True)"
      ]
    },
    {
      "cell_type": "code",
      "execution_count": 78,
      "metadata": {
        "ExecuteTime": {
          "end_time": "2023-04-18T16:52:08.225105Z",
          "start_time": "2023-04-18T16:52:08.178853Z"
        },
        "colab": {
          "base_uri": "https://localhost:8080/"
        },
        "id": "68CfjgOhbR3F",
        "outputId": "fa756f3d-ab27-4ce4-fc14-6e64a2cf43af"
      },
      "outputs": [
        {
          "output_type": "stream",
          "name": "stdout",
          "text": [
            "ROC AUC: 0.79\n"
          ]
        }
      ],
      "source": [
        "scaler = MinMaxScaler()\n",
        "X_train = scaler.fit_transform(X_train)\n",
        "X_test = scaler.transform(X_test)\n",
        "\n",
        "model = LogisticRegression(max_iter=300)\n",
        "model.fit(X_train, y_train)\n",
        "prediction = model.predict(X_test)\n",
        "print(f\"ROC AUC: {roc_auc_score(prediction, y_test):.2f}\")"
      ]
    },
    {
      "cell_type": "markdown",
      "metadata": {
        "id": "QL124l1FbR3F"
      },
      "source": [
        "Кодирование признаков с помощью счетчиков приведённом выше может приводить к переобучению. Почему?\n",
        "\n",
        "Чтобы бороться с этим, можно экспериментировать с разными модификациями:\n",
        "\n",
        "1. Вычислять значение счётчика по всем объектам расположенным выше в датасете (например, если у нас выборка отсортирована по времени)\n",
        "2. Вычислять по фолдам, то есть делить выборку на некоторое количество частей и подсчитывать значение признаков по всем фолдам кроме текущего (как делается в кросс-валидации)\n",
        "3. Добавлять шум в посчитанные признаки"
      ]
    }
  ],
  "metadata": {
    "colab": {
      "provenance": [],
      "include_colab_link": true
    },
    "kernelspec": {
      "display_name": "Python 3 (ipykernel)",
      "language": "python",
      "name": "python3"
    },
    "language_info": {
      "codemirror_mode": {
        "name": "ipython",
        "version": 3
      },
      "file_extension": ".py",
      "mimetype": "text/x-python",
      "name": "python",
      "nbconvert_exporter": "python",
      "pygments_lexer": "ipython3",
      "version": "3.9.12"
    }
  },
  "nbformat": 4,
  "nbformat_minor": 0
}