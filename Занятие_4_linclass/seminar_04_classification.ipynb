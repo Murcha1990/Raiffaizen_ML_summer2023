{
  "cells": [
    {
      "cell_type": "markdown",
      "metadata": {
        "id": "view-in-github",
        "colab_type": "text"
      },
      "source": [
        "<a href=\"https://colab.research.google.com/github/Murcha1990/Raiffaizen_ML_summer2023/blob/main/%D0%97%D0%B0%D0%BD%D1%8F%D1%82%D0%B8%D0%B5_4_linclass/seminar_04_classification.ipynb\" target=\"_parent\"><img src=\"https://colab.research.google.com/assets/colab-badge.svg\" alt=\"Open In Colab\"/></a>"
      ]
    },
    {
      "cell_type": "markdown",
      "source": [
        "# Решение задачи классификации\n",
        "\n",
        "* загрузка данных и их анализ\n",
        "* обучение и валидация модели\n",
        "* интерпретация результатов модели\n",
        "* сохранение экспериментов"
      ],
      "metadata": {
        "id": "z79gbIw0bWJZ"
      }
    },
    {
      "cell_type": "markdown",
      "source": [
        "Мы будем активно пользоваться следующими библиотеками Python:\n",
        "\n",
        "*   Pandas - библиотеки для работы с таблицами\n",
        "*   Numpy - библиотеки для быстрых и эффективных вычислений\n",
        "*   Matplotlib - для визуализации данных\n",
        "*   Sklearn - библиотеки с основными инструментами ML\n",
        "\n",
        "С функционалом этих библиотек разберемся в процессе прохождения курса."
      ],
      "metadata": {
        "id": "bTDcqGDLbbRs"
      }
    },
    {
      "cell_type": "markdown",
      "source": [
        "Посмотрим, как пользоваться логистической регрессией в python для решения задач классификации.\n",
        "\n",
        "Будем решать задачу определения оттоковых клиентов,  а именно, *по характеристикам клиентов некоторого банка будем определять, собираются ли клиенты сменить банк или нет*."
      ],
      "metadata": {
        "id": "9VDkBu75nCLq"
      }
    },
    {
      "cell_type": "markdown",
      "source": [
        "**Наши цели на сегодня**\n",
        "\n",
        "*  Обучить логистическую регрессию на представленном датасете.\n",
        "*  Оценить качество полученной модели и сравнить с методом ближайших соседей."
      ],
      "metadata": {
        "id": "cv0X9f6kZhOM"
      }
    },
    {
      "cell_type": "markdown",
      "source": [
        "## Загрузка данных и их первичный анализ"
      ],
      "metadata": {
        "id": "cgXJLC1Yjpnm"
      }
    },
    {
      "cell_type": "code",
      "execution_count": 1,
      "metadata": {
        "id": "wD3LYTXnhtwZ"
      },
      "outputs": [],
      "source": [
        "import pandas as pd\n",
        "import numpy as np\n",
        "from matplotlib import pyplot as plt\n",
        "from sklearn.linear_model import LogisticRegression\n",
        "\n",
        "import warnings\n",
        "warnings.filterwarnings(\"ignore\")"
      ]
    },
    {
      "cell_type": "code",
      "execution_count": 2,
      "metadata": {
        "colab": {
          "base_uri": "https://localhost:8080/"
        },
        "id": "HWwIJ2AQhtwb",
        "outputId": "7faad429-4e95-4f3a-b244-320ca255ba54"
      },
      "outputs": [
        {
          "output_type": "execute_result",
          "data": {
            "text/plain": [
              "(15223, 10)"
            ]
          },
          "metadata": {},
          "execution_count": 2
        }
      ],
      "source": [
        "data = pd.read_csv(\"https://raw.githubusercontent.com/Murcha1990/churn_clients/main/ClientsData.csv\")\n",
        "\n",
        "data.shape"
      ]
    },
    {
      "cell_type": "markdown",
      "source": [
        "Посмотрим на данные.\n",
        "\n",
        "Описание данных клиентов:\n",
        "- AGE\t— возраст клиента;\n",
        "- SOCSTATUS_WORK_FL\t— социальный статус клиента относительно работы (1 — работает, 0 — не работает);\n",
        "- SOCSTATUS_PENS_FL\t— социальный статус клиента относительно пенсии (1 — пенсионер, 0 — не пенсионер);\n",
        "- GENDER — пол клиента (1 — мужчина, 0 — женщина);\n",
        "- CHILD_TOTAL\t— количество детей клиента;\n",
        "- DEPENDANTS — количество иждивенцев клиента;\n",
        "- PERSONAL_INCOME — личный доход клиента (в рублях);\n",
        "- Complaints — количество обращений в службу поддержки банка;\n",
        "- Answers — количество вопросов, не решенных службой поддержки;\n",
        "\n",
        "- TARGET — целевая переменная: собирается ли клиент сменить банк (1 — да, 0 — нет).\n",
        "\n",
        "\n"
      ],
      "metadata": {
        "id": "SW_Rpf6HRZH0"
      }
    },
    {
      "cell_type": "code",
      "source": [
        "data.head()"
      ],
      "metadata": {
        "colab": {
          "base_uri": "https://localhost:8080/",
          "height": 221
        },
        "id": "3WWFMf7BRYFq",
        "outputId": "8dbac865-cc16-4e24-866b-78ed5e87e353"
      },
      "execution_count": 3,
      "outputs": [
        {
          "output_type": "execute_result",
          "data": {
            "text/plain": [
              "   AGE  SOCSTATUS_WORK_FL  SOCSTATUS_PENS_FL  GENDER  CHILD_TOTAL  DEPENDANTS  \\\n",
              "0   49                  1                  0       1            2           1   \n",
              "1   32                  1                  0       1            3           3   \n",
              "2   52                  1                  0       1            4           0   \n",
              "3   39                  1                  0       1            1           1   \n",
              "4   30                  1                  0       0            0           0   \n",
              "\n",
              "   PERSONAL_INCOME  TARGET  Complaints  Answers  \n",
              "0           5000.0       0           1        1  \n",
              "1          12000.0       0           1        1  \n",
              "2           9000.0       0           2        1  \n",
              "3          25000.0       0           1        1  \n",
              "4          12000.0       0           2        1  "
            ],
            "text/html": [
              "\n",
              "\n",
              "  <div id=\"df-bfe38f68-c705-4125-883d-c8ca6e999a39\">\n",
              "    <div class=\"colab-df-container\">\n",
              "      <div>\n",
              "<style scoped>\n",
              "    .dataframe tbody tr th:only-of-type {\n",
              "        vertical-align: middle;\n",
              "    }\n",
              "\n",
              "    .dataframe tbody tr th {\n",
              "        vertical-align: top;\n",
              "    }\n",
              "\n",
              "    .dataframe thead th {\n",
              "        text-align: right;\n",
              "    }\n",
              "</style>\n",
              "<table border=\"1\" class=\"dataframe\">\n",
              "  <thead>\n",
              "    <tr style=\"text-align: right;\">\n",
              "      <th></th>\n",
              "      <th>AGE</th>\n",
              "      <th>SOCSTATUS_WORK_FL</th>\n",
              "      <th>SOCSTATUS_PENS_FL</th>\n",
              "      <th>GENDER</th>\n",
              "      <th>CHILD_TOTAL</th>\n",
              "      <th>DEPENDANTS</th>\n",
              "      <th>PERSONAL_INCOME</th>\n",
              "      <th>TARGET</th>\n",
              "      <th>Complaints</th>\n",
              "      <th>Answers</th>\n",
              "    </tr>\n",
              "  </thead>\n",
              "  <tbody>\n",
              "    <tr>\n",
              "      <th>0</th>\n",
              "      <td>49</td>\n",
              "      <td>1</td>\n",
              "      <td>0</td>\n",
              "      <td>1</td>\n",
              "      <td>2</td>\n",
              "      <td>1</td>\n",
              "      <td>5000.0</td>\n",
              "      <td>0</td>\n",
              "      <td>1</td>\n",
              "      <td>1</td>\n",
              "    </tr>\n",
              "    <tr>\n",
              "      <th>1</th>\n",
              "      <td>32</td>\n",
              "      <td>1</td>\n",
              "      <td>0</td>\n",
              "      <td>1</td>\n",
              "      <td>3</td>\n",
              "      <td>3</td>\n",
              "      <td>12000.0</td>\n",
              "      <td>0</td>\n",
              "      <td>1</td>\n",
              "      <td>1</td>\n",
              "    </tr>\n",
              "    <tr>\n",
              "      <th>2</th>\n",
              "      <td>52</td>\n",
              "      <td>1</td>\n",
              "      <td>0</td>\n",
              "      <td>1</td>\n",
              "      <td>4</td>\n",
              "      <td>0</td>\n",
              "      <td>9000.0</td>\n",
              "      <td>0</td>\n",
              "      <td>2</td>\n",
              "      <td>1</td>\n",
              "    </tr>\n",
              "    <tr>\n",
              "      <th>3</th>\n",
              "      <td>39</td>\n",
              "      <td>1</td>\n",
              "      <td>0</td>\n",
              "      <td>1</td>\n",
              "      <td>1</td>\n",
              "      <td>1</td>\n",
              "      <td>25000.0</td>\n",
              "      <td>0</td>\n",
              "      <td>1</td>\n",
              "      <td>1</td>\n",
              "    </tr>\n",
              "    <tr>\n",
              "      <th>4</th>\n",
              "      <td>30</td>\n",
              "      <td>1</td>\n",
              "      <td>0</td>\n",
              "      <td>0</td>\n",
              "      <td>0</td>\n",
              "      <td>0</td>\n",
              "      <td>12000.0</td>\n",
              "      <td>0</td>\n",
              "      <td>2</td>\n",
              "      <td>1</td>\n",
              "    </tr>\n",
              "  </tbody>\n",
              "</table>\n",
              "</div>\n",
              "      <button class=\"colab-df-convert\" onclick=\"convertToInteractive('df-bfe38f68-c705-4125-883d-c8ca6e999a39')\"\n",
              "              title=\"Convert this dataframe to an interactive table.\"\n",
              "              style=\"display:none;\">\n",
              "\n",
              "  <svg xmlns=\"http://www.w3.org/2000/svg\" height=\"24px\"viewBox=\"0 0 24 24\"\n",
              "       width=\"24px\">\n",
              "    <path d=\"M0 0h24v24H0V0z\" fill=\"none\"/>\n",
              "    <path d=\"M18.56 5.44l.94 2.06.94-2.06 2.06-.94-2.06-.94-.94-2.06-.94 2.06-2.06.94zm-11 1L8.5 8.5l.94-2.06 2.06-.94-2.06-.94L8.5 2.5l-.94 2.06-2.06.94zm10 10l.94 2.06.94-2.06 2.06-.94-2.06-.94-.94-2.06-.94 2.06-2.06.94z\"/><path d=\"M17.41 7.96l-1.37-1.37c-.4-.4-.92-.59-1.43-.59-.52 0-1.04.2-1.43.59L10.3 9.45l-7.72 7.72c-.78.78-.78 2.05 0 2.83L4 21.41c.39.39.9.59 1.41.59.51 0 1.02-.2 1.41-.59l7.78-7.78 2.81-2.81c.8-.78.8-2.07 0-2.86zM5.41 20L4 18.59l7.72-7.72 1.47 1.35L5.41 20z\"/>\n",
              "  </svg>\n",
              "      </button>\n",
              "\n",
              "\n",
              "\n",
              "    <div id=\"df-ee0d5275-810d-4f34-aa55-39543a2cfde2\">\n",
              "      <button class=\"colab-df-quickchart\" onclick=\"quickchart('df-ee0d5275-810d-4f34-aa55-39543a2cfde2')\"\n",
              "              title=\"Suggest charts.\"\n",
              "              style=\"display:none;\">\n",
              "\n",
              "<svg xmlns=\"http://www.w3.org/2000/svg\" height=\"24px\"viewBox=\"0 0 24 24\"\n",
              "     width=\"24px\">\n",
              "    <g>\n",
              "        <path d=\"M19 3H5c-1.1 0-2 .9-2 2v14c0 1.1.9 2 2 2h14c1.1 0 2-.9 2-2V5c0-1.1-.9-2-2-2zM9 17H7v-7h2v7zm4 0h-2V7h2v10zm4 0h-2v-4h2v4z\"/>\n",
              "    </g>\n",
              "</svg>\n",
              "      </button>\n",
              "    </div>\n",
              "\n",
              "<style>\n",
              "  .colab-df-quickchart {\n",
              "    background-color: #E8F0FE;\n",
              "    border: none;\n",
              "    border-radius: 50%;\n",
              "    cursor: pointer;\n",
              "    display: none;\n",
              "    fill: #1967D2;\n",
              "    height: 32px;\n",
              "    padding: 0 0 0 0;\n",
              "    width: 32px;\n",
              "  }\n",
              "\n",
              "  .colab-df-quickchart:hover {\n",
              "    background-color: #E2EBFA;\n",
              "    box-shadow: 0px 1px 2px rgba(60, 64, 67, 0.3), 0px 1px 3px 1px rgba(60, 64, 67, 0.15);\n",
              "    fill: #174EA6;\n",
              "  }\n",
              "\n",
              "  [theme=dark] .colab-df-quickchart {\n",
              "    background-color: #3B4455;\n",
              "    fill: #D2E3FC;\n",
              "  }\n",
              "\n",
              "  [theme=dark] .colab-df-quickchart:hover {\n",
              "    background-color: #434B5C;\n",
              "    box-shadow: 0px 1px 3px 1px rgba(0, 0, 0, 0.15);\n",
              "    filter: drop-shadow(0px 1px 2px rgba(0, 0, 0, 0.3));\n",
              "    fill: #FFFFFF;\n",
              "  }\n",
              "</style>\n",
              "\n",
              "    <script>\n",
              "      async function quickchart(key) {\n",
              "        const containerElement = document.querySelector('#' + key);\n",
              "        const charts = await google.colab.kernel.invokeFunction(\n",
              "            'suggestCharts', [key], {});\n",
              "      }\n",
              "    </script>\n",
              "\n",
              "      <script>\n",
              "\n",
              "function displayQuickchartButton(domScope) {\n",
              "  let quickchartButtonEl =\n",
              "    domScope.querySelector('#df-ee0d5275-810d-4f34-aa55-39543a2cfde2 button.colab-df-quickchart');\n",
              "  quickchartButtonEl.style.display =\n",
              "    google.colab.kernel.accessAllowed ? 'block' : 'none';\n",
              "}\n",
              "\n",
              "        displayQuickchartButton(document);\n",
              "      </script>\n",
              "      <style>\n",
              "    .colab-df-container {\n",
              "      display:flex;\n",
              "      flex-wrap:wrap;\n",
              "      gap: 12px;\n",
              "    }\n",
              "\n",
              "    .colab-df-convert {\n",
              "      background-color: #E8F0FE;\n",
              "      border: none;\n",
              "      border-radius: 50%;\n",
              "      cursor: pointer;\n",
              "      display: none;\n",
              "      fill: #1967D2;\n",
              "      height: 32px;\n",
              "      padding: 0 0 0 0;\n",
              "      width: 32px;\n",
              "    }\n",
              "\n",
              "    .colab-df-convert:hover {\n",
              "      background-color: #E2EBFA;\n",
              "      box-shadow: 0px 1px 2px rgba(60, 64, 67, 0.3), 0px 1px 3px 1px rgba(60, 64, 67, 0.15);\n",
              "      fill: #174EA6;\n",
              "    }\n",
              "\n",
              "    [theme=dark] .colab-df-convert {\n",
              "      background-color: #3B4455;\n",
              "      fill: #D2E3FC;\n",
              "    }\n",
              "\n",
              "    [theme=dark] .colab-df-convert:hover {\n",
              "      background-color: #434B5C;\n",
              "      box-shadow: 0px 1px 3px 1px rgba(0, 0, 0, 0.15);\n",
              "      filter: drop-shadow(0px 1px 2px rgba(0, 0, 0, 0.3));\n",
              "      fill: #FFFFFF;\n",
              "    }\n",
              "  </style>\n",
              "\n",
              "      <script>\n",
              "        const buttonEl =\n",
              "          document.querySelector('#df-bfe38f68-c705-4125-883d-c8ca6e999a39 button.colab-df-convert');\n",
              "        buttonEl.style.display =\n",
              "          google.colab.kernel.accessAllowed ? 'block' : 'none';\n",
              "\n",
              "        async function convertToInteractive(key) {\n",
              "          const element = document.querySelector('#df-bfe38f68-c705-4125-883d-c8ca6e999a39');\n",
              "          const dataTable =\n",
              "            await google.colab.kernel.invokeFunction('convertToInteractive',\n",
              "                                                     [key], {});\n",
              "          if (!dataTable) return;\n",
              "\n",
              "          const docLinkHtml = 'Like what you see? Visit the ' +\n",
              "            '<a target=\"_blank\" href=https://colab.research.google.com/notebooks/data_table.ipynb>data table notebook</a>'\n",
              "            + ' to learn more about interactive tables.';\n",
              "          element.innerHTML = '';\n",
              "          dataTable['output_type'] = 'display_data';\n",
              "          await google.colab.output.renderOutput(dataTable, element);\n",
              "          const docLink = document.createElement('div');\n",
              "          docLink.innerHTML = docLinkHtml;\n",
              "          element.appendChild(docLink);\n",
              "        }\n",
              "      </script>\n",
              "    </div>\n",
              "  </div>\n"
            ]
          },
          "metadata": {},
          "execution_count": 3
        }
      ]
    },
    {
      "cell_type": "markdown",
      "source": [
        "## Задание\n",
        "\n",
        "Посмотрите, есть ли в данных пропущенные значения."
      ],
      "metadata": {
        "id": "Eib6Vj3eUOWi"
      }
    },
    {
      "cell_type": "code",
      "source": [
        "# your code here"
      ],
      "metadata": {
        "id": "rM92inoDURTx"
      },
      "execution_count": 25,
      "outputs": []
    },
    {
      "cell_type": "markdown",
      "source": [
        "## Задание\n",
        "\n",
        "Постройте гистограмму распределения целевой переменной (TARGET)"
      ],
      "metadata": {
        "id": "8dJ1zxx6DImH"
      }
    },
    {
      "cell_type": "code",
      "source": [
        "# your code here"
      ],
      "metadata": {
        "id": "cyLeQ19qDByN"
      },
      "execution_count": 6,
      "outputs": []
    },
    {
      "cell_type": "markdown",
      "source": [
        "Что можно заметить:\n",
        "\n",
        "* возраст распределен более-менее равномерно\n",
        "* есть небольшая группа людей с большими доходами, доходы распределены неравномерно (и даже не нормально)\n",
        "* целевая переменная сильно несбалансирована"
      ],
      "metadata": {
        "id": "o2Y_C15MVE8L"
      }
    },
    {
      "cell_type": "markdown",
      "source": [
        "## Обучение и валидация модели\n",
        "\n",
        "Сформируем матрицу X объект-признак и вектор y целевой переменной."
      ],
      "metadata": {
        "id": "YKqPYfZ3N1Bp"
      }
    },
    {
      "cell_type": "code",
      "source": [
        "X = data.drop('TARGET', axis=1)\n",
        "y = data['TARGET']"
      ],
      "metadata": {
        "id": "cgetIc6vRgMi"
      },
      "execution_count": 7,
      "outputs": []
    },
    {
      "cell_type": "markdown",
      "metadata": {
        "id": "jk6JotAMhtwe"
      },
      "source": [
        "Когда мы решаем задачу классификации, мы можем захотеть предсказывать не только классы, но и их вероятности. Для целей бизнеса, например, полезно знать, с какой вероятностью клиент вернет кредит (а не просто - вернет кредит или не вернет). Например, если клиент уйдет из банка с вероятностью 0.95, то это очень ненадежный клиент. А если с вероятностью 0.52  - этот клиент под вопросом. Но с точки зрения бинарной классификации для обоих клиентов модель предскажет, что они уйдут, так как стандартный порог перевода вероятности в классы - 0.5.\n",
        "\n",
        "* задача классификации, в которой модель предсказывает только классы - это **жесткая классификация**\n",
        "* если же классификатор предсказывает вероятности классов - это **мягкая классификация**"
      ]
    },
    {
      "cell_type": "markdown",
      "source": [
        "![churn.png](data:image/png;base64,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)"
      ],
      "metadata": {
        "id": "hnFad05-g63q"
      }
    },
    {
      "cell_type": "markdown",
      "source": [
        "**Логистическая регрессия** - это линейный классификатор, который кроме классов корректно предсказывает вероятности классов.\n",
        "\n",
        "Модель делает предсказания по формуле\n",
        "$$a(x) = w_0 + w_1x_1 + w_2x_2 + ...,$$\n",
        "то есть умножает признаки объекта $x_1,x_2,...$ на некоторые веса $w_0,w_1,w_2,...$\n",
        "\n",
        "Например, если\n",
        "* $x_1$ - возраст клиента\n",
        "* $x_2$ - число жалоб клиента на банк,\n",
        "то обученная модель может иметь вид\n",
        "$$a(x) = 10 - 3x_1 + 50x_2$$\n",
        "\n",
        "Веса модели подбираются автоматически так, чтобы ошибка предсказания модели была минимальной."
      ],
      "metadata": {
        "id": "AjTu7Egugtv1"
      }
    },
    {
      "cell_type": "markdown",
      "source": [
        "Для начала разобъём данные на train и test (test — 25% от всех данных)."
      ],
      "metadata": {
        "id": "AmBs4yaFf87N"
      }
    },
    {
      "cell_type": "markdown",
      "source": [
        "Давайте применим логистическую регрессию для поиска оттоковых клиентов!"
      ],
      "metadata": {
        "id": "kLfG720Fi4eh"
      }
    },
    {
      "cell_type": "markdown",
      "source": [
        "![TTS.jpg](data:image/jpeg;base64,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)"
      ],
      "metadata": {
        "id": "tJPbLTSNhvfe"
      }
    },
    {
      "cell_type": "code",
      "execution_count": 8,
      "metadata": {
        "id": "O4IcPGEOhtwe"
      },
      "outputs": [],
      "source": [
        "from sklearn.metrics import accuracy_score\n",
        "from sklearn.model_selection import train_test_split\n",
        "\n",
        "Xtrain, Xtest, ytrain, ytest = train_test_split(X, y, test_size=0.25, random_state=42)"
      ]
    },
    {
      "cell_type": "markdown",
      "source": [
        "Посмотрим на основные характеристики признаков."
      ],
      "metadata": {
        "id": "FC-RagnQOMYN"
      }
    },
    {
      "cell_type": "code",
      "source": [
        "X.describe()"
      ],
      "metadata": {
        "colab": {
          "base_uri": "https://localhost:8080/",
          "height": 357
        },
        "id": "LX70BtBROQTW",
        "outputId": "50c4f490-0d49-4fb9-d9d2-f5171a3c91c1"
      },
      "execution_count": 9,
      "outputs": [
        {
          "output_type": "execute_result",
          "data": {
            "text/plain": [
              "                AGE  SOCSTATUS_WORK_FL  SOCSTATUS_PENS_FL        GENDER  \\\n",
              "count  15223.000000       15223.000000       15223.000000  15223.000000   \n",
              "mean      40.406096           0.909610           0.134468      0.654536   \n",
              "std       11.601068           0.286748           0.341165      0.475535   \n",
              "min       21.000000           0.000000           0.000000      0.000000   \n",
              "25%       30.000000           1.000000           0.000000      0.000000   \n",
              "50%       39.000000           1.000000           0.000000      1.000000   \n",
              "75%       50.000000           1.000000           0.000000      1.000000   \n",
              "max       67.000000           1.000000           1.000000      1.000000   \n",
              "\n",
              "        CHILD_TOTAL    DEPENDANTS  PERSONAL_INCOME    Complaints       Answers  \n",
              "count  15223.000000  15223.000000     15223.000000  15223.000000  15223.000000  \n",
              "mean       1.099389      0.645208     13853.836323      1.387769      0.751889  \n",
              "std        0.995411      0.812252      9015.467617      0.793566      0.988499  \n",
              "min        0.000000      0.000000        24.000000      1.000000      0.000000  \n",
              "25%        0.000000      0.000000      8000.000000      1.000000      0.000000  \n",
              "50%        1.000000      0.000000     12000.000000      1.000000      0.000000  \n",
              "75%        2.000000      1.000000     17000.000000      2.000000      1.000000  \n",
              "max       10.000000      7.000000    250000.000000     11.000000     11.000000  "
            ],
            "text/html": [
              "\n",
              "\n",
              "  <div id=\"df-6cb88c0d-b0c8-43bb-b0db-7f641194814b\">\n",
              "    <div class=\"colab-df-container\">\n",
              "      <div>\n",
              "<style scoped>\n",
              "    .dataframe tbody tr th:only-of-type {\n",
              "        vertical-align: middle;\n",
              "    }\n",
              "\n",
              "    .dataframe tbody tr th {\n",
              "        vertical-align: top;\n",
              "    }\n",
              "\n",
              "    .dataframe thead th {\n",
              "        text-align: right;\n",
              "    }\n",
              "</style>\n",
              "<table border=\"1\" class=\"dataframe\">\n",
              "  <thead>\n",
              "    <tr style=\"text-align: right;\">\n",
              "      <th></th>\n",
              "      <th>AGE</th>\n",
              "      <th>SOCSTATUS_WORK_FL</th>\n",
              "      <th>SOCSTATUS_PENS_FL</th>\n",
              "      <th>GENDER</th>\n",
              "      <th>CHILD_TOTAL</th>\n",
              "      <th>DEPENDANTS</th>\n",
              "      <th>PERSONAL_INCOME</th>\n",
              "      <th>Complaints</th>\n",
              "      <th>Answers</th>\n",
              "    </tr>\n",
              "  </thead>\n",
              "  <tbody>\n",
              "    <tr>\n",
              "      <th>count</th>\n",
              "      <td>15223.000000</td>\n",
              "      <td>15223.000000</td>\n",
              "      <td>15223.000000</td>\n",
              "      <td>15223.000000</td>\n",
              "      <td>15223.000000</td>\n",
              "      <td>15223.000000</td>\n",
              "      <td>15223.000000</td>\n",
              "      <td>15223.000000</td>\n",
              "      <td>15223.000000</td>\n",
              "    </tr>\n",
              "    <tr>\n",
              "      <th>mean</th>\n",
              "      <td>40.406096</td>\n",
              "      <td>0.909610</td>\n",
              "      <td>0.134468</td>\n",
              "      <td>0.654536</td>\n",
              "      <td>1.099389</td>\n",
              "      <td>0.645208</td>\n",
              "      <td>13853.836323</td>\n",
              "      <td>1.387769</td>\n",
              "      <td>0.751889</td>\n",
              "    </tr>\n",
              "    <tr>\n",
              "      <th>std</th>\n",
              "      <td>11.601068</td>\n",
              "      <td>0.286748</td>\n",
              "      <td>0.341165</td>\n",
              "      <td>0.475535</td>\n",
              "      <td>0.995411</td>\n",
              "      <td>0.812252</td>\n",
              "      <td>9015.467617</td>\n",
              "      <td>0.793566</td>\n",
              "      <td>0.988499</td>\n",
              "    </tr>\n",
              "    <tr>\n",
              "      <th>min</th>\n",
              "      <td>21.000000</td>\n",
              "      <td>0.000000</td>\n",
              "      <td>0.000000</td>\n",
              "      <td>0.000000</td>\n",
              "      <td>0.000000</td>\n",
              "      <td>0.000000</td>\n",
              "      <td>24.000000</td>\n",
              "      <td>1.000000</td>\n",
              "      <td>0.000000</td>\n",
              "    </tr>\n",
              "    <tr>\n",
              "      <th>25%</th>\n",
              "      <td>30.000000</td>\n",
              "      <td>1.000000</td>\n",
              "      <td>0.000000</td>\n",
              "      <td>0.000000</td>\n",
              "      <td>0.000000</td>\n",
              "      <td>0.000000</td>\n",
              "      <td>8000.000000</td>\n",
              "      <td>1.000000</td>\n",
              "      <td>0.000000</td>\n",
              "    </tr>\n",
              "    <tr>\n",
              "      <th>50%</th>\n",
              "      <td>39.000000</td>\n",
              "      <td>1.000000</td>\n",
              "      <td>0.000000</td>\n",
              "      <td>1.000000</td>\n",
              "      <td>1.000000</td>\n",
              "      <td>0.000000</td>\n",
              "      <td>12000.000000</td>\n",
              "      <td>1.000000</td>\n",
              "      <td>0.000000</td>\n",
              "    </tr>\n",
              "    <tr>\n",
              "      <th>75%</th>\n",
              "      <td>50.000000</td>\n",
              "      <td>1.000000</td>\n",
              "      <td>0.000000</td>\n",
              "      <td>1.000000</td>\n",
              "      <td>2.000000</td>\n",
              "      <td>1.000000</td>\n",
              "      <td>17000.000000</td>\n",
              "      <td>2.000000</td>\n",
              "      <td>1.000000</td>\n",
              "    </tr>\n",
              "    <tr>\n",
              "      <th>max</th>\n",
              "      <td>67.000000</td>\n",
              "      <td>1.000000</td>\n",
              "      <td>1.000000</td>\n",
              "      <td>1.000000</td>\n",
              "      <td>10.000000</td>\n",
              "      <td>7.000000</td>\n",
              "      <td>250000.000000</td>\n",
              "      <td>11.000000</td>\n",
              "      <td>11.000000</td>\n",
              "    </tr>\n",
              "  </tbody>\n",
              "</table>\n",
              "</div>\n",
              "      <button class=\"colab-df-convert\" onclick=\"convertToInteractive('df-6cb88c0d-b0c8-43bb-b0db-7f641194814b')\"\n",
              "              title=\"Convert this dataframe to an interactive table.\"\n",
              "              style=\"display:none;\">\n",
              "\n",
              "  <svg xmlns=\"http://www.w3.org/2000/svg\" height=\"24px\"viewBox=\"0 0 24 24\"\n",
              "       width=\"24px\">\n",
              "    <path d=\"M0 0h24v24H0V0z\" fill=\"none\"/>\n",
              "    <path d=\"M18.56 5.44l.94 2.06.94-2.06 2.06-.94-2.06-.94-.94-2.06-.94 2.06-2.06.94zm-11 1L8.5 8.5l.94-2.06 2.06-.94-2.06-.94L8.5 2.5l-.94 2.06-2.06.94zm10 10l.94 2.06.94-2.06 2.06-.94-2.06-.94-.94-2.06-.94 2.06-2.06.94z\"/><path d=\"M17.41 7.96l-1.37-1.37c-.4-.4-.92-.59-1.43-.59-.52 0-1.04.2-1.43.59L10.3 9.45l-7.72 7.72c-.78.78-.78 2.05 0 2.83L4 21.41c.39.39.9.59 1.41.59.51 0 1.02-.2 1.41-.59l7.78-7.78 2.81-2.81c.8-.78.8-2.07 0-2.86zM5.41 20L4 18.59l7.72-7.72 1.47 1.35L5.41 20z\"/>\n",
              "  </svg>\n",
              "      </button>\n",
              "\n",
              "\n",
              "\n",
              "    <div id=\"df-da10246b-0fdd-462a-bffc-85ead41f02e2\">\n",
              "      <button class=\"colab-df-quickchart\" onclick=\"quickchart('df-da10246b-0fdd-462a-bffc-85ead41f02e2')\"\n",
              "              title=\"Suggest charts.\"\n",
              "              style=\"display:none;\">\n",
              "\n",
              "<svg xmlns=\"http://www.w3.org/2000/svg\" height=\"24px\"viewBox=\"0 0 24 24\"\n",
              "     width=\"24px\">\n",
              "    <g>\n",
              "        <path d=\"M19 3H5c-1.1 0-2 .9-2 2v14c0 1.1.9 2 2 2h14c1.1 0 2-.9 2-2V5c0-1.1-.9-2-2-2zM9 17H7v-7h2v7zm4 0h-2V7h2v10zm4 0h-2v-4h2v4z\"/>\n",
              "    </g>\n",
              "</svg>\n",
              "      </button>\n",
              "    </div>\n",
              "\n",
              "<style>\n",
              "  .colab-df-quickchart {\n",
              "    background-color: #E8F0FE;\n",
              "    border: none;\n",
              "    border-radius: 50%;\n",
              "    cursor: pointer;\n",
              "    display: none;\n",
              "    fill: #1967D2;\n",
              "    height: 32px;\n",
              "    padding: 0 0 0 0;\n",
              "    width: 32px;\n",
              "  }\n",
              "\n",
              "  .colab-df-quickchart:hover {\n",
              "    background-color: #E2EBFA;\n",
              "    box-shadow: 0px 1px 2px rgba(60, 64, 67, 0.3), 0px 1px 3px 1px rgba(60, 64, 67, 0.15);\n",
              "    fill: #174EA6;\n",
              "  }\n",
              "\n",
              "  [theme=dark] .colab-df-quickchart {\n",
              "    background-color: #3B4455;\n",
              "    fill: #D2E3FC;\n",
              "  }\n",
              "\n",
              "  [theme=dark] .colab-df-quickchart:hover {\n",
              "    background-color: #434B5C;\n",
              "    box-shadow: 0px 1px 3px 1px rgba(0, 0, 0, 0.15);\n",
              "    filter: drop-shadow(0px 1px 2px rgba(0, 0, 0, 0.3));\n",
              "    fill: #FFFFFF;\n",
              "  }\n",
              "</style>\n",
              "\n",
              "    <script>\n",
              "      async function quickchart(key) {\n",
              "        const containerElement = document.querySelector('#' + key);\n",
              "        const charts = await google.colab.kernel.invokeFunction(\n",
              "            'suggestCharts', [key], {});\n",
              "      }\n",
              "    </script>\n",
              "\n",
              "      <script>\n",
              "\n",
              "function displayQuickchartButton(domScope) {\n",
              "  let quickchartButtonEl =\n",
              "    domScope.querySelector('#df-da10246b-0fdd-462a-bffc-85ead41f02e2 button.colab-df-quickchart');\n",
              "  quickchartButtonEl.style.display =\n",
              "    google.colab.kernel.accessAllowed ? 'block' : 'none';\n",
              "}\n",
              "\n",
              "        displayQuickchartButton(document);\n",
              "      </script>\n",
              "      <style>\n",
              "    .colab-df-container {\n",
              "      display:flex;\n",
              "      flex-wrap:wrap;\n",
              "      gap: 12px;\n",
              "    }\n",
              "\n",
              "    .colab-df-convert {\n",
              "      background-color: #E8F0FE;\n",
              "      border: none;\n",
              "      border-radius: 50%;\n",
              "      cursor: pointer;\n",
              "      display: none;\n",
              "      fill: #1967D2;\n",
              "      height: 32px;\n",
              "      padding: 0 0 0 0;\n",
              "      width: 32px;\n",
              "    }\n",
              "\n",
              "    .colab-df-convert:hover {\n",
              "      background-color: #E2EBFA;\n",
              "      box-shadow: 0px 1px 2px rgba(60, 64, 67, 0.3), 0px 1px 3px 1px rgba(60, 64, 67, 0.15);\n",
              "      fill: #174EA6;\n",
              "    }\n",
              "\n",
              "    [theme=dark] .colab-df-convert {\n",
              "      background-color: #3B4455;\n",
              "      fill: #D2E3FC;\n",
              "    }\n",
              "\n",
              "    [theme=dark] .colab-df-convert:hover {\n",
              "      background-color: #434B5C;\n",
              "      box-shadow: 0px 1px 3px 1px rgba(0, 0, 0, 0.15);\n",
              "      filter: drop-shadow(0px 1px 2px rgba(0, 0, 0, 0.3));\n",
              "      fill: #FFFFFF;\n",
              "    }\n",
              "  </style>\n",
              "\n",
              "      <script>\n",
              "        const buttonEl =\n",
              "          document.querySelector('#df-6cb88c0d-b0c8-43bb-b0db-7f641194814b button.colab-df-convert');\n",
              "        buttonEl.style.display =\n",
              "          google.colab.kernel.accessAllowed ? 'block' : 'none';\n",
              "\n",
              "        async function convertToInteractive(key) {\n",
              "          const element = document.querySelector('#df-6cb88c0d-b0c8-43bb-b0db-7f641194814b');\n",
              "          const dataTable =\n",
              "            await google.colab.kernel.invokeFunction('convertToInteractive',\n",
              "                                                     [key], {});\n",
              "          if (!dataTable) return;\n",
              "\n",
              "          const docLinkHtml = 'Like what you see? Visit the ' +\n",
              "            '<a target=\"_blank\" href=https://colab.research.google.com/notebooks/data_table.ipynb>data table notebook</a>'\n",
              "            + ' to learn more about interactive tables.';\n",
              "          element.innerHTML = '';\n",
              "          dataTable['output_type'] = 'display_data';\n",
              "          await google.colab.output.renderOutput(dataTable, element);\n",
              "          const docLink = document.createElement('div');\n",
              "          docLink.innerHTML = docLinkHtml;\n",
              "          element.appendChild(docLink);\n",
              "        }\n",
              "      </script>\n",
              "    </div>\n",
              "  </div>\n"
            ]
          },
          "metadata": {},
          "execution_count": 9
        }
      ]
    },
    {
      "cell_type": "markdown",
      "source": [
        "## Вопрос\n",
        "\n",
        "В одинаковых ли масштабах измеряются признаки клиентов?"
      ],
      "metadata": {
        "id": "gpAopXKbVqUF"
      }
    },
    {
      "cell_type": "markdown",
      "source": [
        "Для линейных моделей очень важно масштабирование признаков. Поэтому отмасштабируем признаки при помощи StandardScaler, обучив метод на тренировочных данных и применив его и к трейну, и к тесту."
      ],
      "metadata": {
        "id": "GbuDWle1z2Uh"
      }
    },
    {
      "cell_type": "code",
      "source": [
        "import pandas as pd\n",
        "from sklearn.preprocessing import StandardScaler\n",
        "\n",
        "ss = StandardScaler()\n",
        "ss.fit(Xtrain)\n",
        "\n",
        "Xtrain = pd.DataFrame(ss.transform(Xtrain), columns=X.columns)\n",
        "Xtest = pd.DataFrame(ss.transform(Xtest), columns=X.columns)\n",
        "\n",
        "Xtrain.head()"
      ],
      "metadata": {
        "id": "69H1fh7VzaZf",
        "colab": {
          "base_uri": "https://localhost:8080/",
          "height": 221
        },
        "outputId": "d5c5781d-a1c6-479e-ab93-2e428bd6604a"
      },
      "execution_count": 10,
      "outputs": [
        {
          "output_type": "execute_result",
          "data": {
            "text/plain": [
              "        AGE  SOCSTATUS_WORK_FL  SOCSTATUS_PENS_FL    GENDER  CHILD_TOTAL  \\\n",
              "0  0.735974           0.317749          -0.395161  0.727742    -1.108903   \n",
              "1  0.050067           0.317749          -0.395161  0.727742    -1.108903   \n",
              "2 -0.550101           0.317749          -0.395161  0.727742    -1.108903   \n",
              "3 -0.464363           0.317749          -0.395161 -1.374113     0.900995   \n",
              "4  0.135806           0.317749          -0.395161 -1.374113     0.900995   \n",
              "\n",
              "   DEPENDANTS  PERSONAL_INCOME  Complaints   Answers  \n",
              "0    -0.79471        -0.652688    4.527396  3.281398  \n",
              "1    -0.79471        -0.990101   -0.490981 -0.762613  \n",
              "2    -0.79471         0.134611    0.763613  1.259392  \n",
              "3     1.66016         1.934152   -0.490981 -0.762613  \n",
              "4     1.66016         0.809439   -0.490981 -0.762613  "
            ],
            "text/html": [
              "\n",
              "\n",
              "  <div id=\"df-96f88da6-eab0-49ab-ba0a-b38b46b859a7\">\n",
              "    <div class=\"colab-df-container\">\n",
              "      <div>\n",
              "<style scoped>\n",
              "    .dataframe tbody tr th:only-of-type {\n",
              "        vertical-align: middle;\n",
              "    }\n",
              "\n",
              "    .dataframe tbody tr th {\n",
              "        vertical-align: top;\n",
              "    }\n",
              "\n",
              "    .dataframe thead th {\n",
              "        text-align: right;\n",
              "    }\n",
              "</style>\n",
              "<table border=\"1\" class=\"dataframe\">\n",
              "  <thead>\n",
              "    <tr style=\"text-align: right;\">\n",
              "      <th></th>\n",
              "      <th>AGE</th>\n",
              "      <th>SOCSTATUS_WORK_FL</th>\n",
              "      <th>SOCSTATUS_PENS_FL</th>\n",
              "      <th>GENDER</th>\n",
              "      <th>CHILD_TOTAL</th>\n",
              "      <th>DEPENDANTS</th>\n",
              "      <th>PERSONAL_INCOME</th>\n",
              "      <th>Complaints</th>\n",
              "      <th>Answers</th>\n",
              "    </tr>\n",
              "  </thead>\n",
              "  <tbody>\n",
              "    <tr>\n",
              "      <th>0</th>\n",
              "      <td>0.735974</td>\n",
              "      <td>0.317749</td>\n",
              "      <td>-0.395161</td>\n",
              "      <td>0.727742</td>\n",
              "      <td>-1.108903</td>\n",
              "      <td>-0.79471</td>\n",
              "      <td>-0.652688</td>\n",
              "      <td>4.527396</td>\n",
              "      <td>3.281398</td>\n",
              "    </tr>\n",
              "    <tr>\n",
              "      <th>1</th>\n",
              "      <td>0.050067</td>\n",
              "      <td>0.317749</td>\n",
              "      <td>-0.395161</td>\n",
              "      <td>0.727742</td>\n",
              "      <td>-1.108903</td>\n",
              "      <td>-0.79471</td>\n",
              "      <td>-0.990101</td>\n",
              "      <td>-0.490981</td>\n",
              "      <td>-0.762613</td>\n",
              "    </tr>\n",
              "    <tr>\n",
              "      <th>2</th>\n",
              "      <td>-0.550101</td>\n",
              "      <td>0.317749</td>\n",
              "      <td>-0.395161</td>\n",
              "      <td>0.727742</td>\n",
              "      <td>-1.108903</td>\n",
              "      <td>-0.79471</td>\n",
              "      <td>0.134611</td>\n",
              "      <td>0.763613</td>\n",
              "      <td>1.259392</td>\n",
              "    </tr>\n",
              "    <tr>\n",
              "      <th>3</th>\n",
              "      <td>-0.464363</td>\n",
              "      <td>0.317749</td>\n",
              "      <td>-0.395161</td>\n",
              "      <td>-1.374113</td>\n",
              "      <td>0.900995</td>\n",
              "      <td>1.66016</td>\n",
              "      <td>1.934152</td>\n",
              "      <td>-0.490981</td>\n",
              "      <td>-0.762613</td>\n",
              "    </tr>\n",
              "    <tr>\n",
              "      <th>4</th>\n",
              "      <td>0.135806</td>\n",
              "      <td>0.317749</td>\n",
              "      <td>-0.395161</td>\n",
              "      <td>-1.374113</td>\n",
              "      <td>0.900995</td>\n",
              "      <td>1.66016</td>\n",
              "      <td>0.809439</td>\n",
              "      <td>-0.490981</td>\n",
              "      <td>-0.762613</td>\n",
              "    </tr>\n",
              "  </tbody>\n",
              "</table>\n",
              "</div>\n",
              "      <button class=\"colab-df-convert\" onclick=\"convertToInteractive('df-96f88da6-eab0-49ab-ba0a-b38b46b859a7')\"\n",
              "              title=\"Convert this dataframe to an interactive table.\"\n",
              "              style=\"display:none;\">\n",
              "\n",
              "  <svg xmlns=\"http://www.w3.org/2000/svg\" height=\"24px\"viewBox=\"0 0 24 24\"\n",
              "       width=\"24px\">\n",
              "    <path d=\"M0 0h24v24H0V0z\" fill=\"none\"/>\n",
              "    <path d=\"M18.56 5.44l.94 2.06.94-2.06 2.06-.94-2.06-.94-.94-2.06-.94 2.06-2.06.94zm-11 1L8.5 8.5l.94-2.06 2.06-.94-2.06-.94L8.5 2.5l-.94 2.06-2.06.94zm10 10l.94 2.06.94-2.06 2.06-.94-2.06-.94-.94-2.06-.94 2.06-2.06.94z\"/><path d=\"M17.41 7.96l-1.37-1.37c-.4-.4-.92-.59-1.43-.59-.52 0-1.04.2-1.43.59L10.3 9.45l-7.72 7.72c-.78.78-.78 2.05 0 2.83L4 21.41c.39.39.9.59 1.41.59.51 0 1.02-.2 1.41-.59l7.78-7.78 2.81-2.81c.8-.78.8-2.07 0-2.86zM5.41 20L4 18.59l7.72-7.72 1.47 1.35L5.41 20z\"/>\n",
              "  </svg>\n",
              "      </button>\n",
              "\n",
              "\n",
              "\n",
              "    <div id=\"df-929d7e10-bc26-4203-9369-1528871b0158\">\n",
              "      <button class=\"colab-df-quickchart\" onclick=\"quickchart('df-929d7e10-bc26-4203-9369-1528871b0158')\"\n",
              "              title=\"Suggest charts.\"\n",
              "              style=\"display:none;\">\n",
              "\n",
              "<svg xmlns=\"http://www.w3.org/2000/svg\" height=\"24px\"viewBox=\"0 0 24 24\"\n",
              "     width=\"24px\">\n",
              "    <g>\n",
              "        <path d=\"M19 3H5c-1.1 0-2 .9-2 2v14c0 1.1.9 2 2 2h14c1.1 0 2-.9 2-2V5c0-1.1-.9-2-2-2zM9 17H7v-7h2v7zm4 0h-2V7h2v10zm4 0h-2v-4h2v4z\"/>\n",
              "    </g>\n",
              "</svg>\n",
              "      </button>\n",
              "    </div>\n",
              "\n",
              "<style>\n",
              "  .colab-df-quickchart {\n",
              "    background-color: #E8F0FE;\n",
              "    border: none;\n",
              "    border-radius: 50%;\n",
              "    cursor: pointer;\n",
              "    display: none;\n",
              "    fill: #1967D2;\n",
              "    height: 32px;\n",
              "    padding: 0 0 0 0;\n",
              "    width: 32px;\n",
              "  }\n",
              "\n",
              "  .colab-df-quickchart:hover {\n",
              "    background-color: #E2EBFA;\n",
              "    box-shadow: 0px 1px 2px rgba(60, 64, 67, 0.3), 0px 1px 3px 1px rgba(60, 64, 67, 0.15);\n",
              "    fill: #174EA6;\n",
              "  }\n",
              "\n",
              "  [theme=dark] .colab-df-quickchart {\n",
              "    background-color: #3B4455;\n",
              "    fill: #D2E3FC;\n",
              "  }\n",
              "\n",
              "  [theme=dark] .colab-df-quickchart:hover {\n",
              "    background-color: #434B5C;\n",
              "    box-shadow: 0px 1px 3px 1px rgba(0, 0, 0, 0.15);\n",
              "    filter: drop-shadow(0px 1px 2px rgba(0, 0, 0, 0.3));\n",
              "    fill: #FFFFFF;\n",
              "  }\n",
              "</style>\n",
              "\n",
              "    <script>\n",
              "      async function quickchart(key) {\n",
              "        const containerElement = document.querySelector('#' + key);\n",
              "        const charts = await google.colab.kernel.invokeFunction(\n",
              "            'suggestCharts', [key], {});\n",
              "      }\n",
              "    </script>\n",
              "\n",
              "      <script>\n",
              "\n",
              "function displayQuickchartButton(domScope) {\n",
              "  let quickchartButtonEl =\n",
              "    domScope.querySelector('#df-929d7e10-bc26-4203-9369-1528871b0158 button.colab-df-quickchart');\n",
              "  quickchartButtonEl.style.display =\n",
              "    google.colab.kernel.accessAllowed ? 'block' : 'none';\n",
              "}\n",
              "\n",
              "        displayQuickchartButton(document);\n",
              "      </script>\n",
              "      <style>\n",
              "    .colab-df-container {\n",
              "      display:flex;\n",
              "      flex-wrap:wrap;\n",
              "      gap: 12px;\n",
              "    }\n",
              "\n",
              "    .colab-df-convert {\n",
              "      background-color: #E8F0FE;\n",
              "      border: none;\n",
              "      border-radius: 50%;\n",
              "      cursor: pointer;\n",
              "      display: none;\n",
              "      fill: #1967D2;\n",
              "      height: 32px;\n",
              "      padding: 0 0 0 0;\n",
              "      width: 32px;\n",
              "    }\n",
              "\n",
              "    .colab-df-convert:hover {\n",
              "      background-color: #E2EBFA;\n",
              "      box-shadow: 0px 1px 2px rgba(60, 64, 67, 0.3), 0px 1px 3px 1px rgba(60, 64, 67, 0.15);\n",
              "      fill: #174EA6;\n",
              "    }\n",
              "\n",
              "    [theme=dark] .colab-df-convert {\n",
              "      background-color: #3B4455;\n",
              "      fill: #D2E3FC;\n",
              "    }\n",
              "\n",
              "    [theme=dark] .colab-df-convert:hover {\n",
              "      background-color: #434B5C;\n",
              "      box-shadow: 0px 1px 3px 1px rgba(0, 0, 0, 0.15);\n",
              "      filter: drop-shadow(0px 1px 2px rgba(0, 0, 0, 0.3));\n",
              "      fill: #FFFFFF;\n",
              "    }\n",
              "  </style>\n",
              "\n",
              "      <script>\n",
              "        const buttonEl =\n",
              "          document.querySelector('#df-96f88da6-eab0-49ab-ba0a-b38b46b859a7 button.colab-df-convert');\n",
              "        buttonEl.style.display =\n",
              "          google.colab.kernel.accessAllowed ? 'block' : 'none';\n",
              "\n",
              "        async function convertToInteractive(key) {\n",
              "          const element = document.querySelector('#df-96f88da6-eab0-49ab-ba0a-b38b46b859a7');\n",
              "          const dataTable =\n",
              "            await google.colab.kernel.invokeFunction('convertToInteractive',\n",
              "                                                     [key], {});\n",
              "          if (!dataTable) return;\n",
              "\n",
              "          const docLinkHtml = 'Like what you see? Visit the ' +\n",
              "            '<a target=\"_blank\" href=https://colab.research.google.com/notebooks/data_table.ipynb>data table notebook</a>'\n",
              "            + ' to learn more about interactive tables.';\n",
              "          element.innerHTML = '';\n",
              "          dataTable['output_type'] = 'display_data';\n",
              "          await google.colab.output.renderOutput(dataTable, element);\n",
              "          const docLink = document.createElement('div');\n",
              "          docLink.innerHTML = docLinkHtml;\n",
              "          element.appendChild(docLink);\n",
              "        }\n",
              "      </script>\n",
              "    </div>\n",
              "  </div>\n"
            ]
          },
          "metadata": {},
          "execution_count": 10
        }
      ]
    },
    {
      "cell_type": "markdown",
      "metadata": {
        "id": "jjPL8ZlJhtwf"
      },
      "source": [
        "Обучим логистическую регрессию на train и сделаем предсказание на новых для нее данных (test)."
      ]
    },
    {
      "cell_type": "code",
      "execution_count": 11,
      "metadata": {
        "colab": {
          "base_uri": "https://localhost:8080/",
          "height": 93
        },
        "id": "mmOb1h0Chtwf",
        "outputId": "8390e3a5-f237-4768-f4e6-a73510ae7ad3"
      },
      "outputs": [
        {
          "output_type": "execute_result",
          "data": {
            "text/plain": [
              "LogisticRegression()"
            ],
            "text/html": [
              "<style>#sk-container-id-1 {color: black;background-color: white;}#sk-container-id-1 pre{padding: 0;}#sk-container-id-1 div.sk-toggleable {background-color: white;}#sk-container-id-1 label.sk-toggleable__label {cursor: pointer;display: block;width: 100%;margin-bottom: 0;padding: 0.3em;box-sizing: border-box;text-align: center;}#sk-container-id-1 label.sk-toggleable__label-arrow:before {content: \"▸\";float: left;margin-right: 0.25em;color: #696969;}#sk-container-id-1 label.sk-toggleable__label-arrow:hover:before {color: black;}#sk-container-id-1 div.sk-estimator:hover label.sk-toggleable__label-arrow:before {color: black;}#sk-container-id-1 div.sk-toggleable__content {max-height: 0;max-width: 0;overflow: hidden;text-align: left;background-color: #f0f8ff;}#sk-container-id-1 div.sk-toggleable__content pre {margin: 0.2em;color: black;border-radius: 0.25em;background-color: #f0f8ff;}#sk-container-id-1 input.sk-toggleable__control:checked~div.sk-toggleable__content {max-height: 200px;max-width: 100%;overflow: auto;}#sk-container-id-1 input.sk-toggleable__control:checked~label.sk-toggleable__label-arrow:before {content: \"▾\";}#sk-container-id-1 div.sk-estimator input.sk-toggleable__control:checked~label.sk-toggleable__label {background-color: #d4ebff;}#sk-container-id-1 div.sk-label input.sk-toggleable__control:checked~label.sk-toggleable__label {background-color: #d4ebff;}#sk-container-id-1 input.sk-hidden--visually {border: 0;clip: rect(1px 1px 1px 1px);clip: rect(1px, 1px, 1px, 1px);height: 1px;margin: -1px;overflow: hidden;padding: 0;position: absolute;width: 1px;}#sk-container-id-1 div.sk-estimator {font-family: monospace;background-color: #f0f8ff;border: 1px dotted black;border-radius: 0.25em;box-sizing: border-box;margin-bottom: 0.5em;}#sk-container-id-1 div.sk-estimator:hover {background-color: #d4ebff;}#sk-container-id-1 div.sk-parallel-item::after {content: \"\";width: 100%;border-bottom: 1px solid gray;flex-grow: 1;}#sk-container-id-1 div.sk-label:hover label.sk-toggleable__label {background-color: #d4ebff;}#sk-container-id-1 div.sk-serial::before {content: \"\";position: absolute;border-left: 1px solid gray;box-sizing: border-box;top: 0;bottom: 0;left: 50%;z-index: 0;}#sk-container-id-1 div.sk-serial {display: flex;flex-direction: column;align-items: center;background-color: white;padding-right: 0.2em;padding-left: 0.2em;position: relative;}#sk-container-id-1 div.sk-item {position: relative;z-index: 1;}#sk-container-id-1 div.sk-parallel {display: flex;align-items: stretch;justify-content: center;background-color: white;position: relative;}#sk-container-id-1 div.sk-item::before, #sk-container-id-1 div.sk-parallel-item::before {content: \"\";position: absolute;border-left: 1px solid gray;box-sizing: border-box;top: 0;bottom: 0;left: 50%;z-index: -1;}#sk-container-id-1 div.sk-parallel-item {display: flex;flex-direction: column;z-index: 1;position: relative;background-color: white;}#sk-container-id-1 div.sk-parallel-item:first-child::after {align-self: flex-end;width: 50%;}#sk-container-id-1 div.sk-parallel-item:last-child::after {align-self: flex-start;width: 50%;}#sk-container-id-1 div.sk-parallel-item:only-child::after {width: 0;}#sk-container-id-1 div.sk-dashed-wrapped {border: 1px dashed gray;margin: 0 0.4em 0.5em 0.4em;box-sizing: border-box;padding-bottom: 0.4em;background-color: white;}#sk-container-id-1 div.sk-label label {font-family: monospace;font-weight: bold;display: inline-block;line-height: 1.2em;}#sk-container-id-1 div.sk-label-container {text-align: center;}#sk-container-id-1 div.sk-container {/* jupyter's `normalize.less` sets `[hidden] { display: none; }` but bootstrap.min.css set `[hidden] { display: none !important; }` so we also need the `!important` here to be able to override the default hidden behavior on the sphinx rendered scikit-learn.org. See: https://github.com/scikit-learn/scikit-learn/issues/21755 */display: inline-block !important;position: relative;}#sk-container-id-1 div.sk-text-repr-fallback {display: none;}</style><div id=\"sk-container-id-1\" class=\"sk-top-container\"><div class=\"sk-text-repr-fallback\"><pre>LogisticRegression()</pre><b>In a Jupyter environment, please rerun this cell to show the HTML representation or trust the notebook. <br />On GitHub, the HTML representation is unable to render, please try loading this page with nbviewer.org.</b></div><div class=\"sk-container\" hidden><div class=\"sk-item\"><div class=\"sk-estimator sk-toggleable\"><input class=\"sk-toggleable__control sk-hidden--visually\" id=\"sk-estimator-id-1\" type=\"checkbox\" checked><label for=\"sk-estimator-id-1\" class=\"sk-toggleable__label sk-toggleable__label-arrow\">LogisticRegression</label><div class=\"sk-toggleable__content\"><pre>LogisticRegression()</pre></div></div></div></div></div>"
            ]
          },
          "metadata": {},
          "execution_count": 11
        }
      ],
      "source": [
        "model = LogisticRegression()\n",
        "model.fit(Xtrain, ytrain)"
      ]
    },
    {
      "cell_type": "code",
      "source": [
        "pred_test = model.predict(Xtest) # предсказание классов"
      ],
      "metadata": {
        "id": "zsk3tPv5ia4F"
      },
      "execution_count": 12,
      "outputs": []
    },
    {
      "cell_type": "markdown",
      "source": [
        "Посмотрим на предсказания модели и оценим ее качество."
      ],
      "metadata": {
        "id": "90VpLk2MjSUn"
      }
    },
    {
      "cell_type": "code",
      "source": [
        "pred_test[:5]"
      ],
      "metadata": {
        "colab": {
          "base_uri": "https://localhost:8080/"
        },
        "id": "QCnk94hwjUy7",
        "outputId": "8d700576-0dd5-436a-f139-8892c7340f43"
      },
      "execution_count": 13,
      "outputs": [
        {
          "output_type": "execute_result",
          "data": {
            "text/plain": [
              "array([0, 0, 0, 0, 0])"
            ]
          },
          "metadata": {},
          "execution_count": 13
        }
      ]
    },
    {
      "cell_type": "code",
      "source": [
        "accuracy_score(ytest, pred_test)"
      ],
      "metadata": {
        "colab": {
          "base_uri": "https://localhost:8080/"
        },
        "id": "cVaD2VwskQGY",
        "outputId": "98881ee9-b3f0-4ac5-e54a-d86c5acd4338"
      },
      "execution_count": 14,
      "outputs": [
        {
          "output_type": "execute_result",
          "data": {
            "text/plain": [
              "0.8791382028376248"
            ]
          },
          "metadata": {},
          "execution_count": 14
        }
      ]
    },
    {
      "cell_type": "markdown",
      "source": [
        "## Вопрос\n",
        "\n",
        "Доля верно определенных классов высокая! Значит ли это, что качество хорошее?\n"
      ],
      "metadata": {
        "id": "gwBbxBxwPepQ"
      }
    },
    {
      "cell_type": "markdown",
      "source": [
        "Проверим, сбалансирована ли выборка."
      ],
      "metadata": {
        "id": "LzXLHJNGmNg6"
      }
    },
    {
      "cell_type": "code",
      "source": [
        "y.value_counts()"
      ],
      "metadata": {
        "colab": {
          "base_uri": "https://localhost:8080/"
        },
        "id": "NB4xFH1LiiSh",
        "outputId": "f1c7b2ae-3dfa-4888-e2d7-a6ba0b0a3dd3"
      },
      "execution_count": 15,
      "outputs": [
        {
          "output_type": "execute_result",
          "data": {
            "text/plain": [
              "0    13411\n",
              "1     1812\n",
              "Name: TARGET, dtype: int64"
            ]
          },
          "metadata": {},
          "execution_count": 15
        }
      ]
    },
    {
      "cell_type": "markdown",
      "source": [
        "Баланса классов нет: большинство клиентов не собирается менять банк ($y=0$).\n",
        "\n",
        "Посмотрим, что предсказывает модель."
      ],
      "metadata": {
        "id": "epmPo_TAPvEe"
      }
    },
    {
      "cell_type": "code",
      "source": [
        "pred_test[:20]"
      ],
      "metadata": {
        "colab": {
          "base_uri": "https://localhost:8080/"
        },
        "id": "P-tUWOp9P99-",
        "outputId": "1f5e04ec-7ccb-4c5c-bba2-a0fc7e519c61"
      },
      "execution_count": 16,
      "outputs": [
        {
          "output_type": "execute_result",
          "data": {
            "text/plain": [
              "array([0, 0, 0, 0, 0, 0, 0, 0, 0, 0, 0, 0, 0, 0, 0, 0, 0, 0, 0, 0])"
            ]
          },
          "metadata": {},
          "execution_count": 16
        }
      ]
    },
    {
      "cell_type": "markdown",
      "source": [
        "Для оценки качества моделей бинарной классификации полезно смотреть на матрицу ошибок (confusion matrix):"
      ],
      "metadata": {
        "id": "0WKy0qt2QHw-"
      }
    },
    {
      "cell_type": "markdown",
      "source": [
        "![confmat.png](data:image/png;base64,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)"
      ],
      "metadata": {
        "id": "cJ94ZEkshcXl"
      }
    },
    {
      "cell_type": "markdown",
      "source": [
        "Эта матрица состоит из четырех чисел:\n",
        "\n",
        "* **True Positive (TP)** - количество объектов положительного класса, предсказанных моделью как положительные (верные предсказания)\n",
        "* **False Positive (FP)** - количество объектов отрицательного класса, предсказанных моделью как положительные (ошибки модели)\n",
        "* **False Negative (FN)** - количество объектов положительного класса, предсказанных моделью как отрицательные (ошибки модели)\n",
        "* **True Negative (TN)** - количество объектов отрицательного класса, предсказанных моделью как отрицательные (верные предсказания)."
      ],
      "metadata": {
        "id": "4Vtl1tByheHZ"
      }
    },
    {
      "cell_type": "code",
      "source": [
        "from sklearn.metrics import confusion_matrix\n",
        "\n",
        "confusion_matrix(ytest, pred_test)"
      ],
      "metadata": {
        "colab": {
          "base_uri": "https://localhost:8080/"
        },
        "id": "P3XkIHpJQJjv",
        "outputId": "60df793f-de08-48f2-f009-a9f1546a127b"
      },
      "execution_count": 17,
      "outputs": [
        {
          "output_type": "execute_result",
          "data": {
            "text/plain": [
              "array([[3346,    2],\n",
              "       [ 458,    0]])"
            ]
          },
          "metadata": {},
          "execution_count": 17
        }
      ]
    },
    {
      "cell_type": "markdown",
      "source": [
        "Модель верно не определила ни одного оттокового клиента :(\n",
        "\n",
        "Также можно посмотреть на метрику **recall (полнота)** - она показывает, какую долю оттоковых клиентов (объектов положительного класса) нашла модель."
      ],
      "metadata": {
        "id": "xeBZEYHnPW34"
      }
    },
    {
      "cell_type": "code",
      "source": [
        "from sklearn.metrics import recall_score\n",
        "\n",
        "recall_score(ytest, pred_test)"
      ],
      "metadata": {
        "colab": {
          "base_uri": "https://localhost:8080/"
        },
        "id": "rs1crUP3Qvsh",
        "outputId": "8fc5f2be-6e32-42ad-c2ec-8164a1ab33fb"
      },
      "execution_count": 18,
      "outputs": [
        {
          "output_type": "execute_result",
          "data": {
            "text/plain": [
              "0.0"
            ]
          },
          "metadata": {},
          "execution_count": 18
        }
      ]
    },
    {
      "cell_type": "markdown",
      "source": [
        "Давайте разберемся, почему так произошло?\n",
        "\n",
        "Посмотрим на вероятности, выдаваемые моделью."
      ],
      "metadata": {
        "id": "S1yq_oDpOyBY"
      }
    },
    {
      "cell_type": "code",
      "source": [
        "probs = model.predict_proba(Xtest)\n",
        "\n",
        "probs[:10]"
      ],
      "metadata": {
        "colab": {
          "base_uri": "https://localhost:8080/"
        },
        "id": "t7ASlwolO09n",
        "outputId": "403061ae-0bfc-4e0b-ed49-ecea608131eb"
      },
      "execution_count": 19,
      "outputs": [
        {
          "output_type": "execute_result",
          "data": {
            "text/plain": [
              "array([[0.74792386, 0.25207614],\n",
              "       [0.91263782, 0.08736218],\n",
              "       [0.85376016, 0.14623984],\n",
              "       [0.84332411, 0.15667589],\n",
              "       [0.84902   , 0.15098   ],\n",
              "       [0.90377594, 0.09622406],\n",
              "       [0.87595062, 0.12404938],\n",
              "       [0.86171898, 0.13828102],\n",
              "       [0.83460356, 0.16539644],\n",
              "       [0.89310686, 0.10689314]])"
            ]
          },
          "metadata": {},
          "execution_count": 19
        }
      ]
    },
    {
      "cell_type": "markdown",
      "source": [
        "Модель слишком позитивна. Она присваивает классу 0 (клиент не уйдет) всегда большие вероятности.\n",
        "\n",
        "Попробуем изменить **порог для перевода вероятности в классы** со стандартного 0.5 на порог поменьше."
      ],
      "metadata": {
        "id": "MHF1dXxLQQlB"
      }
    },
    {
      "cell_type": "code",
      "source": [
        "probs_churn = probs[:,1]\n",
        "\n",
        "classes = probs_churn > 0.3"
      ],
      "metadata": {
        "id": "JoDNJgZ_O609"
      },
      "execution_count": 35,
      "outputs": []
    },
    {
      "cell_type": "code",
      "source": [
        "confusion_matrix(ytest, classes)"
      ],
      "metadata": {
        "colab": {
          "base_uri": "https://localhost:8080/"
        },
        "id": "EPmRIHIGO_I9",
        "outputId": "d745c0ae-46a4-41d9-d1ba-72303e8bbfd6"
      },
      "execution_count": 36,
      "outputs": [
        {
          "output_type": "execute_result",
          "data": {
            "text/plain": [
              "array([[3330,   18],\n",
              "       [ 457,    1]])"
            ]
          },
          "metadata": {},
          "execution_count": 36
        }
      ]
    },
    {
      "cell_type": "code",
      "source": [
        "recall_score(ytest, classes)"
      ],
      "metadata": {
        "colab": {
          "base_uri": "https://localhost:8080/"
        },
        "id": "uBPFvMlGQ11c",
        "outputId": "edfcf00d-46c8-4aaa-84c4-c5e59d23d586"
      },
      "execution_count": 37,
      "outputs": [
        {
          "output_type": "execute_result",
          "data": {
            "text/plain": [
              "0.002183406113537118"
            ]
          },
          "metadata": {},
          "execution_count": 37
        }
      ]
    },
    {
      "cell_type": "markdown",
      "source": [
        "Теперь модель стала находить оттоковых клиентов, но и больше ошибается на тех клиентах, которые не уйдут."
      ],
      "metadata": {
        "id": "WpBpmBaHQaFH"
      }
    },
    {
      "cell_type": "markdown",
      "source": [
        "## Задание\n",
        "\n",
        "Подберите порог, чтобы recall был больше 0.6, а precision максимальна"
      ],
      "metadata": {
        "id": "JzhX48YeE0g5"
      }
    },
    {
      "cell_type": "code",
      "source": [
        "# your code here"
      ],
      "metadata": {
        "id": "etl1wprkE6Cv"
      },
      "execution_count": 38,
      "outputs": []
    },
    {
      "cell_type": "markdown",
      "source": [
        "## Вопрос для Quiz\n",
        "\n",
        "Вычислите accuracy на новых классах (сравните ytest с classes)"
      ],
      "metadata": {
        "id": "7Op7nuhZQgQA"
      }
    },
    {
      "cell_type": "code",
      "source": [
        "# ваш код здесь"
      ],
      "metadata": {
        "id": "3BsC5AYWQo6k"
      },
      "execution_count": null,
      "outputs": []
    },
    {
      "cell_type": "markdown",
      "source": [
        "## Интерпретация модели\n",
        "\n",
        "После обучения модели можно посмотреть на её веса, то есть на коэффициенты при признаках, найденные моделью."
      ],
      "metadata": {
        "id": "N0qYwySGh9p_"
      }
    },
    {
      "cell_type": "code",
      "source": [
        "model.coef_, model.intercept_"
      ],
      "metadata": {
        "colab": {
          "base_uri": "https://localhost:8080/"
        },
        "id": "MbBhMrg9h_5o",
        "outputId": "9fc397e3-bfb1-4918-f02b-694cb69fc53d"
      },
      "execution_count": 23,
      "outputs": [
        {
          "output_type": "execute_result",
          "data": {
            "text/plain": [
              "(array([[-0.27357381,  0.15056766, -0.05266394,  0.01489557,  0.082133  ,\n",
              "          0.00291138,  0.23150349,  0.27551808, -0.44179942]]),\n",
              " array([-2.10802664]))"
            ]
          },
          "metadata": {},
          "execution_count": 23
        }
      ]
    },
    {
      "cell_type": "code",
      "source": [
        "import pandas as pd\n",
        "\n",
        "coef_table = pd.DataFrame({'features' : list(X.columns), 'weights' : list(model.coef_[0])})\n",
        "\n",
        "coef_table.sort_values(by='weights')"
      ],
      "metadata": {
        "colab": {
          "base_uri": "https://localhost:8080/",
          "height": 343
        },
        "id": "IaQlscwZiiUu",
        "outputId": "20a4e884-bff0-4723-949c-2bd25657c410"
      },
      "execution_count": 24,
      "outputs": [
        {
          "output_type": "execute_result",
          "data": {
            "text/plain": [
              "            features   weights\n",
              "8            Answers -0.441799\n",
              "0                AGE -0.273574\n",
              "2  SOCSTATUS_PENS_FL -0.052664\n",
              "5         DEPENDANTS  0.002911\n",
              "3             GENDER  0.014896\n",
              "4        CHILD_TOTAL  0.082133\n",
              "1  SOCSTATUS_WORK_FL  0.150568\n",
              "6    PERSONAL_INCOME  0.231503\n",
              "7         Complaints  0.275518"
            ],
            "text/html": [
              "\n",
              "\n",
              "  <div id=\"df-9d654cb2-1d23-4b2c-a41d-6191dd27cd1c\">\n",
              "    <div class=\"colab-df-container\">\n",
              "      <div>\n",
              "<style scoped>\n",
              "    .dataframe tbody tr th:only-of-type {\n",
              "        vertical-align: middle;\n",
              "    }\n",
              "\n",
              "    .dataframe tbody tr th {\n",
              "        vertical-align: top;\n",
              "    }\n",
              "\n",
              "    .dataframe thead th {\n",
              "        text-align: right;\n",
              "    }\n",
              "</style>\n",
              "<table border=\"1\" class=\"dataframe\">\n",
              "  <thead>\n",
              "    <tr style=\"text-align: right;\">\n",
              "      <th></th>\n",
              "      <th>features</th>\n",
              "      <th>weights</th>\n",
              "    </tr>\n",
              "  </thead>\n",
              "  <tbody>\n",
              "    <tr>\n",
              "      <th>8</th>\n",
              "      <td>Answers</td>\n",
              "      <td>-0.441799</td>\n",
              "    </tr>\n",
              "    <tr>\n",
              "      <th>0</th>\n",
              "      <td>AGE</td>\n",
              "      <td>-0.273574</td>\n",
              "    </tr>\n",
              "    <tr>\n",
              "      <th>2</th>\n",
              "      <td>SOCSTATUS_PENS_FL</td>\n",
              "      <td>-0.052664</td>\n",
              "    </tr>\n",
              "    <tr>\n",
              "      <th>5</th>\n",
              "      <td>DEPENDANTS</td>\n",
              "      <td>0.002911</td>\n",
              "    </tr>\n",
              "    <tr>\n",
              "      <th>3</th>\n",
              "      <td>GENDER</td>\n",
              "      <td>0.014896</td>\n",
              "    </tr>\n",
              "    <tr>\n",
              "      <th>4</th>\n",
              "      <td>CHILD_TOTAL</td>\n",
              "      <td>0.082133</td>\n",
              "    </tr>\n",
              "    <tr>\n",
              "      <th>1</th>\n",
              "      <td>SOCSTATUS_WORK_FL</td>\n",
              "      <td>0.150568</td>\n",
              "    </tr>\n",
              "    <tr>\n",
              "      <th>6</th>\n",
              "      <td>PERSONAL_INCOME</td>\n",
              "      <td>0.231503</td>\n",
              "    </tr>\n",
              "    <tr>\n",
              "      <th>7</th>\n",
              "      <td>Complaints</td>\n",
              "      <td>0.275518</td>\n",
              "    </tr>\n",
              "  </tbody>\n",
              "</table>\n",
              "</div>\n",
              "      <button class=\"colab-df-convert\" onclick=\"convertToInteractive('df-9d654cb2-1d23-4b2c-a41d-6191dd27cd1c')\"\n",
              "              title=\"Convert this dataframe to an interactive table.\"\n",
              "              style=\"display:none;\">\n",
              "\n",
              "  <svg xmlns=\"http://www.w3.org/2000/svg\" height=\"24px\"viewBox=\"0 0 24 24\"\n",
              "       width=\"24px\">\n",
              "    <path d=\"M0 0h24v24H0V0z\" fill=\"none\"/>\n",
              "    <path d=\"M18.56 5.44l.94 2.06.94-2.06 2.06-.94-2.06-.94-.94-2.06-.94 2.06-2.06.94zm-11 1L8.5 8.5l.94-2.06 2.06-.94-2.06-.94L8.5 2.5l-.94 2.06-2.06.94zm10 10l.94 2.06.94-2.06 2.06-.94-2.06-.94-.94-2.06-.94 2.06-2.06.94z\"/><path d=\"M17.41 7.96l-1.37-1.37c-.4-.4-.92-.59-1.43-.59-.52 0-1.04.2-1.43.59L10.3 9.45l-7.72 7.72c-.78.78-.78 2.05 0 2.83L4 21.41c.39.39.9.59 1.41.59.51 0 1.02-.2 1.41-.59l7.78-7.78 2.81-2.81c.8-.78.8-2.07 0-2.86zM5.41 20L4 18.59l7.72-7.72 1.47 1.35L5.41 20z\"/>\n",
              "  </svg>\n",
              "      </button>\n",
              "\n",
              "\n",
              "\n",
              "    <div id=\"df-41300979-ff18-463d-a9e1-e8e75673c19f\">\n",
              "      <button class=\"colab-df-quickchart\" onclick=\"quickchart('df-41300979-ff18-463d-a9e1-e8e75673c19f')\"\n",
              "              title=\"Suggest charts.\"\n",
              "              style=\"display:none;\">\n",
              "\n",
              "<svg xmlns=\"http://www.w3.org/2000/svg\" height=\"24px\"viewBox=\"0 0 24 24\"\n",
              "     width=\"24px\">\n",
              "    <g>\n",
              "        <path d=\"M19 3H5c-1.1 0-2 .9-2 2v14c0 1.1.9 2 2 2h14c1.1 0 2-.9 2-2V5c0-1.1-.9-2-2-2zM9 17H7v-7h2v7zm4 0h-2V7h2v10zm4 0h-2v-4h2v4z\"/>\n",
              "    </g>\n",
              "</svg>\n",
              "      </button>\n",
              "    </div>\n",
              "\n",
              "<style>\n",
              "  .colab-df-quickchart {\n",
              "    background-color: #E8F0FE;\n",
              "    border: none;\n",
              "    border-radius: 50%;\n",
              "    cursor: pointer;\n",
              "    display: none;\n",
              "    fill: #1967D2;\n",
              "    height: 32px;\n",
              "    padding: 0 0 0 0;\n",
              "    width: 32px;\n",
              "  }\n",
              "\n",
              "  .colab-df-quickchart:hover {\n",
              "    background-color: #E2EBFA;\n",
              "    box-shadow: 0px 1px 2px rgba(60, 64, 67, 0.3), 0px 1px 3px 1px rgba(60, 64, 67, 0.15);\n",
              "    fill: #174EA6;\n",
              "  }\n",
              "\n",
              "  [theme=dark] .colab-df-quickchart {\n",
              "    background-color: #3B4455;\n",
              "    fill: #D2E3FC;\n",
              "  }\n",
              "\n",
              "  [theme=dark] .colab-df-quickchart:hover {\n",
              "    background-color: #434B5C;\n",
              "    box-shadow: 0px 1px 3px 1px rgba(0, 0, 0, 0.15);\n",
              "    filter: drop-shadow(0px 1px 2px rgba(0, 0, 0, 0.3));\n",
              "    fill: #FFFFFF;\n",
              "  }\n",
              "</style>\n",
              "\n",
              "    <script>\n",
              "      async function quickchart(key) {\n",
              "        const containerElement = document.querySelector('#' + key);\n",
              "        const charts = await google.colab.kernel.invokeFunction(\n",
              "            'suggestCharts', [key], {});\n",
              "      }\n",
              "    </script>\n",
              "\n",
              "      <script>\n",
              "\n",
              "function displayQuickchartButton(domScope) {\n",
              "  let quickchartButtonEl =\n",
              "    domScope.querySelector('#df-41300979-ff18-463d-a9e1-e8e75673c19f button.colab-df-quickchart');\n",
              "  quickchartButtonEl.style.display =\n",
              "    google.colab.kernel.accessAllowed ? 'block' : 'none';\n",
              "}\n",
              "\n",
              "        displayQuickchartButton(document);\n",
              "      </script>\n",
              "      <style>\n",
              "    .colab-df-container {\n",
              "      display:flex;\n",
              "      flex-wrap:wrap;\n",
              "      gap: 12px;\n",
              "    }\n",
              "\n",
              "    .colab-df-convert {\n",
              "      background-color: #E8F0FE;\n",
              "      border: none;\n",
              "      border-radius: 50%;\n",
              "      cursor: pointer;\n",
              "      display: none;\n",
              "      fill: #1967D2;\n",
              "      height: 32px;\n",
              "      padding: 0 0 0 0;\n",
              "      width: 32px;\n",
              "    }\n",
              "\n",
              "    .colab-df-convert:hover {\n",
              "      background-color: #E2EBFA;\n",
              "      box-shadow: 0px 1px 2px rgba(60, 64, 67, 0.3), 0px 1px 3px 1px rgba(60, 64, 67, 0.15);\n",
              "      fill: #174EA6;\n",
              "    }\n",
              "\n",
              "    [theme=dark] .colab-df-convert {\n",
              "      background-color: #3B4455;\n",
              "      fill: #D2E3FC;\n",
              "    }\n",
              "\n",
              "    [theme=dark] .colab-df-convert:hover {\n",
              "      background-color: #434B5C;\n",
              "      box-shadow: 0px 1px 3px 1px rgba(0, 0, 0, 0.15);\n",
              "      filter: drop-shadow(0px 1px 2px rgba(0, 0, 0, 0.3));\n",
              "      fill: #FFFFFF;\n",
              "    }\n",
              "  </style>\n",
              "\n",
              "      <script>\n",
              "        const buttonEl =\n",
              "          document.querySelector('#df-9d654cb2-1d23-4b2c-a41d-6191dd27cd1c button.colab-df-convert');\n",
              "        buttonEl.style.display =\n",
              "          google.colab.kernel.accessAllowed ? 'block' : 'none';\n",
              "\n",
              "        async function convertToInteractive(key) {\n",
              "          const element = document.querySelector('#df-9d654cb2-1d23-4b2c-a41d-6191dd27cd1c');\n",
              "          const dataTable =\n",
              "            await google.colab.kernel.invokeFunction('convertToInteractive',\n",
              "                                                     [key], {});\n",
              "          if (!dataTable) return;\n",
              "\n",
              "          const docLinkHtml = 'Like what you see? Visit the ' +\n",
              "            '<a target=\"_blank\" href=https://colab.research.google.com/notebooks/data_table.ipynb>data table notebook</a>'\n",
              "            + ' to learn more about interactive tables.';\n",
              "          element.innerHTML = '';\n",
              "          dataTable['output_type'] = 'display_data';\n",
              "          await google.colab.output.renderOutput(dataTable, element);\n",
              "          const docLink = document.createElement('div');\n",
              "          docLink.innerHTML = docLinkHtml;\n",
              "          element.appendChild(docLink);\n",
              "        }\n",
              "      </script>\n",
              "    </div>\n",
              "  </div>\n"
            ]
          },
          "metadata": {},
          "execution_count": 24
        }
      ]
    },
    {
      "cell_type": "markdown",
      "source": [
        "Если вес у признака положительный, то признак вносит положительный вклад в ответ, то есть чем больше значение признака, тем больше это дает вклад в положительный класс объекта и наоборот."
      ],
      "metadata": {
        "id": "52qZjNAHix1M"
      }
    },
    {
      "cell_type": "markdown",
      "source": [
        "## Сохранение результатов экспериментов\n",
        "\n",
        "Что сохраняем?\n",
        "\n",
        "* Предсказания модели\n",
        "* Саму модель"
      ],
      "metadata": {
        "id": "_ezdQM9tTcW6"
      }
    },
    {
      "cell_type": "markdown",
      "source": [
        "Сначала сохраним предсказания модели в файл:"
      ],
      "metadata": {
        "id": "ACp_KXUatce-"
      }
    },
    {
      "cell_type": "code",
      "source": [
        "Xtest['predictions'] = probs_churn\n",
        "\n",
        "Xtest[['predictions']].to_csv(\"PredictionsChurn.csv\", index=False)"
      ],
      "metadata": {
        "id": "ouz9PHNZtLnb"
      },
      "execution_count": null,
      "outputs": []
    },
    {
      "cell_type": "markdown",
      "source": [
        "Теперь сохраним саму модель:"
      ],
      "metadata": {
        "id": "oC9ZLJi0tftb"
      }
    },
    {
      "cell_type": "code",
      "source": [
        "import pickle\n",
        "\n",
        "with open('model.pickle', 'wb') as f:\n",
        "    pickle.dump(model, f)\n",
        "\n",
        "# а так модель можно загрузить из файла:\n",
        "# with open('filename.pickle', 'rb') as f:\n",
        "#     model = pickle.load(f)"
      ],
      "metadata": {
        "id": "3HBU7ogWtfP6"
      },
      "execution_count": null,
      "outputs": []
    }
  ],
  "metadata": {
    "kernelspec": {
      "display_name": "Python 3",
      "language": "python",
      "name": "python3"
    },
    "language_info": {
      "codemirror_mode": {
        "name": "ipython",
        "version": 3
      },
      "file_extension": ".py",
      "mimetype": "text/x-python",
      "name": "python",
      "nbconvert_exporter": "python",
      "pygments_lexer": "ipython3",
      "version": "3.7.6"
    },
    "colab": {
      "provenance": [],
      "include_colab_link": true
    }
  },
  "nbformat": 4,
  "nbformat_minor": 0
}