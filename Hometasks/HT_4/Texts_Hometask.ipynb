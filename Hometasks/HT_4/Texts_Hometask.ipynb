{
  "nbformat": 4,
  "nbformat_minor": 0,
  "metadata": {
    "kernelspec": {
      "name": "python3",
      "display_name": "Python 3"
    },
    "colab": {
      "provenance": [],
      "include_colab_link": true
    },
    "language_info": {
      "name": "python"
    }
  },
  "cells": [
    {
      "cell_type": "markdown",
      "metadata": {
        "id": "view-in-github",
        "colab_type": "text"
      },
      "source": [
        "<a href=\"https://colab.research.google.com/github/Murcha1990/Raiffaizen_ML_summer2023/blob/main/Hometasks/HT_4/Texts_Hometask.ipynb\" target=\"_parent\"><img src=\"https://colab.research.google.com/assets/colab-badge.svg\" alt=\"Open In Colab\"/></a>"
      ]
    },
    {
      "cell_type": "code",
      "metadata": {
        "id": "6FWeD_Wdq6dJ"
      },
      "source": [
        "import pandas as pd\n",
        "import json\n",
        "import numpy as np\n",
        "from sklearn.linear_model import LogisticRegression, LogisticRegressionCV\n",
        "from sklearn.linear_model import LinearRegression, Ridge\n",
        "from sklearn.model_selection import train_test_split, GridSearchCV\n",
        "from sklearn.metrics import accuracy_score, r2_score\n",
        "from sklearn.metrics import classification_report\n",
        "from sklearn.feature_extraction.text import TfidfVectorizer\n",
        "%config IPCompleter.greedy = True\n",
        "import matplotlib.pyplot as plt\n",
        "%matplotlib inline"
      ],
      "execution_count": null,
      "outputs": []
    },
    {
      "cell_type": "markdown",
      "source": [
        "# Задание\n",
        "\n",
        "Считайте из файла jobs.csv первые 100_000 строк и выведите на экран первые 10 строк таблицы.\n",
        "\n",
        "Данные для задачи можно скачать здесь: https://disk.yandex.ru/d/jGRWbOPYb-COSA"
      ],
      "metadata": {
        "id": "7tj2nfCucY-f"
      }
    },
    {
      "cell_type": "code",
      "metadata": {
        "id": "jt_-J8ONq6dV"
      },
      "source": [
        "df = # ваш код здесь"
      ],
      "execution_count": null,
      "outputs": []
    },
    {
      "cell_type": "code",
      "source": [
        "# ваш код здесь"
      ],
      "metadata": {
        "id": "jPz_HS89QKpa"
      },
      "execution_count": 1,
      "outputs": []
    },
    {
      "cell_type": "markdown",
      "source": [
        "## Задание\n",
        "\n",
        "Постройте гистограмму распределения целевой переменной - это столбец `SalaryNormalized`."
      ],
      "metadata": {
        "id": "LRGX2D69ciKV"
      }
    },
    {
      "cell_type": "code",
      "metadata": {
        "id": "GL2x03rPq6dp"
      },
      "source": [
        "# ваш код здесь"
      ],
      "execution_count": 2,
      "outputs": []
    },
    {
      "cell_type": "markdown",
      "source": [
        "## Задание\n",
        "\n",
        "Для каждой категории профессий (столбец `Category`) вычислите среднюю зарплату.\n",
        "\n",
        "Отсортируйте результаты в порядке убывания средней зарплаты."
      ],
      "metadata": {
        "id": "1UvYVDWmcrob"
      }
    },
    {
      "cell_type": "code",
      "metadata": {
        "scrolled": true,
        "id": "lok29JWbq6d1"
      },
      "source": [
        "# ваш код здесь"
      ],
      "execution_count": 3,
      "outputs": []
    },
    {
      "cell_type": "markdown",
      "source": [
        "Прологарифмируем целевую переменную."
      ],
      "metadata": {
        "id": "33GR__CVdHCH"
      }
    },
    {
      "cell_type": "code",
      "metadata": {
        "id": "h2jcGJ88q6d5",
        "colab": {
          "base_uri": "https://localhost:8080/",
          "height": 450
        },
        "outputId": "97b4058c-932e-48e7-99cb-bf46207cdc31"
      },
      "source": [
        "plt.hist(np.log(df.SalaryNormalized), bins=70)\n",
        "plt.show()"
      ],
      "execution_count": null,
      "outputs": [
        {
          "output_type": "display_data",
          "data": {
            "text/plain": [
              "<Figure size 640x480 with 1 Axes>"
            ],
            "image/png": "[encoded data removed]"
          },
          "metadata": {}
        }
      ]
    },
    {
      "cell_type": "markdown",
      "source": [
        "Она стала иметь распределение, более похожее на нормальное - это для нас удобно."
      ],
      "metadata": {
        "id": "-Rq39_eJdKfY"
      }
    },
    {
      "cell_type": "markdown",
      "source": [
        "## Задание\n",
        "\n",
        "При помощи TfidfVectorizer с гиперпараметрами\n",
        "`min_df=5, max_df=1.0, ngram_range=(1, 1)`\n",
        "закодируйте столбец с описанием вакансий (`FullDescription`).\n",
        "\n",
        "Преобразованный столбец `FullDescription` сохраните в переменную `descr`."
      ],
      "metadata": {
        "id": "zz4VpKNZdUhC"
      }
    },
    {
      "cell_type": "code",
      "metadata": {
        "id": "9JWQoeQ4q6d9"
      },
      "source": [
        "# ваш код здесь"
      ],
      "execution_count": null,
      "outputs": []
    },
    {
      "cell_type": "markdown",
      "source": [
        "## Задание\n",
        "\n",
        "При помощи `train_test_split` разбейте данные на тренировочную и тестовую части:\n",
        "\n",
        "* в качестве матрицы признаков используйте закодированные описания вакансий `descr`\n",
        "\n",
        "* вектор ответов - `np.log(df[\"SalaryNormalized\"])`\n",
        "\n",
        "В тест отправьте 20% данных, зафиксируйте `random_state=42`."
      ],
      "metadata": {
        "id": "ksMoyZqLd6CS"
      }
    },
    {
      "cell_type": "code",
      "metadata": {
        "id": "zdvN9Lzrq6eK"
      },
      "source": [
        "# ваш код здесь"
      ],
      "execution_count": 4,
      "outputs": []
    },
    {
      "cell_type": "markdown",
      "source": [
        "## Задание\n",
        "\n",
        "Обучите Ridge-регрессию (с гиперпараметрами по умолчанию) на тренировочных данных и выведите качество модели ($R^2$) на трейне и на тесте."
      ],
      "metadata": {
        "id": "CyA3WyYXeRgm"
      }
    },
    {
      "cell_type": "code",
      "metadata": {
        "id": "SfJqYav-q6eN"
      },
      "source": [
        "# ваш код здесь"
      ],
      "execution_count": 5,
      "outputs": []
    },
    {
      "cell_type": "markdown",
      "source": [
        "Посмотрим как работает ваша модель.\n",
        "\n",
        "Так как мы обучали ее на логарифмированной зарплате, то от предсказания надо взять экспоненту (обратное преобразование).\n",
        "\n",
        "Ниже `clf` - это обученная модель, а `tfidf` - обученный TfIdfVectorizer (у вас тут могут быть другие названия)."
      ],
      "metadata": {
        "id": "a_NDEWvdef4g"
      }
    },
    {
      "cell_type": "code",
      "metadata": {
        "id": "aKFK0-jcq6eS",
        "colab": {
          "base_uri": "https://localhost:8080/"
        },
        "outputId": "c027c161-47a5-4918-a625-d39130a49fd0"
      },
      "source": [
        "np.exp(clf.predict(tfidf.transform([u\"director\"])))"
      ],
      "execution_count": null,
      "outputs": [
        {
          "output_type": "execute_result",
          "data": {
            "text/plain": [
              "array([109137.47817277])"
            ]
          },
          "metadata": {},
          "execution_count": 32
        }
      ]
    },
    {
      "cell_type": "code",
      "metadata": {
        "id": "4FSKQlcfq6eV",
        "colab": {
          "base_uri": "https://localhost:8080/"
        },
        "outputId": "0e7d67de-f80d-42ad-8623-613d7a79e15d"
      },
      "source": [
        "np.exp(clf.predict(tfidf.transform([u\"manager\"])))"
      ],
      "execution_count": null,
      "outputs": [
        {
          "output_type": "execute_result",
          "data": {
            "text/plain": [
              "array([64883.08506])"
            ]
          },
          "metadata": {},
          "execution_count": 33
        }
      ]
    },
    {
      "cell_type": "markdown",
      "source": [
        "## Задание\n",
        "\n",
        "Поэкспериментируйте с моделью. Вычислите предсказываемую моделью зарплату:\n",
        "\n",
        "* junior window cleaner\n",
        "* chief window cleaner\n",
        "* chief window cleaner and big data"
      ],
      "metadata": {
        "id": "vPoe7mCdfAaN"
      }
    },
    {
      "cell_type": "code",
      "metadata": {
        "id": "2rYS04Ceq6eb"
      },
      "source": [
        "# ваш код здесь"
      ],
      "execution_count": 6,
      "outputs": []
    },
    {
      "cell_type": "markdown",
      "source": [
        "## Задание\n",
        "\n",
        "Выведите на экран в виде pd.DataFrame топ-10 признаков с наибольшим положительным весом, а затем топ-10 признаков с наибольшим отрицательным весом."
      ],
      "metadata": {
        "id": "ESi5iam9fRgv"
      }
    },
    {
      "cell_type": "code",
      "metadata": {
        "id": "NYI_RLZmq6eo"
      },
      "source": [
        "# ваш код здесь"
      ],
      "execution_count": 7,
      "outputs": []
    },
    {
      "cell_type": "markdown",
      "source": [
        "## Бонус\n",
        "\n",
        "Поэкспериментируйте с настройками:\n",
        "\n",
        "* можно настраивать гиперпараметры в Tf-Idf кодировщике (или попробовать CountVectorizer)\n",
        "\n",
        "* можно настраивать (при помощи GridSearchCV) гиперпараметр регуляризации `C` у Ridge-регрессии (или попробовать Lasso-регрессию).\n",
        "\n",
        "Ваша цель - добиться наилучшего качества $R^2$ на тестовых данных."
      ],
      "metadata": {
        "id": "AJYfUrwSfir8"
      }
    },
    {
      "cell_type": "code",
      "source": [
        "# ваш код здесь"
      ],
      "metadata": {
        "id": "T2noqQlHwqTl"
      },
      "execution_count": null,
      "outputs": []
    }
  ]
}